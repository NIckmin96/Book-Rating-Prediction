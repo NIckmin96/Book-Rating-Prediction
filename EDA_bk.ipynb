{
 "cells": [
  {
   "cell_type": "code",
   "execution_count": 3,
   "metadata": {},
   "outputs": [
    {
     "name": "stdout",
     "output_type": "stream",
     "text": [
      "Requirement already satisfied: matplotlib in /opt/conda/lib/python3.8/site-packages (3.6.1)\n",
      "Requirement already satisfied: kiwisolver>=1.0.1 in /opt/conda/lib/python3.8/site-packages (from matplotlib) (1.4.4)\n",
      "Requirement already satisfied: packaging>=20.0 in /opt/conda/lib/python3.8/site-packages (from matplotlib) (21.3)\n",
      "Requirement already satisfied: python-dateutil>=2.7 in /opt/conda/lib/python3.8/site-packages (from matplotlib) (2.8.2)\n",
      "Requirement already satisfied: contourpy>=1.0.1 in /opt/conda/lib/python3.8/site-packages (from matplotlib) (1.0.5)\n",
      "Requirement already satisfied: pillow>=6.2.0 in /opt/conda/lib/python3.8/site-packages (from matplotlib) (8.1.0)\n",
      "Requirement already satisfied: fonttools>=4.22.0 in /opt/conda/lib/python3.8/site-packages (from matplotlib) (4.38.0)\n",
      "Requirement already satisfied: cycler>=0.10 in /opt/conda/lib/python3.8/site-packages (from matplotlib) (0.11.0)\n",
      "Requirement already satisfied: numpy>=1.19 in /opt/conda/lib/python3.8/site-packages (from matplotlib) (1.23.4)\n",
      "Requirement already satisfied: pyparsing>=2.2.1 in /opt/conda/lib/python3.8/site-packages (from matplotlib) (3.0.9)\n",
      "Requirement already satisfied: six>=1.5 in /opt/conda/lib/python3.8/site-packages (from python-dateutil>=2.7->matplotlib) (1.15.0)\n",
      "Collecting seaborn\n",
      "  Downloading seaborn-0.12.1-py3-none-any.whl (288 kB)\n",
      "\u001b[K     |████████████████████████████████| 288 kB 21.1 MB/s eta 0:00:01\n",
      "\u001b[?25hRequirement already satisfied: numpy>=1.17 in /opt/conda/lib/python3.8/site-packages (from seaborn) (1.23.4)\n",
      "Requirement already satisfied: pandas>=0.25 in /opt/conda/lib/python3.8/site-packages (from seaborn) (1.5.1)\n",
      "Collecting matplotlib!=3.6.1,>=3.1\n",
      "  Downloading matplotlib-3.6.0-cp38-cp38-manylinux_2_12_x86_64.manylinux2010_x86_64.whl (9.4 MB)\n",
      "\u001b[K     |████████████████████████████████| 9.4 MB 84.1 MB/s eta 0:00:01     |██                              | 573 kB 84.1 MB/s eta 0:00:01\n",
      "\u001b[?25hRequirement already satisfied: python-dateutil>=2.8.1 in /opt/conda/lib/python3.8/site-packages (from pandas>=0.25->seaborn) (2.8.2)\n",
      "Requirement already satisfied: pytz>=2020.1 in /opt/conda/lib/python3.8/site-packages (from pandas>=0.25->seaborn) (2020.5)\n",
      "Requirement already satisfied: cycler>=0.10 in /opt/conda/lib/python3.8/site-packages (from matplotlib!=3.6.1,>=3.1->seaborn) (0.11.0)\n",
      "Requirement already satisfied: contourpy>=1.0.1 in /opt/conda/lib/python3.8/site-packages (from matplotlib!=3.6.1,>=3.1->seaborn) (1.0.5)\n",
      "Requirement already satisfied: pillow>=6.2.0 in /opt/conda/lib/python3.8/site-packages (from matplotlib!=3.6.1,>=3.1->seaborn) (8.1.0)\n",
      "Requirement already satisfied: pyparsing>=2.2.1 in /opt/conda/lib/python3.8/site-packages (from matplotlib!=3.6.1,>=3.1->seaborn) (3.0.9)\n",
      "Requirement already satisfied: packaging>=20.0 in /opt/conda/lib/python3.8/site-packages (from matplotlib!=3.6.1,>=3.1->seaborn) (21.3)\n",
      "Requirement already satisfied: fonttools>=4.22.0 in /opt/conda/lib/python3.8/site-packages (from matplotlib!=3.6.1,>=3.1->seaborn) (4.38.0)\n",
      "Requirement already satisfied: kiwisolver>=1.0.1 in /opt/conda/lib/python3.8/site-packages (from matplotlib!=3.6.1,>=3.1->seaborn) (1.4.4)\n",
      "Requirement already satisfied: six>=1.5 in /opt/conda/lib/python3.8/site-packages (from python-dateutil>=2.8.1->pandas>=0.25->seaborn) (1.15.0)\n",
      "Installing collected packages: matplotlib, seaborn\n",
      "  Attempting uninstall: matplotlib\n",
      "    Found existing installation: matplotlib 3.6.1\n",
      "    Uninstalling matplotlib-3.6.1:\n",
      "      Successfully uninstalled matplotlib-3.6.1\n",
      "Successfully installed matplotlib-3.6.0 seaborn-0.12.1\n"
     ]
    }
   ],
   "source": [
    "!pip install matplotlib\n",
    "!pip install seaborn"
   ]
  },
  {
   "cell_type": "code",
   "execution_count": 2,
   "metadata": {},
   "outputs": [],
   "source": [
    "import pandas as pd\n",
    "import numpy as np\n",
    "import matplotlib.pyplot as plt\n",
    "import seaborn as sns\n",
    "%matplotlib inline\n",
    "import warnings\n",
    "warnings.filterwarnings('ignore')"
   ]
  },
  {
   "cell_type": "code",
   "execution_count": 11,
   "metadata": {},
   "outputs": [],
   "source": [
    "train = pd.read_csv('./data/train_ratings.csv')\n",
    "users = pd.read_csv('./data/users.csv')\n",
    "books = pd.read_csv('./data/books.csv')"
   ]
  },
  {
   "cell_type": "code",
   "execution_count": 8,
   "metadata": {},
   "outputs": [
    {
     "data": {
      "text/html": [
       "<div>\n",
       "<style scoped>\n",
       "    .dataframe tbody tr th:only-of-type {\n",
       "        vertical-align: middle;\n",
       "    }\n",
       "\n",
       "    .dataframe tbody tr th {\n",
       "        vertical-align: top;\n",
       "    }\n",
       "\n",
       "    .dataframe thead th {\n",
       "        text-align: right;\n",
       "    }\n",
       "</style>\n",
       "<table border=\"1\" class=\"dataframe\">\n",
       "  <thead>\n",
       "    <tr style=\"text-align: right;\">\n",
       "      <th></th>\n",
       "      <th>book_author</th>\n",
       "      <th>book_title</th>\n",
       "      <th>img_path</th>\n",
       "      <th>img_url</th>\n",
       "      <th>isbn</th>\n",
       "      <th>language</th>\n",
       "      <th>publisher</th>\n",
       "      <th>summary</th>\n",
       "      <th>year_of_publication</th>\n",
       "    </tr>\n",
       "  </thead>\n",
       "  <tbody>\n",
       "    <tr>\n",
       "      <th>0</th>\n",
       "      <td>Richard Bruce Wright</td>\n",
       "      <td>Clara Callan</td>\n",
       "      <td>images/0002005018.01.THUMBZZZ.jpg</td>\n",
       "      <td>http://images.amazon.com/images/P/0002005018.0...</td>\n",
       "      <td>0002005018</td>\n",
       "      <td>en</td>\n",
       "      <td>HarperFlamingo Canada</td>\n",
       "      <td>In a small town in Canada, Clara Callan reluct...</td>\n",
       "      <td>2001.0</td>\n",
       "    </tr>\n",
       "    <tr>\n",
       "      <th>1</th>\n",
       "      <td>Carlo D'Este</td>\n",
       "      <td>Decision in Normandy</td>\n",
       "      <td>images/0060973129.01.THUMBZZZ.jpg</td>\n",
       "      <td>http://images.amazon.com/images/P/0060973129.0...</td>\n",
       "      <td>0060973129</td>\n",
       "      <td>en</td>\n",
       "      <td>HarperPerennial</td>\n",
       "      <td>Here, for the first time in paperback, is an o...</td>\n",
       "      <td>1991.0</td>\n",
       "    </tr>\n",
       "    <tr>\n",
       "      <th>2</th>\n",
       "      <td>Gina Bari Kolata</td>\n",
       "      <td>Flu: The Story of the Great Influenza Pandemic...</td>\n",
       "      <td>images/0374157065.01.THUMBZZZ.jpg</td>\n",
       "      <td>http://images.amazon.com/images/P/0374157065.0...</td>\n",
       "      <td>0374157065</td>\n",
       "      <td>en</td>\n",
       "      <td>Farrar Straus Giroux</td>\n",
       "      <td>Describes the great flu epidemic of 1918, an o...</td>\n",
       "      <td>1999.0</td>\n",
       "    </tr>\n",
       "    <tr>\n",
       "      <th>3</th>\n",
       "      <td>Amy Tan</td>\n",
       "      <td>The Kitchen God's Wife</td>\n",
       "      <td>images/0399135782.01.THUMBZZZ.jpg</td>\n",
       "      <td>http://images.amazon.com/images/P/0399135782.0...</td>\n",
       "      <td>0399135782</td>\n",
       "      <td>en</td>\n",
       "      <td>Putnam Pub Group</td>\n",
       "      <td>A Chinese immigrant who is convinced she is dy...</td>\n",
       "      <td>1991.0</td>\n",
       "    </tr>\n",
       "    <tr>\n",
       "      <th>4</th>\n",
       "      <td>Robert Cowley</td>\n",
       "      <td>What If?: The World's Foremost Military Histor...</td>\n",
       "      <td>images/0425176428.01.THUMBZZZ.jpg</td>\n",
       "      <td>http://images.amazon.com/images/P/0425176428.0...</td>\n",
       "      <td>0425176428</td>\n",
       "      <td>en</td>\n",
       "      <td>Berkley Publishing Group</td>\n",
       "      <td>Essays by respected military historians, inclu...</td>\n",
       "      <td>2000.0</td>\n",
       "    </tr>\n",
       "    <tr>\n",
       "      <th>...</th>\n",
       "      <td>...</td>\n",
       "      <td>...</td>\n",
       "      <td>...</td>\n",
       "      <td>...</td>\n",
       "      <td>...</td>\n",
       "      <td>...</td>\n",
       "      <td>...</td>\n",
       "      <td>...</td>\n",
       "      <td>...</td>\n",
       "    </tr>\n",
       "    <tr>\n",
       "      <th>149565</th>\n",
       "      <td>P.J. O'Rourke</td>\n",
       "      <td>The Bachelor Home Companion: A Practical Guide...</td>\n",
       "      <td>images/067161746X.01.THUMBZZZ.jpg</td>\n",
       "      <td>http://images.amazon.com/images/P/067161746X.0...</td>\n",
       "      <td>067161746X</td>\n",
       "      <td>en</td>\n",
       "      <td>Pocket Books</td>\n",
       "      <td>A tongue-in-cheek survival guide for single pe...</td>\n",
       "      <td>1987.0</td>\n",
       "    </tr>\n",
       "    <tr>\n",
       "      <th>149566</th>\n",
       "      <td>Sam Lightner</td>\n",
       "      <td>All Elevations Unknown: An Adventure in the He...</td>\n",
       "      <td>images/0767907566.01.THUMBZZZ.jpg</td>\n",
       "      <td>http://images.amazon.com/images/P/0767907566.0...</td>\n",
       "      <td>0767907566</td>\n",
       "      <td>en</td>\n",
       "      <td>Broadway Books</td>\n",
       "      <td>A daring twist on the travel-adventure genre t...</td>\n",
       "      <td>2001.0</td>\n",
       "    </tr>\n",
       "    <tr>\n",
       "      <th>149567</th>\n",
       "      <td>Claude Dooley</td>\n",
       "      <td>Why stop?: A guide to Texas historical roadsid...</td>\n",
       "      <td>images/0884159221.01.THUMBZZZ.jpg</td>\n",
       "      <td>http://images.amazon.com/images/P/0884159221.0...</td>\n",
       "      <td>0884159221</td>\n",
       "      <td>NaN</td>\n",
       "      <td>Lone Star Books</td>\n",
       "      <td>NaN</td>\n",
       "      <td>1985.0</td>\n",
       "    </tr>\n",
       "    <tr>\n",
       "      <th>149568</th>\n",
       "      <td>Jeremy Lloyd</td>\n",
       "      <td>The Are You Being Served? Stories: 'Camping In...</td>\n",
       "      <td>images/0912333022.01.THUMBZZZ.jpg</td>\n",
       "      <td>http://images.amazon.com/images/P/0912333022.0...</td>\n",
       "      <td>0912333022</td>\n",
       "      <td>en</td>\n",
       "      <td>Kqed Books</td>\n",
       "      <td>These hilarious stories by the creator of publ...</td>\n",
       "      <td>1997.0</td>\n",
       "    </tr>\n",
       "    <tr>\n",
       "      <th>149569</th>\n",
       "      <td>Mapsco</td>\n",
       "      <td>Dallas Street Map Guide and Directory, 2000 Ed...</td>\n",
       "      <td>images/1569661057.01.THUMBZZZ.jpg</td>\n",
       "      <td>http://images.amazon.com/images/P/1569661057.0...</td>\n",
       "      <td>1569661057</td>\n",
       "      <td>NaN</td>\n",
       "      <td>American Map Corporation</td>\n",
       "      <td>NaN</td>\n",
       "      <td>1999.0</td>\n",
       "    </tr>\n",
       "  </tbody>\n",
       "</table>\n",
       "<p>149570 rows × 9 columns</p>\n",
       "</div>"
      ],
      "text/plain": [
       "                 book_author  \\\n",
       "0       Richard Bruce Wright   \n",
       "1               Carlo D'Este   \n",
       "2           Gina Bari Kolata   \n",
       "3                    Amy Tan   \n",
       "4              Robert Cowley   \n",
       "...                      ...   \n",
       "149565         P.J. O'Rourke   \n",
       "149566          Sam Lightner   \n",
       "149567         Claude Dooley   \n",
       "149568          Jeremy Lloyd   \n",
       "149569                Mapsco   \n",
       "\n",
       "                                               book_title  \\\n",
       "0                                            Clara Callan   \n",
       "1                                    Decision in Normandy   \n",
       "2       Flu: The Story of the Great Influenza Pandemic...   \n",
       "3                                  The Kitchen God's Wife   \n",
       "4       What If?: The World's Foremost Military Histor...   \n",
       "...                                                   ...   \n",
       "149565  The Bachelor Home Companion: A Practical Guide...   \n",
       "149566  All Elevations Unknown: An Adventure in the He...   \n",
       "149567  Why stop?: A guide to Texas historical roadsid...   \n",
       "149568  The Are You Being Served? Stories: 'Camping In...   \n",
       "149569  Dallas Street Map Guide and Directory, 2000 Ed...   \n",
       "\n",
       "                                 img_path  \\\n",
       "0       images/0002005018.01.THUMBZZZ.jpg   \n",
       "1       images/0060973129.01.THUMBZZZ.jpg   \n",
       "2       images/0374157065.01.THUMBZZZ.jpg   \n",
       "3       images/0399135782.01.THUMBZZZ.jpg   \n",
       "4       images/0425176428.01.THUMBZZZ.jpg   \n",
       "...                                   ...   \n",
       "149565  images/067161746X.01.THUMBZZZ.jpg   \n",
       "149566  images/0767907566.01.THUMBZZZ.jpg   \n",
       "149567  images/0884159221.01.THUMBZZZ.jpg   \n",
       "149568  images/0912333022.01.THUMBZZZ.jpg   \n",
       "149569  images/1569661057.01.THUMBZZZ.jpg   \n",
       "\n",
       "                                                  img_url        isbn  \\\n",
       "0       http://images.amazon.com/images/P/0002005018.0...  0002005018   \n",
       "1       http://images.amazon.com/images/P/0060973129.0...  0060973129   \n",
       "2       http://images.amazon.com/images/P/0374157065.0...  0374157065   \n",
       "3       http://images.amazon.com/images/P/0399135782.0...  0399135782   \n",
       "4       http://images.amazon.com/images/P/0425176428.0...  0425176428   \n",
       "...                                                   ...         ...   \n",
       "149565  http://images.amazon.com/images/P/067161746X.0...  067161746X   \n",
       "149566  http://images.amazon.com/images/P/0767907566.0...  0767907566   \n",
       "149567  http://images.amazon.com/images/P/0884159221.0...  0884159221   \n",
       "149568  http://images.amazon.com/images/P/0912333022.0...  0912333022   \n",
       "149569  http://images.amazon.com/images/P/1569661057.0...  1569661057   \n",
       "\n",
       "       language                 publisher  \\\n",
       "0            en     HarperFlamingo Canada   \n",
       "1            en           HarperPerennial   \n",
       "2            en      Farrar Straus Giroux   \n",
       "3            en          Putnam Pub Group   \n",
       "4            en  Berkley Publishing Group   \n",
       "...         ...                       ...   \n",
       "149565       en              Pocket Books   \n",
       "149566       en            Broadway Books   \n",
       "149567      NaN           Lone Star Books   \n",
       "149568       en                Kqed Books   \n",
       "149569      NaN  American Map Corporation   \n",
       "\n",
       "                                                  summary  year_of_publication  \n",
       "0       In a small town in Canada, Clara Callan reluct...               2001.0  \n",
       "1       Here, for the first time in paperback, is an o...               1991.0  \n",
       "2       Describes the great flu epidemic of 1918, an o...               1999.0  \n",
       "3       A Chinese immigrant who is convinced she is dy...               1991.0  \n",
       "4       Essays by respected military historians, inclu...               2000.0  \n",
       "...                                                   ...                  ...  \n",
       "149565  A tongue-in-cheek survival guide for single pe...               1987.0  \n",
       "149566  A daring twist on the travel-adventure genre t...               2001.0  \n",
       "149567                                                NaN               1985.0  \n",
       "149568  These hilarious stories by the creator of publ...               1997.0  \n",
       "149569                                                NaN               1999.0  \n",
       "\n",
       "[149570 rows x 9 columns]"
      ]
     },
     "execution_count": 8,
     "metadata": {},
     "output_type": "execute_result"
    }
   ],
   "source": [
    "books[books.columns.difference(['category'])]"
   ]
  },
  {
   "cell_type": "code",
   "execution_count": 28,
   "metadata": {},
   "outputs": [
    {
     "data": {
      "text/plain": [
       "10065"
      ]
     },
     "execution_count": 28,
     "metadata": {},
     "output_type": "execute_result"
    }
   ],
   "source": [
    "books[['book_title','book_author']].duplicated().sum()"
   ]
  },
  {
   "cell_type": "code",
   "execution_count": 37,
   "metadata": {},
   "outputs": [
    {
     "data": {
      "text/plain": [
       "array([nan,\n",
       "       'A nightmare of evil grips a small Maine town when a mysterious\\nstranger appears'],\n",
       "      dtype=object)"
      ]
     },
     "execution_count": 37,
     "metadata": {},
     "output_type": "execute_result"
    }
   ],
   "source": [
    "books[books[['book_title','book_author']].duplicated()].groupby(['book_title','book_author'])['summary'].unique()"
   ]
  },
  {
   "cell_type": "code",
   "execution_count": 5,
   "metadata": {},
   "outputs": [
    {
     "name": "stdout",
     "output_type": "stream",
     "text": [
      "<class 'pandas.core.frame.DataFrame'>\n",
      "RangeIndex: 68092 entries, 0 to 68091\n",
      "Data columns (total 3 columns):\n",
      " #   Column    Non-Null Count  Dtype  \n",
      "---  ------    --------------  -----  \n",
      " 0   user_id   68092 non-null  int64  \n",
      " 1   location  68092 non-null  object \n",
      " 2   age       40259 non-null  float64\n",
      "dtypes: float64(1), int64(1), object(1)\n",
      "memory usage: 1.6+ MB\n"
     ]
    }
   ],
   "source": [
    "users.info()"
   ]
  },
  {
   "cell_type": "code",
   "execution_count": 46,
   "metadata": {},
   "outputs": [
    {
     "data": {
      "text/plain": [
       "array([ 1.,  2.,  3., nan])"
      ]
     },
     "execution_count": 46,
     "metadata": {},
     "output_type": "execute_result"
    }
   ],
   "source": [
    "arr =np.array([1,2,3,np.nan])\n",
    "df = pd.DataFrame(arr)\n",
    "df[0].unique()\n"
   ]
  },
  {
   "cell_type": "code",
   "execution_count": 42,
   "metadata": {},
   "outputs": [
    {
     "data": {
      "text/plain": [
       "isbn                   0\n",
       "book_title             0\n",
       "book_author            0\n",
       "year_of_publication    0\n",
       "publisher              0\n",
       "img_url                0\n",
       "language               0\n",
       "category               0\n",
       "summary                0\n",
       "img_path               0\n",
       "dtype: int64"
      ]
     },
     "execution_count": 42,
     "metadata": {},
     "output_type": "execute_result"
    }
   ],
   "source": [
    "books[books.category.notnull()].isnull().sum()"
   ]
  },
  {
   "cell_type": "code",
   "execution_count": 6,
   "metadata": {},
   "outputs": [
    {
     "name": "stdout",
     "output_type": "stream",
     "text": [
      "<class 'pandas.core.frame.DataFrame'>\n",
      "RangeIndex: 149570 entries, 0 to 149569\n",
      "Data columns (total 10 columns):\n",
      " #   Column               Non-Null Count   Dtype  \n",
      "---  ------               --------------   -----  \n",
      " 0   isbn                 149570 non-null  object \n",
      " 1   book_title           149570 non-null  object \n",
      " 2   book_author          149570 non-null  object \n",
      " 3   year_of_publication  149570 non-null  float64\n",
      " 4   publisher            149570 non-null  object \n",
      " 5   img_url              149570 non-null  object \n",
      " 6   language             82343 non-null   object \n",
      " 7   category             80719 non-null   object \n",
      " 8   summary              82343 non-null   object \n",
      " 9   img_path             149570 non-null  object \n",
      "dtypes: float64(1), object(9)\n",
      "memory usage: 11.4+ MB\n"
     ]
    }
   ],
   "source": [
    "books.info()"
   ]
  },
  {
   "cell_type": "code",
   "execution_count": 7,
   "metadata": {},
   "outputs": [
    {
     "name": "stdout",
     "output_type": "stream",
     "text": [
      "<class 'pandas.core.frame.DataFrame'>\n",
      "RangeIndex: 306795 entries, 0 to 306794\n",
      "Data columns (total 3 columns):\n",
      " #   Column   Non-Null Count   Dtype \n",
      "---  ------   --------------   ----- \n",
      " 0   user_id  306795 non-null  int64 \n",
      " 1   isbn     306795 non-null  object\n",
      " 2   rating   306795 non-null  int64 \n",
      "dtypes: int64(2), object(1)\n",
      "memory usage: 7.0+ MB\n"
     ]
    }
   ],
   "source": [
    "train.info()"
   ]
  },
  {
   "cell_type": "code",
   "execution_count": 42,
   "metadata": {},
   "outputs": [],
   "source": [
    "df = users.merge(train, how = 'left', on = 'user_id').merge(books, how = 'left', on =  'isbn')"
   ]
  },
  {
   "cell_type": "code",
   "execution_count": 43,
   "metadata": {},
   "outputs": [
    {
     "data": {
      "text/html": [
       "<div>\n",
       "<style scoped>\n",
       "    .dataframe tbody tr th:only-of-type {\n",
       "        vertical-align: middle;\n",
       "    }\n",
       "\n",
       "    .dataframe tbody tr th {\n",
       "        vertical-align: top;\n",
       "    }\n",
       "\n",
       "    .dataframe thead th {\n",
       "        text-align: right;\n",
       "    }\n",
       "</style>\n",
       "<table border=\"1\" class=\"dataframe\">\n",
       "  <thead>\n",
       "    <tr style=\"text-align: right;\">\n",
       "      <th></th>\n",
       "      <th>user_id</th>\n",
       "      <th>location</th>\n",
       "      <th>age</th>\n",
       "      <th>isbn</th>\n",
       "      <th>rating</th>\n",
       "      <th>book_title</th>\n",
       "      <th>book_author</th>\n",
       "      <th>year_of_publication</th>\n",
       "      <th>publisher</th>\n",
       "      <th>img_url</th>\n",
       "      <th>language</th>\n",
       "      <th>category</th>\n",
       "      <th>summary</th>\n",
       "      <th>img_path</th>\n",
       "    </tr>\n",
       "  </thead>\n",
       "  <tbody>\n",
       "    <tr>\n",
       "      <th>0</th>\n",
       "      <td>8</td>\n",
       "      <td>timmins, ontario, canada</td>\n",
       "      <td>NaN</td>\n",
       "      <td>0002005018</td>\n",
       "      <td>4.0</td>\n",
       "      <td>Clara Callan</td>\n",
       "      <td>Richard Bruce Wright</td>\n",
       "      <td>2001.0</td>\n",
       "      <td>HarperFlamingo Canada</td>\n",
       "      <td>http://images.amazon.com/images/P/0002005018.0...</td>\n",
       "      <td>en</td>\n",
       "      <td>['Actresses']</td>\n",
       "      <td>In a small town in Canada, Clara Callan reluct...</td>\n",
       "      <td>images/0002005018.01.THUMBZZZ.jpg</td>\n",
       "    </tr>\n",
       "    <tr>\n",
       "      <th>1</th>\n",
       "      <td>8</td>\n",
       "      <td>timmins, ontario, canada</td>\n",
       "      <td>NaN</td>\n",
       "      <td>074322678X</td>\n",
       "      <td>4.0</td>\n",
       "      <td>Where You'll Find Me: And Other Stories</td>\n",
       "      <td>Ann Beattie</td>\n",
       "      <td>2002.0</td>\n",
       "      <td>Scribner</td>\n",
       "      <td>http://images.amazon.com/images/P/074322678X.0...</td>\n",
       "      <td>en</td>\n",
       "      <td>['Fiction']</td>\n",
       "      <td>Now back in print, Ann Beattie&amp;#39;s finest sh...</td>\n",
       "      <td>images/074322678X.01.THUMBZZZ.jpg</td>\n",
       "    </tr>\n",
       "    <tr>\n",
       "      <th>2</th>\n",
       "      <td>8</td>\n",
       "      <td>timmins, ontario, canada</td>\n",
       "      <td>NaN</td>\n",
       "      <td>0887841740</td>\n",
       "      <td>2.0</td>\n",
       "      <td>The Middle Stories</td>\n",
       "      <td>Sheila Heti</td>\n",
       "      <td>2004.0</td>\n",
       "      <td>House of Anansi Press</td>\n",
       "      <td>http://images.amazon.com/images/P/0887841740.0...</td>\n",
       "      <td>NaN</td>\n",
       "      <td>NaN</td>\n",
       "      <td>NaN</td>\n",
       "      <td>images/0887841740.01.THUMBZZZ.jpg</td>\n",
       "    </tr>\n",
       "    <tr>\n",
       "      <th>3</th>\n",
       "      <td>8</td>\n",
       "      <td>timmins, ontario, canada</td>\n",
       "      <td>NaN</td>\n",
       "      <td>1552041778</td>\n",
       "      <td>2.0</td>\n",
       "      <td>Jane Doe</td>\n",
       "      <td>R. J. Kaiser</td>\n",
       "      <td>1999.0</td>\n",
       "      <td>Mira Books</td>\n",
       "      <td>http://images.amazon.com/images/P/1552041778.0...</td>\n",
       "      <td>NaN</td>\n",
       "      <td>NaN</td>\n",
       "      <td>NaN</td>\n",
       "      <td>images/1552041778.01.THUMBZZZ.jpg</td>\n",
       "    </tr>\n",
       "    <tr>\n",
       "      <th>4</th>\n",
       "      <td>8</td>\n",
       "      <td>timmins, ontario, canada</td>\n",
       "      <td>NaN</td>\n",
       "      <td>1567407781</td>\n",
       "      <td>6.0</td>\n",
       "      <td>The Witchfinder (Amos Walker Mystery Series)</td>\n",
       "      <td>Loren D. Estleman</td>\n",
       "      <td>1998.0</td>\n",
       "      <td>Brilliance Audio - Trade</td>\n",
       "      <td>http://images.amazon.com/images/P/1567407781.0...</td>\n",
       "      <td>NaN</td>\n",
       "      <td>NaN</td>\n",
       "      <td>NaN</td>\n",
       "      <td>images/1567407781.01.THUMBZZZ.jpg</td>\n",
       "    </tr>\n",
       "  </tbody>\n",
       "</table>\n",
       "</div>"
      ],
      "text/plain": [
       "   user_id                  location  age        isbn  rating  \\\n",
       "0        8  timmins, ontario, canada  NaN  0002005018     4.0   \n",
       "1        8  timmins, ontario, canada  NaN  074322678X     4.0   \n",
       "2        8  timmins, ontario, canada  NaN  0887841740     2.0   \n",
       "3        8  timmins, ontario, canada  NaN  1552041778     2.0   \n",
       "4        8  timmins, ontario, canada  NaN  1567407781     6.0   \n",
       "\n",
       "                                     book_title           book_author  \\\n",
       "0                                  Clara Callan  Richard Bruce Wright   \n",
       "1       Where You'll Find Me: And Other Stories           Ann Beattie   \n",
       "2                            The Middle Stories           Sheila Heti   \n",
       "3                                      Jane Doe          R. J. Kaiser   \n",
       "4  The Witchfinder (Amos Walker Mystery Series)     Loren D. Estleman   \n",
       "\n",
       "   year_of_publication                 publisher  \\\n",
       "0               2001.0     HarperFlamingo Canada   \n",
       "1               2002.0                  Scribner   \n",
       "2               2004.0     House of Anansi Press   \n",
       "3               1999.0                Mira Books   \n",
       "4               1998.0  Brilliance Audio - Trade   \n",
       "\n",
       "                                             img_url language       category  \\\n",
       "0  http://images.amazon.com/images/P/0002005018.0...       en  ['Actresses']   \n",
       "1  http://images.amazon.com/images/P/074322678X.0...       en    ['Fiction']   \n",
       "2  http://images.amazon.com/images/P/0887841740.0...      NaN            NaN   \n",
       "3  http://images.amazon.com/images/P/1552041778.0...      NaN            NaN   \n",
       "4  http://images.amazon.com/images/P/1567407781.0...      NaN            NaN   \n",
       "\n",
       "                                             summary  \\\n",
       "0  In a small town in Canada, Clara Callan reluct...   \n",
       "1  Now back in print, Ann Beattie&#39;s finest sh...   \n",
       "2                                                NaN   \n",
       "3                                                NaN   \n",
       "4                                                NaN   \n",
       "\n",
       "                            img_path  \n",
       "0  images/0002005018.01.THUMBZZZ.jpg  \n",
       "1  images/074322678X.01.THUMBZZZ.jpg  \n",
       "2  images/0887841740.01.THUMBZZZ.jpg  \n",
       "3  images/1552041778.01.THUMBZZZ.jpg  \n",
       "4  images/1567407781.01.THUMBZZZ.jpg  "
      ]
     },
     "execution_count": 43,
     "metadata": {},
     "output_type": "execute_result"
    }
   ],
   "source": [
    "df.head()"
   ]
  },
  {
   "attachments": {},
   "cell_type": "markdown",
   "metadata": {},
   "source": [
    "# Users.csv"
   ]
  },
  {
   "cell_type": "code",
   "execution_count": 3,
   "metadata": {},
   "outputs": [
    {
     "name": "stdout",
     "output_type": "stream",
     "text": [
      "<class 'pandas.core.frame.DataFrame'>\n",
      "RangeIndex: 68092 entries, 0 to 68091\n",
      "Data columns (total 3 columns):\n",
      " #   Column    Non-Null Count  Dtype  \n",
      "---  ------    --------------  -----  \n",
      " 0   user_id   68092 non-null  int64  \n",
      " 1   location  68092 non-null  object \n",
      " 2   age       40259 non-null  float64\n",
      "dtypes: float64(1), int64(1), object(1)\n",
      "memory usage: 1.6+ MB\n"
     ]
    }
   ],
   "source": [
    "users.info() # age 결측치 : 27833 : 약 41%"
   ]
  },
  {
   "cell_type": "code",
   "execution_count": 4,
   "metadata": {},
   "outputs": [
    {
     "data": {
      "text/plain": [
       "count    40259.000000\n",
       "mean        36.069873\n",
       "std         13.842571\n",
       "min          5.000000\n",
       "25%         25.000000\n",
       "50%         34.000000\n",
       "75%         45.000000\n",
       "max         99.000000\n",
       "Name: age, dtype: float64"
      ]
     },
     "execution_count": 4,
     "metadata": {},
     "output_type": "execute_result"
    }
   ],
   "source": [
    "users['age'].describe() # mean ~= median"
   ]
  },
  {
   "attachments": {},
   "cell_type": "markdown",
   "metadata": {},
   "source": [
    "## AGE"
   ]
  },
  {
   "cell_type": "code",
   "execution_count": 5,
   "metadata": {},
   "outputs": [
    {
     "data": {
      "text/plain": [
       "<AxesSubplot: >"
      ]
     },
     "execution_count": 5,
     "metadata": {},
     "output_type": "execute_result"
    },
    {
     "data": {
      "image/png": "[encoded data removed]",
      "text/plain": [
       "<Figure size 640x480 with 1 Axes>"
      ]
     },
     "metadata": {},
     "output_type": "display_data"
    }
   ],
   "source": [
    "users['age'].hist()"
   ]
  },
  {
   "attachments": {},
   "cell_type": "markdown",
   "metadata": {},
   "source": [
    "- 30, 40, 20, 50, 60 순\n",
    "- baseline 코드 처럼 mean값으로 처리하는 것에 문제는 없어보임"
   ]
  },
  {
   "cell_type": "code",
   "execution_count": 47,
   "metadata": {},
   "outputs": [
    {
     "name": "stdout",
     "output_type": "stream",
     "text": [
      "Collecting statsmodels\n",
      "  Downloading statsmodels-0.13.2-cp38-cp38-manylinux_2_17_x86_64.manylinux2014_x86_64.whl (9.9 MB)\n",
      "\u001b[K     |████████████████████████████████| 9.9 MB 20.0 MB/s eta 0:00:01\n",
      "\u001b[?25hCollecting patsy>=0.5.2\n",
      "  Downloading patsy-0.5.3-py2.py3-none-any.whl (233 kB)\n",
      "\u001b[K     |████████████████████████████████| 233 kB 91.8 MB/s eta 0:00:01\n",
      "\u001b[?25hRequirement already satisfied: numpy>=1.17 in /opt/conda/lib/python3.8/site-packages (from statsmodels) (1.23.4)\n",
      "Requirement already satisfied: packaging>=21.3 in /opt/conda/lib/python3.8/site-packages (from statsmodels) (21.3)\n",
      "Requirement already satisfied: scipy>=1.3 in /opt/conda/lib/python3.8/site-packages (from statsmodels) (1.9.3)\n",
      "Requirement already satisfied: pandas>=0.25 in /opt/conda/lib/python3.8/site-packages (from statsmodels) (1.5.1)\n",
      "Requirement already satisfied: six in /opt/conda/lib/python3.8/site-packages (from patsy>=0.5.2->statsmodels) (1.15.0)\n",
      "Requirement already satisfied: pyparsing!=3.0.5,>=2.0.2 in /opt/conda/lib/python3.8/site-packages (from packaging>=21.3->statsmodels) (3.0.9)\n",
      "Requirement already satisfied: python-dateutil>=2.8.1 in /opt/conda/lib/python3.8/site-packages (from pandas>=0.25->statsmodels) (2.8.2)\n",
      "Requirement already satisfied: pytz>=2020.1 in /opt/conda/lib/python3.8/site-packages (from pandas>=0.25->statsmodels) (2020.5)\n",
      "Installing collected packages: patsy, statsmodels\n",
      "Successfully installed patsy-0.5.3 statsmodels-0.13.2\n"
     ]
    }
   ],
   "source": [
    "!pip install statsmodels"
   ]
  },
  {
   "attachments": {},
   "cell_type": "markdown",
   "metadata": {},
   "source": [
    "## Age 분포"
   ]
  },
  {
   "cell_type": "code",
   "execution_count": 160,
   "metadata": {},
   "outputs": [],
   "source": [
    "# age grouping\n",
    "\n",
    "def age_grouping(age) : \n",
    "    if age < 20 : return 1\n",
    "    elif (20 <= age) & (age < 30) : return 2\n",
    "    elif (30 <= age) & (age < 40) : return 3\n",
    "    elif (40 <= age) & (age < 50) : return 4\n",
    "    elif (50 <= age) & (age < 60) : return 5\n",
    "    else : return 6"
   ]
  },
  {
   "cell_type": "code",
   "execution_count": 161,
   "metadata": {},
   "outputs": [],
   "source": [
    "df['age'] = df['age'].fillna(df['age'].mean()).map(age_grouping)"
   ]
  },
  {
   "cell_type": "code",
   "execution_count": 162,
   "metadata": {},
   "outputs": [
    {
     "data": {
      "text/plain": [
       "<AxesSubplot: >"
      ]
     },
     "execution_count": 162,
     "metadata": {},
     "output_type": "execute_result"
    },
    {
     "data": {
      "image/png": "[encoded data removed]",
      "text/plain": [
       "<Figure size 640x480 with 1 Axes>"
      ]
     },
     "metadata": {},
     "output_type": "display_data"
    }
   ],
   "source": [
    "df['age'].hist()"
   ]
  },
  {
   "cell_type": "code",
   "execution_count": 52,
   "metadata": {},
   "outputs": [
    {
     "name": "stdout",
     "output_type": "stream",
     "text": [
      "                            OLS Regression Results                            \n",
      "==============================================================================\n",
      "Dep. Variable:                 rating   R-squared:                       0.000\n",
      "Model:                            OLS   Adj. R-squared:                  0.000\n",
      "Method:                 Least Squares   F-statistic:                     108.2\n",
      "Date:                Thu, 27 Oct 2022   Prob (F-statistic):           2.46e-25\n",
      "Time:                        02:22:48   Log-Likelihood:            -7.2301e+05\n",
      "No. Observations:              315084   AIC:                         1.446e+06\n",
      "Df Residuals:                  315082   BIC:                         1.446e+06\n",
      "Df Model:                           1                                         \n",
      "Covariance Type:            nonrobust                                         \n",
      "==============================================================================\n",
      "                 coef    std err          t      P>|t|      [0.025      0.975]\n",
      "------------------------------------------------------------------------------\n",
      "const          6.9110      0.016    436.133      0.000       6.880       6.942\n",
      "age            0.0043      0.000     10.402      0.000       0.004       0.005\n",
      "==============================================================================\n",
      "Omnibus:                    38626.733   Durbin-Watson:                   1.518\n",
      "Prob(Omnibus):                  0.000   Jarque-Bera (JB):            54532.102\n",
      "Skew:                          -1.007   Prob(JB):                         0.00\n",
      "Kurtosis:                       3.315   Cond. No.                         141.\n",
      "==============================================================================\n",
      "\n",
      "Notes:\n",
      "[1] Standard Errors assume that the covariance matrix of the errors is correctly specified.\n"
     ]
    }
   ],
   "source": [
    "# linear regression on age\n",
    "\n",
    "import statsmodels.api as sm\n",
    "\n",
    "y = df['rating'].fillna(df['rating'].mean())\n",
    "x = sm.add_constant(df['age'].fillna(df['age'].mean()))\n",
    "lm = sm.OLS(y,x).fit()\n",
    "\n",
    "print(lm.summary())"
   ]
  },
  {
   "cell_type": "code",
   "execution_count": 62,
   "metadata": {},
   "outputs": [
    {
     "data": {
      "text/html": [
       "<div>\n",
       "<style scoped>\n",
       "    .dataframe tbody tr th:only-of-type {\n",
       "        vertical-align: middle;\n",
       "    }\n",
       "\n",
       "    .dataframe tbody tr th {\n",
       "        vertical-align: top;\n",
       "    }\n",
       "\n",
       "    .dataframe thead th {\n",
       "        text-align: right;\n",
       "    }\n",
       "</style>\n",
       "<table border=\"1\" class=\"dataframe\">\n",
       "  <thead>\n",
       "    <tr style=\"text-align: right;\">\n",
       "      <th></th>\n",
       "      <th>rating</th>\n",
       "      <th>age</th>\n",
       "    </tr>\n",
       "  </thead>\n",
       "  <tbody>\n",
       "    <tr>\n",
       "      <th>rating</th>\n",
       "      <td>1.000000</td>\n",
       "      <td>0.018528</td>\n",
       "    </tr>\n",
       "    <tr>\n",
       "      <th>age</th>\n",
       "      <td>0.018528</td>\n",
       "      <td>1.000000</td>\n",
       "    </tr>\n",
       "  </tbody>\n",
       "</table>\n",
       "</div>"
      ],
      "text/plain": [
       "          rating       age\n",
       "rating  1.000000  0.018528\n",
       "age     0.018528  1.000000"
      ]
     },
     "execution_count": 62,
     "metadata": {},
     "output_type": "execute_result"
    }
   ],
   "source": [
    "df[['rating', 'age']].fillna({'rating':df['rating'].mean(), 'age':df['age'].mean()}).corr()"
   ]
  },
  {
   "cell_type": "code",
   "execution_count": 64,
   "metadata": {},
   "outputs": [
    {
     "data": {
      "text/plain": [
       "<AxesSubplot: xlabel='age'>"
      ]
     },
     "execution_count": 64,
     "metadata": {},
     "output_type": "execute_result"
    },
    {
     "data": {
      "image/png": "[encoded data removed]",
      "text/plain": [
       "<Figure size 640x480 with 1 Axes>"
      ]
     },
     "metadata": {},
     "output_type": "display_data"
    }
   ],
   "source": [
    "df.dropna().groupby('age')['rating'].mean().plot()"
   ]
  },
  {
   "cell_type": "code",
   "execution_count": 69,
   "metadata": {},
   "outputs": [
    {
     "data": {
      "text/plain": [
       "8.0     73593\n",
       "7.0     52928\n",
       "9.0     48673\n",
       "10.0    42774\n",
       "6.0     25311\n",
       "5.0     14111\n",
       "1.0     13249\n",
       "2.0     12929\n",
       "4.0     12707\n",
       "3.0     10520\n",
       "Name: rating, dtype: int64"
      ]
     },
     "execution_count": 69,
     "metadata": {},
     "output_type": "execute_result"
    }
   ],
   "source": [
    "df['rating'].value_counts()"
   ]
  },
  {
   "attachments": {},
   "cell_type": "markdown",
   "metadata": {},
   "source": [
    "- 상위 5개만 보았을 때, 연령별로 카테고리의 인기 순위는 큰 차이가 없다. "
   ]
  },
  {
   "attachments": {},
   "cell_type": "markdown",
   "metadata": {},
   "source": [
    "1. 지역별로 어느 연령대가 많이 분포가 되어있는지"
   ]
  },
  {
   "cell_type": "code",
   "execution_count": 163,
   "metadata": {},
   "outputs": [],
   "source": [
    "df['city'] = df['location'].str.split(', ').str[0]\n",
    "df['state'] = books['location'].str.split(', ').str[1]\n",
    "books['country'] = books['location'].str.split(', ').str[2]"
   ]
  },
  {
   "cell_type": "code",
   "execution_count": 165,
   "metadata": {},
   "outputs": [
    {
     "data": {
      "text/plain": [
       "2    1815\n",
       "3    1153\n",
       "4     395\n",
       "5     217\n",
       "1     201\n",
       "6      11\n",
       "Name: age, dtype: int64"
      ]
     },
     "execution_count": 165,
     "metadata": {},
     "output_type": "execute_result"
    }
   ],
   "source": [
    "books[books['country']=='france']['age'].value_counts()"
   ]
  },
  {
   "cell_type": "code",
   "execution_count": 175,
   "metadata": {},
   "outputs": [
    {
     "name": "stdout",
     "output_type": "stream",
     "text": [
      "california :  3\n",
      "ontario :  3\n",
      "texas :  3\n",
      "new york :  3\n",
      "georgia :  5\n",
      "n/a :  3\n",
      "florida :  3\n",
      "illinois :  3\n",
      "washington :  3\n",
      "pennsylvania :  3\n"
     ]
    }
   ],
   "source": [
    "for state in books['state'].value_counts()[:10].index : \n",
    "    print(f\"{state} : \",df[df['state'] == state]['age'].value_counts().index[0])"
   ]
  },
  {
   "attachments": {},
   "cell_type": "markdown",
   "metadata": {},
   "source": [
    "- 지역별 연령대의 분포에 대한 편차는 크지 않은것으로 보인다"
   ]
  },
  {
   "attachments": {},
   "cell_type": "markdown",
   "metadata": {},
   "source": [
    "## Location"
   ]
  },
  {
   "cell_type": "code",
   "execution_count": 6,
   "metadata": {},
   "outputs": [],
   "source": [
    "city = users['location'].map(lambda x: x.split(',')[0])\n",
    "state = users['location'].map(lambda x: x.split(',')[1])\n",
    "country = users['location'].map(lambda x: x.split(',')[2])"
   ]
  },
  {
   "cell_type": "code",
   "execution_count": 7,
   "metadata": {},
   "outputs": [
    {
     "data": {
      "text/plain": [
       "<BarContainer object of 347 artists>"
      ]
     },
     "execution_count": 7,
     "metadata": {},
     "output_type": "execute_result"
    },
    {
     "data": {
      "image/png": "[encoded data removed]",
      "text/plain": [
       "<Figure size 640x480 with 1 Axes>"
      ]
     },
     "metadata": {},
     "output_type": "display_data"
    }
   ],
   "source": [
    "plt.bar(country.value_counts().index, country.value_counts().values)"
   ]
  },
  {
   "cell_type": "code",
   "execution_count": 8,
   "metadata": {},
   "outputs": [
    {
     "data": {
      "text/plain": [
       " usa                             43991\n",
       " canada                           6208\n",
       " germany                          3526\n",
       " united kingdom                   2914\n",
       "                                  2101\n",
       "                                 ...  \n",
       " district of columbia                1\n",
       " west indies                         1\n",
       " kosovo                              1\n",
       " tonga                               1\n",
       " australian capital territory        1\n",
       "Name: location, Length: 347, dtype: int64"
      ]
     },
     "execution_count": 8,
     "metadata": {},
     "output_type": "execute_result"
    }
   ],
   "source": [
    "country.value_counts()"
   ]
  },
  {
   "cell_type": "code",
   "execution_count": 9,
   "metadata": {},
   "outputs": [
    {
     "data": {
      "text/plain": [
       " usa               43991\n",
       " canada             6208\n",
       " germany            3526\n",
       " united kingdom     2914\n",
       "                    2101\n",
       " australia          1791\n",
       " spain              1653\n",
       " france              794\n",
       " italy               770\n",
       " switzerland         451\n",
       "Name: location, dtype: int64"
      ]
     },
     "execution_count": 9,
     "metadata": {},
     "output_type": "execute_result"
    }
   ],
   "source": [
    "country.value_counts()[:10]"
   ]
  },
  {
   "attachments": {},
   "cell_type": "markdown",
   "metadata": {},
   "source": [
    "- 지역별 편차가 큼\n",
    "    - __sampling시 고려사항__"
   ]
  },
  {
   "attachments": {},
   "cell_type": "markdown",
   "metadata": {},
   "source": [
    "# State (미국)"
   ]
  },
  {
   "cell_type": "code",
   "execution_count": 179,
   "metadata": {},
   "outputs": [
    {
     "data": {
      "text/plain": [
       "california                     29330\n",
       "texas                          12476\n",
       "new york                       10678\n",
       "georgia                        10588\n",
       "florida                         9101\n",
       "                               ...  \n",
       "wv                                 1\n",
       "northern marianas provinces        1\n",
       "cascadia                           1\n",
       "veneto                             1\n",
       "ne                                 1\n",
       "Name: state, Length: 159, dtype: int64"
      ]
     },
     "execution_count": 179,
     "metadata": {},
     "output_type": "execute_result"
    }
   ],
   "source": [
    "df[df['country'] == 'usa']['state'].value_counts()"
   ]
  },
  {
   "attachments": {},
   "cell_type": "markdown",
   "metadata": {},
   "source": [
    "- 미국 내 state에서도 편차가 큼\n",
    "    - sampling시 고려사항"
   ]
  },
  {
   "cell_type": "code",
   "execution_count": 182,
   "metadata": {},
   "outputs": [
    {
     "data": {
      "text/plain": [
       "330"
      ]
     },
     "execution_count": 182,
     "metadata": {},
     "output_type": "execute_result"
    }
   ],
   "source": [
    "df['country'].nunique()"
   ]
  },
  {
   "attachments": {},
   "cell_type": "markdown",
   "metadata": {},
   "source": [
    "# BOOKS"
   ]
  },
  {
   "cell_type": "code",
   "execution_count": 15,
   "metadata": {},
   "outputs": [
    {
     "data": {
      "text/html": [
       "<div>\n",
       "<style scoped>\n",
       "    .dataframe tbody tr th:only-of-type {\n",
       "        vertical-align: middle;\n",
       "    }\n",
       "\n",
       "    .dataframe tbody tr th {\n",
       "        vertical-align: top;\n",
       "    }\n",
       "\n",
       "    .dataframe thead th {\n",
       "        text-align: right;\n",
       "    }\n",
       "</style>\n",
       "<table border=\"1\" class=\"dataframe\">\n",
       "  <thead>\n",
       "    <tr style=\"text-align: right;\">\n",
       "      <th></th>\n",
       "      <th>isbn</th>\n",
       "      <th>book_title</th>\n",
       "      <th>book_author</th>\n",
       "      <th>year_of_publication</th>\n",
       "      <th>publisher</th>\n",
       "      <th>img_url</th>\n",
       "      <th>language</th>\n",
       "      <th>category</th>\n",
       "      <th>summary</th>\n",
       "      <th>img_path</th>\n",
       "    </tr>\n",
       "  </thead>\n",
       "  <tbody>\n",
       "    <tr>\n",
       "      <th>0</th>\n",
       "      <td>0002005018</td>\n",
       "      <td>Clara Callan</td>\n",
       "      <td>Richard Bruce Wright</td>\n",
       "      <td>2001.0</td>\n",
       "      <td>HarperFlamingo Canada</td>\n",
       "      <td>http://images.amazon.com/images/P/0002005018.0...</td>\n",
       "      <td>en</td>\n",
       "      <td>['Actresses']</td>\n",
       "      <td>In a small town in Canada, Clara Callan reluct...</td>\n",
       "      <td>images/0002005018.01.THUMBZZZ.jpg</td>\n",
       "    </tr>\n",
       "    <tr>\n",
       "      <th>1</th>\n",
       "      <td>0060973129</td>\n",
       "      <td>Decision in Normandy</td>\n",
       "      <td>Carlo D'Este</td>\n",
       "      <td>1991.0</td>\n",
       "      <td>HarperPerennial</td>\n",
       "      <td>http://images.amazon.com/images/P/0060973129.0...</td>\n",
       "      <td>en</td>\n",
       "      <td>['1940-1949']</td>\n",
       "      <td>Here, for the first time in paperback, is an o...</td>\n",
       "      <td>images/0060973129.01.THUMBZZZ.jpg</td>\n",
       "    </tr>\n",
       "    <tr>\n",
       "      <th>2</th>\n",
       "      <td>0374157065</td>\n",
       "      <td>Flu: The Story of the Great Influenza Pandemic...</td>\n",
       "      <td>Gina Bari Kolata</td>\n",
       "      <td>1999.0</td>\n",
       "      <td>Farrar Straus Giroux</td>\n",
       "      <td>http://images.amazon.com/images/P/0374157065.0...</td>\n",
       "      <td>en</td>\n",
       "      <td>['Medical']</td>\n",
       "      <td>Describes the great flu epidemic of 1918, an o...</td>\n",
       "      <td>images/0374157065.01.THUMBZZZ.jpg</td>\n",
       "    </tr>\n",
       "    <tr>\n",
       "      <th>3</th>\n",
       "      <td>0399135782</td>\n",
       "      <td>The Kitchen God's Wife</td>\n",
       "      <td>Amy Tan</td>\n",
       "      <td>1991.0</td>\n",
       "      <td>Putnam Pub Group</td>\n",
       "      <td>http://images.amazon.com/images/P/0399135782.0...</td>\n",
       "      <td>en</td>\n",
       "      <td>['Fiction']</td>\n",
       "      <td>A Chinese immigrant who is convinced she is dy...</td>\n",
       "      <td>images/0399135782.01.THUMBZZZ.jpg</td>\n",
       "    </tr>\n",
       "    <tr>\n",
       "      <th>4</th>\n",
       "      <td>0425176428</td>\n",
       "      <td>What If?: The World's Foremost Military Histor...</td>\n",
       "      <td>Robert Cowley</td>\n",
       "      <td>2000.0</td>\n",
       "      <td>Berkley Publishing Group</td>\n",
       "      <td>http://images.amazon.com/images/P/0425176428.0...</td>\n",
       "      <td>en</td>\n",
       "      <td>['History']</td>\n",
       "      <td>Essays by respected military historians, inclu...</td>\n",
       "      <td>images/0425176428.01.THUMBZZZ.jpg</td>\n",
       "    </tr>\n",
       "  </tbody>\n",
       "</table>\n",
       "</div>"
      ],
      "text/plain": [
       "         isbn                                         book_title  \\\n",
       "0  0002005018                                       Clara Callan   \n",
       "1  0060973129                               Decision in Normandy   \n",
       "2  0374157065  Flu: The Story of the Great Influenza Pandemic...   \n",
       "3  0399135782                             The Kitchen God's Wife   \n",
       "4  0425176428  What If?: The World's Foremost Military Histor...   \n",
       "\n",
       "            book_author  year_of_publication                 publisher  \\\n",
       "0  Richard Bruce Wright               2001.0     HarperFlamingo Canada   \n",
       "1          Carlo D'Este               1991.0           HarperPerennial   \n",
       "2      Gina Bari Kolata               1999.0      Farrar Straus Giroux   \n",
       "3               Amy Tan               1991.0          Putnam Pub Group   \n",
       "4         Robert Cowley               2000.0  Berkley Publishing Group   \n",
       "\n",
       "                                             img_url language       category  \\\n",
       "0  http://images.amazon.com/images/P/0002005018.0...       en  ['Actresses']   \n",
       "1  http://images.amazon.com/images/P/0060973129.0...       en  ['1940-1949']   \n",
       "2  http://images.amazon.com/images/P/0374157065.0...       en    ['Medical']   \n",
       "3  http://images.amazon.com/images/P/0399135782.0...       en    ['Fiction']   \n",
       "4  http://images.amazon.com/images/P/0425176428.0...       en    ['History']   \n",
       "\n",
       "                                             summary  \\\n",
       "0  In a small town in Canada, Clara Callan reluct...   \n",
       "1  Here, for the first time in paperback, is an o...   \n",
       "2  Describes the great flu epidemic of 1918, an o...   \n",
       "3  A Chinese immigrant who is convinced she is dy...   \n",
       "4  Essays by respected military historians, inclu...   \n",
       "\n",
       "                            img_path  \n",
       "0  images/0002005018.01.THUMBZZZ.jpg  \n",
       "1  images/0060973129.01.THUMBZZZ.jpg  \n",
       "2  images/0374157065.01.THUMBZZZ.jpg  \n",
       "3  images/0399135782.01.THUMBZZZ.jpg  \n",
       "4  images/0425176428.01.THUMBZZZ.jpg  "
      ]
     },
     "execution_count": 15,
     "metadata": {},
     "output_type": "execute_result"
    }
   ],
   "source": [
    "books = pd.read_csv('./data/books.csv')\n",
    "books.head()"
   ]
  },
  {
   "cell_type": "code",
   "execution_count": 16,
   "metadata": {},
   "outputs": [
    {
     "name": "stdout",
     "output_type": "stream",
     "text": [
      "<class 'pandas.core.frame.DataFrame'>\n",
      "RangeIndex: 149570 entries, 0 to 149569\n",
      "Data columns (total 10 columns):\n",
      " #   Column               Non-Null Count   Dtype  \n",
      "---  ------               --------------   -----  \n",
      " 0   isbn                 149570 non-null  object \n",
      " 1   book_title           149570 non-null  object \n",
      " 2   book_author          149570 non-null  object \n",
      " 3   year_of_publication  149570 non-null  float64\n",
      " 4   publisher            149570 non-null  object \n",
      " 5   img_url              149570 non-null  object \n",
      " 6   language             82343 non-null   object \n",
      " 7   category             80719 non-null   object \n",
      " 8   summary              82343 non-null   object \n",
      " 9   img_path             149570 non-null  object \n",
      "dtypes: float64(1), object(9)\n",
      "memory usage: 11.4+ MB\n"
     ]
    }
   ],
   "source": [
    "books.info()"
   ]
  },
  {
   "attachments": {},
   "cell_type": "markdown",
   "metadata": {},
   "source": [
    "## Category(Genre)"
   ]
  },
  {
   "cell_type": "code",
   "execution_count": 17,
   "metadata": {},
   "outputs": [
    {
     "data": {
      "text/plain": [
       "['Fiction']                      32956\n",
       "['Juvenile Fiction']              5804\n",
       "['Biography & Autobiography']     3320\n",
       "['History']                       1925\n",
       "['Religion']                      1818\n",
       "['Juvenile Nonfiction']           1417\n",
       "['Social Science']                1231\n",
       "['Humor']                         1161\n",
       "['Body, Mind & Spirit']           1109\n",
       "['Business & Economics']          1070\n",
       "Name: category, dtype: int64"
      ]
     },
     "execution_count": 17,
     "metadata": {},
     "output_type": "execute_result"
    }
   ],
   "source": [
    "books['category'].value_counts()[:10]"
   ]
  },
  {
   "attachments": {},
   "cell_type": "markdown",
   "metadata": {},
   "source": [
    "- 편차가 큼\n",
    "    - sampling"
   ]
  },
  {
   "attachments": {},
   "cell_type": "markdown",
   "metadata": {},
   "source": [
    "## category - ratings"
   ]
  },
  {
   "cell_type": "code",
   "execution_count": 18,
   "metadata": {},
   "outputs": [],
   "source": [
    "train_ratings = pd.read_csv('./data/train_ratings.csv')\n",
    "test_ratings = pd.read_csv('./data/test_ratings.csv')"
   ]
  },
  {
   "cell_type": "code",
   "execution_count": 19,
   "metadata": {},
   "outputs": [
    {
     "data": {
      "text/plain": [
       "0"
      ]
     },
     "execution_count": 19,
     "metadata": {},
     "output_type": "execute_result"
    }
   ],
   "source": [
    "ratings = pd.concat([train_ratings, test_ratings], axis = 0)\n",
    "ratings.duplicated().sum() # 중복 없음"
   ]
  },
  {
   "cell_type": "code",
   "execution_count": 20,
   "metadata": {},
   "outputs": [
    {
     "data": {
      "text/plain": [
       "(383494, 3)"
      ]
     },
     "execution_count": 20,
     "metadata": {},
     "output_type": "execute_result"
    }
   ],
   "source": [
    "ratings.shape"
   ]
  },
  {
   "cell_type": "code",
   "execution_count": 21,
   "metadata": {},
   "outputs": [
    {
     "data": {
      "text/plain": [
       "149570"
      ]
     },
     "execution_count": 21,
     "metadata": {},
     "output_type": "execute_result"
    }
   ],
   "source": [
    "books.isbn.nunique(0)"
   ]
  },
  {
   "cell_type": "code",
   "execution_count": 22,
   "metadata": {},
   "outputs": [
    {
     "data": {
      "text/html": [
       "<div>\n",
       "<style scoped>\n",
       "    .dataframe tbody tr th:only-of-type {\n",
       "        vertical-align: middle;\n",
       "    }\n",
       "\n",
       "    .dataframe tbody tr th {\n",
       "        vertical-align: top;\n",
       "    }\n",
       "\n",
       "    .dataframe thead th {\n",
       "        text-align: right;\n",
       "    }\n",
       "</style>\n",
       "<table border=\"1\" class=\"dataframe\">\n",
       "  <thead>\n",
       "    <tr style=\"text-align: right;\">\n",
       "      <th></th>\n",
       "      <th>isbn</th>\n",
       "      <th>book_title</th>\n",
       "      <th>book_author</th>\n",
       "      <th>year_of_publication</th>\n",
       "      <th>publisher</th>\n",
       "      <th>img_url</th>\n",
       "      <th>language</th>\n",
       "      <th>category</th>\n",
       "      <th>summary</th>\n",
       "      <th>img_path</th>\n",
       "      <th>user_id</th>\n",
       "      <th>rating</th>\n",
       "    </tr>\n",
       "  </thead>\n",
       "  <tbody>\n",
       "    <tr>\n",
       "      <th>0</th>\n",
       "      <td>0002005018</td>\n",
       "      <td>Clara Callan</td>\n",
       "      <td>Richard Bruce Wright</td>\n",
       "      <td>2001.0</td>\n",
       "      <td>HarperFlamingo Canada</td>\n",
       "      <td>http://images.amazon.com/images/P/0002005018.0...</td>\n",
       "      <td>en</td>\n",
       "      <td>['Actresses']</td>\n",
       "      <td>In a small town in Canada, Clara Callan reluct...</td>\n",
       "      <td>images/0002005018.01.THUMBZZZ.jpg</td>\n",
       "      <td>8</td>\n",
       "      <td>4</td>\n",
       "    </tr>\n",
       "    <tr>\n",
       "      <th>1</th>\n",
       "      <td>0002005018</td>\n",
       "      <td>Clara Callan</td>\n",
       "      <td>Richard Bruce Wright</td>\n",
       "      <td>2001.0</td>\n",
       "      <td>HarperFlamingo Canada</td>\n",
       "      <td>http://images.amazon.com/images/P/0002005018.0...</td>\n",
       "      <td>en</td>\n",
       "      <td>['Actresses']</td>\n",
       "      <td>In a small town in Canada, Clara Callan reluct...</td>\n",
       "      <td>images/0002005018.01.THUMBZZZ.jpg</td>\n",
       "      <td>67544</td>\n",
       "      <td>7</td>\n",
       "    </tr>\n",
       "    <tr>\n",
       "      <th>2</th>\n",
       "      <td>0002005018</td>\n",
       "      <td>Clara Callan</td>\n",
       "      <td>Richard Bruce Wright</td>\n",
       "      <td>2001.0</td>\n",
       "      <td>HarperFlamingo Canada</td>\n",
       "      <td>http://images.amazon.com/images/P/0002005018.0...</td>\n",
       "      <td>en</td>\n",
       "      <td>['Actresses']</td>\n",
       "      <td>In a small town in Canada, Clara Callan reluct...</td>\n",
       "      <td>images/0002005018.01.THUMBZZZ.jpg</td>\n",
       "      <td>123629</td>\n",
       "      <td>8</td>\n",
       "    </tr>\n",
       "    <tr>\n",
       "      <th>3</th>\n",
       "      <td>0002005018</td>\n",
       "      <td>Clara Callan</td>\n",
       "      <td>Richard Bruce Wright</td>\n",
       "      <td>2001.0</td>\n",
       "      <td>HarperFlamingo Canada</td>\n",
       "      <td>http://images.amazon.com/images/P/0002005018.0...</td>\n",
       "      <td>en</td>\n",
       "      <td>['Actresses']</td>\n",
       "      <td>In a small town in Canada, Clara Callan reluct...</td>\n",
       "      <td>images/0002005018.01.THUMBZZZ.jpg</td>\n",
       "      <td>200273</td>\n",
       "      <td>8</td>\n",
       "    </tr>\n",
       "    <tr>\n",
       "      <th>4</th>\n",
       "      <td>0002005018</td>\n",
       "      <td>Clara Callan</td>\n",
       "      <td>Richard Bruce Wright</td>\n",
       "      <td>2001.0</td>\n",
       "      <td>HarperFlamingo Canada</td>\n",
       "      <td>http://images.amazon.com/images/P/0002005018.0...</td>\n",
       "      <td>en</td>\n",
       "      <td>['Actresses']</td>\n",
       "      <td>In a small town in Canada, Clara Callan reluct...</td>\n",
       "      <td>images/0002005018.01.THUMBZZZ.jpg</td>\n",
       "      <td>210926</td>\n",
       "      <td>9</td>\n",
       "    </tr>\n",
       "  </tbody>\n",
       "</table>\n",
       "</div>"
      ],
      "text/plain": [
       "         isbn    book_title           book_author  year_of_publication  \\\n",
       "0  0002005018  Clara Callan  Richard Bruce Wright               2001.0   \n",
       "1  0002005018  Clara Callan  Richard Bruce Wright               2001.0   \n",
       "2  0002005018  Clara Callan  Richard Bruce Wright               2001.0   \n",
       "3  0002005018  Clara Callan  Richard Bruce Wright               2001.0   \n",
       "4  0002005018  Clara Callan  Richard Bruce Wright               2001.0   \n",
       "\n",
       "               publisher                                            img_url  \\\n",
       "0  HarperFlamingo Canada  http://images.amazon.com/images/P/0002005018.0...   \n",
       "1  HarperFlamingo Canada  http://images.amazon.com/images/P/0002005018.0...   \n",
       "2  HarperFlamingo Canada  http://images.amazon.com/images/P/0002005018.0...   \n",
       "3  HarperFlamingo Canada  http://images.amazon.com/images/P/0002005018.0...   \n",
       "4  HarperFlamingo Canada  http://images.amazon.com/images/P/0002005018.0...   \n",
       "\n",
       "  language       category                                            summary  \\\n",
       "0       en  ['Actresses']  In a small town in Canada, Clara Callan reluct...   \n",
       "1       en  ['Actresses']  In a small town in Canada, Clara Callan reluct...   \n",
       "2       en  ['Actresses']  In a small town in Canada, Clara Callan reluct...   \n",
       "3       en  ['Actresses']  In a small town in Canada, Clara Callan reluct...   \n",
       "4       en  ['Actresses']  In a small town in Canada, Clara Callan reluct...   \n",
       "\n",
       "                            img_path  user_id  rating  \n",
       "0  images/0002005018.01.THUMBZZZ.jpg        8       4  \n",
       "1  images/0002005018.01.THUMBZZZ.jpg    67544       7  \n",
       "2  images/0002005018.01.THUMBZZZ.jpg   123629       8  \n",
       "3  images/0002005018.01.THUMBZZZ.jpg   200273       8  \n",
       "4  images/0002005018.01.THUMBZZZ.jpg   210926       9  "
      ]
     },
     "execution_count": 22,
     "metadata": {},
     "output_type": "execute_result"
    }
   ],
   "source": [
    "books_ratings = books.merge(ratings, on = 'isbn')\n",
    "books_ratings.head()"
   ]
  },
  {
   "cell_type": "code",
   "execution_count": 23,
   "metadata": {},
   "outputs": [
    {
     "data": {
      "text/html": [
       "<div>\n",
       "<style scoped>\n",
       "    .dataframe tbody tr th:only-of-type {\n",
       "        vertical-align: middle;\n",
       "    }\n",
       "\n",
       "    .dataframe tbody tr th {\n",
       "        vertical-align: top;\n",
       "    }\n",
       "\n",
       "    .dataframe thead th {\n",
       "        text-align: right;\n",
       "    }\n",
       "</style>\n",
       "<table border=\"1\" class=\"dataframe\">\n",
       "  <thead>\n",
       "    <tr style=\"text-align: right;\">\n",
       "      <th></th>\n",
       "      <th>count</th>\n",
       "      <th>mean</th>\n",
       "      <th>std</th>\n",
       "      <th>min</th>\n",
       "      <th>25%</th>\n",
       "      <th>50%</th>\n",
       "      <th>75%</th>\n",
       "      <th>max</th>\n",
       "    </tr>\n",
       "    <tr>\n",
       "      <th>category</th>\n",
       "      <th></th>\n",
       "      <th></th>\n",
       "      <th></th>\n",
       "      <th></th>\n",
       "      <th></th>\n",
       "      <th></th>\n",
       "      <th></th>\n",
       "      <th></th>\n",
       "    </tr>\n",
       "  </thead>\n",
       "  <tbody>\n",
       "    <tr>\n",
       "      <th>['Fiction']</th>\n",
       "      <td>135658.0</td>\n",
       "      <td>5.585059</td>\n",
       "      <td>3.527490</td>\n",
       "      <td>0.0</td>\n",
       "      <td>2.0</td>\n",
       "      <td>7.0</td>\n",
       "      <td>8.0</td>\n",
       "      <td>10.0</td>\n",
       "    </tr>\n",
       "    <tr>\n",
       "      <th>['Juvenile Fiction']</th>\n",
       "      <td>15041.0</td>\n",
       "      <td>6.010172</td>\n",
       "      <td>3.689651</td>\n",
       "      <td>0.0</td>\n",
       "      <td>2.0</td>\n",
       "      <td>7.0</td>\n",
       "      <td>9.0</td>\n",
       "      <td>10.0</td>\n",
       "    </tr>\n",
       "    <tr>\n",
       "      <th>['Biography &amp; Autobiography']</th>\n",
       "      <td>9547.0</td>\n",
       "      <td>5.804022</td>\n",
       "      <td>3.589161</td>\n",
       "      <td>0.0</td>\n",
       "      <td>2.0</td>\n",
       "      <td>7.0</td>\n",
       "      <td>9.0</td>\n",
       "      <td>10.0</td>\n",
       "    </tr>\n",
       "    <tr>\n",
       "      <th>['Humor']</th>\n",
       "      <td>3936.0</td>\n",
       "      <td>5.859756</td>\n",
       "      <td>3.629632</td>\n",
       "      <td>0.0</td>\n",
       "      <td>2.0</td>\n",
       "      <td>7.0</td>\n",
       "      <td>9.0</td>\n",
       "      <td>10.0</td>\n",
       "    </tr>\n",
       "    <tr>\n",
       "      <th>['History']</th>\n",
       "      <td>3353.0</td>\n",
       "      <td>5.815687</td>\n",
       "      <td>3.622313</td>\n",
       "      <td>0.0</td>\n",
       "      <td>2.0</td>\n",
       "      <td>7.0</td>\n",
       "      <td>9.0</td>\n",
       "      <td>10.0</td>\n",
       "    </tr>\n",
       "    <tr>\n",
       "      <th>['Religion']</th>\n",
       "      <td>2976.0</td>\n",
       "      <td>5.971438</td>\n",
       "      <td>3.673963</td>\n",
       "      <td>0.0</td>\n",
       "      <td>2.0</td>\n",
       "      <td>7.0</td>\n",
       "      <td>9.0</td>\n",
       "      <td>10.0</td>\n",
       "    </tr>\n",
       "    <tr>\n",
       "      <th>['Body, Mind &amp; Spirit']</th>\n",
       "      <td>2169.0</td>\n",
       "      <td>5.745044</td>\n",
       "      <td>3.696389</td>\n",
       "      <td>0.0</td>\n",
       "      <td>2.0</td>\n",
       "      <td>7.0</td>\n",
       "      <td>9.0</td>\n",
       "      <td>10.0</td>\n",
       "    </tr>\n",
       "    <tr>\n",
       "      <th>['Juvenile Nonfiction']</th>\n",
       "      <td>2070.0</td>\n",
       "      <td>5.871981</td>\n",
       "      <td>3.711638</td>\n",
       "      <td>0.0</td>\n",
       "      <td>2.0</td>\n",
       "      <td>7.0</td>\n",
       "      <td>9.0</td>\n",
       "      <td>10.0</td>\n",
       "    </tr>\n",
       "    <tr>\n",
       "      <th>['Social Science']</th>\n",
       "      <td>2057.0</td>\n",
       "      <td>5.609140</td>\n",
       "      <td>3.561696</td>\n",
       "      <td>0.0</td>\n",
       "      <td>2.0</td>\n",
       "      <td>7.0</td>\n",
       "      <td>8.0</td>\n",
       "      <td>10.0</td>\n",
       "    </tr>\n",
       "    <tr>\n",
       "      <th>['Business &amp; Economics']</th>\n",
       "      <td>1901.0</td>\n",
       "      <td>5.400842</td>\n",
       "      <td>3.613175</td>\n",
       "      <td>0.0</td>\n",
       "      <td>1.0</td>\n",
       "      <td>7.0</td>\n",
       "      <td>8.0</td>\n",
       "      <td>10.0</td>\n",
       "    </tr>\n",
       "    <tr>\n",
       "      <th>['Family &amp; Relationships']</th>\n",
       "      <td>1868.0</td>\n",
       "      <td>5.639186</td>\n",
       "      <td>3.622285</td>\n",
       "      <td>0.0</td>\n",
       "      <td>2.0</td>\n",
       "      <td>7.0</td>\n",
       "      <td>9.0</td>\n",
       "      <td>10.0</td>\n",
       "    </tr>\n",
       "    <tr>\n",
       "      <th>['Self-Help']</th>\n",
       "      <td>1742.0</td>\n",
       "      <td>5.634902</td>\n",
       "      <td>3.620400</td>\n",
       "      <td>0.0</td>\n",
       "      <td>2.0</td>\n",
       "      <td>7.0</td>\n",
       "      <td>9.0</td>\n",
       "      <td>10.0</td>\n",
       "    </tr>\n",
       "    <tr>\n",
       "      <th>['Health &amp; Fitness']</th>\n",
       "      <td>1596.0</td>\n",
       "      <td>5.575188</td>\n",
       "      <td>3.631452</td>\n",
       "      <td>0.0</td>\n",
       "      <td>2.0</td>\n",
       "      <td>7.0</td>\n",
       "      <td>9.0</td>\n",
       "      <td>10.0</td>\n",
       "    </tr>\n",
       "    <tr>\n",
       "      <th>['Cooking']</th>\n",
       "      <td>1374.0</td>\n",
       "      <td>5.850073</td>\n",
       "      <td>3.729873</td>\n",
       "      <td>0.0</td>\n",
       "      <td>2.0</td>\n",
       "      <td>7.0</td>\n",
       "      <td>9.0</td>\n",
       "      <td>10.0</td>\n",
       "    </tr>\n",
       "    <tr>\n",
       "      <th>['Travel']</th>\n",
       "      <td>1229.0</td>\n",
       "      <td>5.873068</td>\n",
       "      <td>3.465770</td>\n",
       "      <td>0.0</td>\n",
       "      <td>3.0</td>\n",
       "      <td>7.0</td>\n",
       "      <td>8.0</td>\n",
       "      <td>10.0</td>\n",
       "    </tr>\n",
       "    <tr>\n",
       "      <th>['Poetry']</th>\n",
       "      <td>1068.0</td>\n",
       "      <td>5.938202</td>\n",
       "      <td>3.722814</td>\n",
       "      <td>0.0</td>\n",
       "      <td>2.0</td>\n",
       "      <td>7.0</td>\n",
       "      <td>9.0</td>\n",
       "      <td>10.0</td>\n",
       "    </tr>\n",
       "    <tr>\n",
       "      <th>['Psychology']</th>\n",
       "      <td>1018.0</td>\n",
       "      <td>5.549116</td>\n",
       "      <td>3.554332</td>\n",
       "      <td>0.0</td>\n",
       "      <td>2.0</td>\n",
       "      <td>7.0</td>\n",
       "      <td>8.0</td>\n",
       "      <td>10.0</td>\n",
       "    </tr>\n",
       "    <tr>\n",
       "      <th>['True Crime']</th>\n",
       "      <td>1007.0</td>\n",
       "      <td>5.496524</td>\n",
       "      <td>3.482952</td>\n",
       "      <td>0.0</td>\n",
       "      <td>2.0</td>\n",
       "      <td>7.0</td>\n",
       "      <td>8.0</td>\n",
       "      <td>10.0</td>\n",
       "    </tr>\n",
       "    <tr>\n",
       "      <th>['Science']</th>\n",
       "      <td>974.0</td>\n",
       "      <td>5.535934</td>\n",
       "      <td>3.706920</td>\n",
       "      <td>0.0</td>\n",
       "      <td>1.0</td>\n",
       "      <td>7.0</td>\n",
       "      <td>8.0</td>\n",
       "      <td>10.0</td>\n",
       "    </tr>\n",
       "    <tr>\n",
       "      <th>['Computers']</th>\n",
       "      <td>943.0</td>\n",
       "      <td>5.356310</td>\n",
       "      <td>3.522189</td>\n",
       "      <td>0.0</td>\n",
       "      <td>2.0</td>\n",
       "      <td>7.0</td>\n",
       "      <td>8.0</td>\n",
       "      <td>10.0</td>\n",
       "    </tr>\n",
       "  </tbody>\n",
       "</table>\n",
       "</div>"
      ],
      "text/plain": [
       "                                  count      mean       std  min  25%  50%  \\\n",
       "category                                                                     \n",
       "['Fiction']                    135658.0  5.585059  3.527490  0.0  2.0  7.0   \n",
       "['Juvenile Fiction']            15041.0  6.010172  3.689651  0.0  2.0  7.0   \n",
       "['Biography & Autobiography']    9547.0  5.804022  3.589161  0.0  2.0  7.0   \n",
       "['Humor']                        3936.0  5.859756  3.629632  0.0  2.0  7.0   \n",
       "['History']                      3353.0  5.815687  3.622313  0.0  2.0  7.0   \n",
       "['Religion']                     2976.0  5.971438  3.673963  0.0  2.0  7.0   \n",
       "['Body, Mind & Spirit']          2169.0  5.745044  3.696389  0.0  2.0  7.0   \n",
       "['Juvenile Nonfiction']          2070.0  5.871981  3.711638  0.0  2.0  7.0   \n",
       "['Social Science']               2057.0  5.609140  3.561696  0.0  2.0  7.0   \n",
       "['Business & Economics']         1901.0  5.400842  3.613175  0.0  1.0  7.0   \n",
       "['Family & Relationships']       1868.0  5.639186  3.622285  0.0  2.0  7.0   \n",
       "['Self-Help']                    1742.0  5.634902  3.620400  0.0  2.0  7.0   \n",
       "['Health & Fitness']             1596.0  5.575188  3.631452  0.0  2.0  7.0   \n",
       "['Cooking']                      1374.0  5.850073  3.729873  0.0  2.0  7.0   \n",
       "['Travel']                       1229.0  5.873068  3.465770  0.0  3.0  7.0   \n",
       "['Poetry']                       1068.0  5.938202  3.722814  0.0  2.0  7.0   \n",
       "['Psychology']                   1018.0  5.549116  3.554332  0.0  2.0  7.0   \n",
       "['True Crime']                   1007.0  5.496524  3.482952  0.0  2.0  7.0   \n",
       "['Science']                       974.0  5.535934  3.706920  0.0  1.0  7.0   \n",
       "['Computers']                     943.0  5.356310  3.522189  0.0  2.0  7.0   \n",
       "\n",
       "                               75%   max  \n",
       "category                                  \n",
       "['Fiction']                    8.0  10.0  \n",
       "['Juvenile Fiction']           9.0  10.0  \n",
       "['Biography & Autobiography']  9.0  10.0  \n",
       "['Humor']                      9.0  10.0  \n",
       "['History']                    9.0  10.0  \n",
       "['Religion']                   9.0  10.0  \n",
       "['Body, Mind & Spirit']        9.0  10.0  \n",
       "['Juvenile Nonfiction']        9.0  10.0  \n",
       "['Social Science']             8.0  10.0  \n",
       "['Business & Economics']       8.0  10.0  \n",
       "['Family & Relationships']     9.0  10.0  \n",
       "['Self-Help']                  9.0  10.0  \n",
       "['Health & Fitness']           9.0  10.0  \n",
       "['Cooking']                    9.0  10.0  \n",
       "['Travel']                     8.0  10.0  \n",
       "['Poetry']                     9.0  10.0  \n",
       "['Psychology']                 8.0  10.0  \n",
       "['True Crime']                 8.0  10.0  \n",
       "['Science']                    8.0  10.0  \n",
       "['Computers']                  8.0  10.0  "
      ]
     },
     "execution_count": 23,
     "metadata": {},
     "output_type": "execute_result"
    }
   ],
   "source": [
    "books_ratings.groupby('category')['rating'].describe().sort_values(by = 'count', ascending = False)[:20]"
   ]
  },
  {
   "attachments": {},
   "cell_type": "markdown",
   "metadata": {},
   "source": [
    "- category별로 rating의 분포가 비슷해서 sampling시 따로 구분하지 않아도 문제가 없을것 같다.\n",
    "    - outlier가 아닌 이상 category 자체가 rating에 미치는 영향은 적다고 볼 수 있을 것 같다"
   ]
  },
  {
   "attachments": {},
   "cell_type": "markdown",
   "metadata": {},
   "source": [
    "## Language"
   ]
  },
  {
   "cell_type": "code",
   "execution_count": 24,
   "metadata": {},
   "outputs": [
    {
     "data": {
      "text/html": [
       "<div>\n",
       "<style scoped>\n",
       "    .dataframe tbody tr th:only-of-type {\n",
       "        vertical-align: middle;\n",
       "    }\n",
       "\n",
       "    .dataframe tbody tr th {\n",
       "        vertical-align: top;\n",
       "    }\n",
       "\n",
       "    .dataframe thead th {\n",
       "        text-align: right;\n",
       "    }\n",
       "</style>\n",
       "<table border=\"1\" class=\"dataframe\">\n",
       "  <thead>\n",
       "    <tr style=\"text-align: right;\">\n",
       "      <th></th>\n",
       "      <th>count</th>\n",
       "      <th>mean</th>\n",
       "      <th>std</th>\n",
       "      <th>min</th>\n",
       "      <th>25%</th>\n",
       "      <th>50%</th>\n",
       "      <th>75%</th>\n",
       "      <th>max</th>\n",
       "    </tr>\n",
       "    <tr>\n",
       "      <th>language</th>\n",
       "      <th></th>\n",
       "      <th></th>\n",
       "      <th></th>\n",
       "      <th></th>\n",
       "      <th></th>\n",
       "      <th></th>\n",
       "      <th></th>\n",
       "      <th></th>\n",
       "    </tr>\n",
       "  </thead>\n",
       "  <tbody>\n",
       "    <tr>\n",
       "      <th>en</th>\n",
       "      <td>227862.0</td>\n",
       "      <td>5.671011</td>\n",
       "      <td>3.572905</td>\n",
       "      <td>0.0</td>\n",
       "      <td>2.00</td>\n",
       "      <td>7.0</td>\n",
       "      <td>8.00</td>\n",
       "      <td>10.0</td>\n",
       "    </tr>\n",
       "    <tr>\n",
       "      <th>de</th>\n",
       "      <td>2761.0</td>\n",
       "      <td>5.371604</td>\n",
       "      <td>3.595021</td>\n",
       "      <td>0.0</td>\n",
       "      <td>1.00</td>\n",
       "      <td>7.0</td>\n",
       "      <td>8.00</td>\n",
       "      <td>10.0</td>\n",
       "    </tr>\n",
       "    <tr>\n",
       "      <th>es</th>\n",
       "      <td>1850.0</td>\n",
       "      <td>5.556757</td>\n",
       "      <td>3.429625</td>\n",
       "      <td>0.0</td>\n",
       "      <td>2.00</td>\n",
       "      <td>7.0</td>\n",
       "      <td>8.00</td>\n",
       "      <td>10.0</td>\n",
       "    </tr>\n",
       "    <tr>\n",
       "      <th>fr</th>\n",
       "      <td>1485.0</td>\n",
       "      <td>5.633670</td>\n",
       "      <td>3.538841</td>\n",
       "      <td>0.0</td>\n",
       "      <td>1.00</td>\n",
       "      <td>7.0</td>\n",
       "      <td>8.00</td>\n",
       "      <td>10.0</td>\n",
       "    </tr>\n",
       "    <tr>\n",
       "      <th>it</th>\n",
       "      <td>366.0</td>\n",
       "      <td>5.983607</td>\n",
       "      <td>3.476694</td>\n",
       "      <td>0.0</td>\n",
       "      <td>4.00</td>\n",
       "      <td>7.0</td>\n",
       "      <td>8.75</td>\n",
       "      <td>10.0</td>\n",
       "    </tr>\n",
       "    <tr>\n",
       "      <th>nl</th>\n",
       "      <td>97.0</td>\n",
       "      <td>5.061856</td>\n",
       "      <td>3.141836</td>\n",
       "      <td>0.0</td>\n",
       "      <td>2.00</td>\n",
       "      <td>6.0</td>\n",
       "      <td>8.00</td>\n",
       "      <td>10.0</td>\n",
       "    </tr>\n",
       "    <tr>\n",
       "      <th>pt</th>\n",
       "      <td>66.0</td>\n",
       "      <td>6.590909</td>\n",
       "      <td>3.328096</td>\n",
       "      <td>0.0</td>\n",
       "      <td>6.00</td>\n",
       "      <td>8.0</td>\n",
       "      <td>9.00</td>\n",
       "      <td>10.0</td>\n",
       "    </tr>\n",
       "    <tr>\n",
       "      <th>da</th>\n",
       "      <td>50.0</td>\n",
       "      <td>6.600000</td>\n",
       "      <td>3.200765</td>\n",
       "      <td>0.0</td>\n",
       "      <td>6.00</td>\n",
       "      <td>8.0</td>\n",
       "      <td>9.00</td>\n",
       "      <td>10.0</td>\n",
       "    </tr>\n",
       "    <tr>\n",
       "      <th>ca</th>\n",
       "      <td>30.0</td>\n",
       "      <td>4.700000</td>\n",
       "      <td>3.239306</td>\n",
       "      <td>0.0</td>\n",
       "      <td>1.00</td>\n",
       "      <td>5.5</td>\n",
       "      <td>7.00</td>\n",
       "      <td>10.0</td>\n",
       "    </tr>\n",
       "    <tr>\n",
       "      <th>ru</th>\n",
       "      <td>13.0</td>\n",
       "      <td>6.153846</td>\n",
       "      <td>3.954874</td>\n",
       "      <td>0.0</td>\n",
       "      <td>3.00</td>\n",
       "      <td>8.0</td>\n",
       "      <td>9.00</td>\n",
       "      <td>10.0</td>\n",
       "    </tr>\n",
       "    <tr>\n",
       "      <th>ms</th>\n",
       "      <td>11.0</td>\n",
       "      <td>5.636364</td>\n",
       "      <td>3.294624</td>\n",
       "      <td>0.0</td>\n",
       "      <td>3.00</td>\n",
       "      <td>6.0</td>\n",
       "      <td>8.00</td>\n",
       "      <td>10.0</td>\n",
       "    </tr>\n",
       "    <tr>\n",
       "      <th>no</th>\n",
       "      <td>6.0</td>\n",
       "      <td>4.333333</td>\n",
       "      <td>3.777124</td>\n",
       "      <td>0.0</td>\n",
       "      <td>1.25</td>\n",
       "      <td>4.5</td>\n",
       "      <td>7.00</td>\n",
       "      <td>9.0</td>\n",
       "    </tr>\n",
       "    <tr>\n",
       "      <th>la</th>\n",
       "      <td>3.0</td>\n",
       "      <td>8.666667</td>\n",
       "      <td>0.577350</td>\n",
       "      <td>8.0</td>\n",
       "      <td>8.50</td>\n",
       "      <td>9.0</td>\n",
       "      <td>9.00</td>\n",
       "      <td>9.0</td>\n",
       "    </tr>\n",
       "    <tr>\n",
       "      <th>zh-CN</th>\n",
       "      <td>3.0</td>\n",
       "      <td>8.666667</td>\n",
       "      <td>0.577350</td>\n",
       "      <td>8.0</td>\n",
       "      <td>8.50</td>\n",
       "      <td>9.0</td>\n",
       "      <td>9.00</td>\n",
       "      <td>9.0</td>\n",
       "    </tr>\n",
       "    <tr>\n",
       "      <th>ja</th>\n",
       "      <td>3.0</td>\n",
       "      <td>7.000000</td>\n",
       "      <td>4.358899</td>\n",
       "      <td>2.0</td>\n",
       "      <td>5.50</td>\n",
       "      <td>9.0</td>\n",
       "      <td>9.50</td>\n",
       "      <td>10.0</td>\n",
       "    </tr>\n",
       "    <tr>\n",
       "      <th>gl</th>\n",
       "      <td>3.0</td>\n",
       "      <td>2.333333</td>\n",
       "      <td>4.041452</td>\n",
       "      <td>0.0</td>\n",
       "      <td>0.00</td>\n",
       "      <td>0.0</td>\n",
       "      <td>3.50</td>\n",
       "      <td>7.0</td>\n",
       "    </tr>\n",
       "    <tr>\n",
       "      <th>zh-TW</th>\n",
       "      <td>2.0</td>\n",
       "      <td>4.500000</td>\n",
       "      <td>6.363961</td>\n",
       "      <td>0.0</td>\n",
       "      <td>2.25</td>\n",
       "      <td>4.5</td>\n",
       "      <td>6.75</td>\n",
       "      <td>9.0</td>\n",
       "    </tr>\n",
       "    <tr>\n",
       "      <th>ko</th>\n",
       "      <td>1.0</td>\n",
       "      <td>7.000000</td>\n",
       "      <td>NaN</td>\n",
       "      <td>7.0</td>\n",
       "      <td>7.00</td>\n",
       "      <td>7.0</td>\n",
       "      <td>7.00</td>\n",
       "      <td>7.0</td>\n",
       "    </tr>\n",
       "    <tr>\n",
       "      <th>gd</th>\n",
       "      <td>1.0</td>\n",
       "      <td>0.000000</td>\n",
       "      <td>NaN</td>\n",
       "      <td>0.0</td>\n",
       "      <td>0.00</td>\n",
       "      <td>0.0</td>\n",
       "      <td>0.00</td>\n",
       "      <td>0.0</td>\n",
       "    </tr>\n",
       "    <tr>\n",
       "      <th>ga</th>\n",
       "      <td>1.0</td>\n",
       "      <td>7.000000</td>\n",
       "      <td>NaN</td>\n",
       "      <td>7.0</td>\n",
       "      <td>7.00</td>\n",
       "      <td>7.0</td>\n",
       "      <td>7.00</td>\n",
       "      <td>7.0</td>\n",
       "    </tr>\n",
       "    <tr>\n",
       "      <th>fa</th>\n",
       "      <td>1.0</td>\n",
       "      <td>10.000000</td>\n",
       "      <td>NaN</td>\n",
       "      <td>10.0</td>\n",
       "      <td>10.00</td>\n",
       "      <td>10.0</td>\n",
       "      <td>10.00</td>\n",
       "      <td>10.0</td>\n",
       "    </tr>\n",
       "    <tr>\n",
       "      <th>ro</th>\n",
       "      <td>1.0</td>\n",
       "      <td>9.000000</td>\n",
       "      <td>NaN</td>\n",
       "      <td>9.0</td>\n",
       "      <td>9.00</td>\n",
       "      <td>9.0</td>\n",
       "      <td>9.00</td>\n",
       "      <td>9.0</td>\n",
       "    </tr>\n",
       "    <tr>\n",
       "      <th>eo</th>\n",
       "      <td>1.0</td>\n",
       "      <td>8.000000</td>\n",
       "      <td>NaN</td>\n",
       "      <td>8.0</td>\n",
       "      <td>8.00</td>\n",
       "      <td>8.0</td>\n",
       "      <td>8.00</td>\n",
       "      <td>8.0</td>\n",
       "    </tr>\n",
       "    <tr>\n",
       "      <th>th</th>\n",
       "      <td>1.0</td>\n",
       "      <td>0.000000</td>\n",
       "      <td>NaN</td>\n",
       "      <td>0.0</td>\n",
       "      <td>0.00</td>\n",
       "      <td>0.0</td>\n",
       "      <td>0.00</td>\n",
       "      <td>0.0</td>\n",
       "    </tr>\n",
       "    <tr>\n",
       "      <th>vi</th>\n",
       "      <td>1.0</td>\n",
       "      <td>8.000000</td>\n",
       "      <td>NaN</td>\n",
       "      <td>8.0</td>\n",
       "      <td>8.00</td>\n",
       "      <td>8.0</td>\n",
       "      <td>8.00</td>\n",
       "      <td>8.0</td>\n",
       "    </tr>\n",
       "    <tr>\n",
       "      <th>el</th>\n",
       "      <td>1.0</td>\n",
       "      <td>6.000000</td>\n",
       "      <td>NaN</td>\n",
       "      <td>6.0</td>\n",
       "      <td>6.00</td>\n",
       "      <td>6.0</td>\n",
       "      <td>6.00</td>\n",
       "      <td>6.0</td>\n",
       "    </tr>\n",
       "  </tbody>\n",
       "</table>\n",
       "</div>"
      ],
      "text/plain": [
       "             count       mean       std   min    25%   50%    75%   max\n",
       "language                                                               \n",
       "en        227862.0   5.671011  3.572905   0.0   2.00   7.0   8.00  10.0\n",
       "de          2761.0   5.371604  3.595021   0.0   1.00   7.0   8.00  10.0\n",
       "es          1850.0   5.556757  3.429625   0.0   2.00   7.0   8.00  10.0\n",
       "fr          1485.0   5.633670  3.538841   0.0   1.00   7.0   8.00  10.0\n",
       "it           366.0   5.983607  3.476694   0.0   4.00   7.0   8.75  10.0\n",
       "nl            97.0   5.061856  3.141836   0.0   2.00   6.0   8.00  10.0\n",
       "pt            66.0   6.590909  3.328096   0.0   6.00   8.0   9.00  10.0\n",
       "da            50.0   6.600000  3.200765   0.0   6.00   8.0   9.00  10.0\n",
       "ca            30.0   4.700000  3.239306   0.0   1.00   5.5   7.00  10.0\n",
       "ru            13.0   6.153846  3.954874   0.0   3.00   8.0   9.00  10.0\n",
       "ms            11.0   5.636364  3.294624   0.0   3.00   6.0   8.00  10.0\n",
       "no             6.0   4.333333  3.777124   0.0   1.25   4.5   7.00   9.0\n",
       "la             3.0   8.666667  0.577350   8.0   8.50   9.0   9.00   9.0\n",
       "zh-CN          3.0   8.666667  0.577350   8.0   8.50   9.0   9.00   9.0\n",
       "ja             3.0   7.000000  4.358899   2.0   5.50   9.0   9.50  10.0\n",
       "gl             3.0   2.333333  4.041452   0.0   0.00   0.0   3.50   7.0\n",
       "zh-TW          2.0   4.500000  6.363961   0.0   2.25   4.5   6.75   9.0\n",
       "ko             1.0   7.000000       NaN   7.0   7.00   7.0   7.00   7.0\n",
       "gd             1.0   0.000000       NaN   0.0   0.00   0.0   0.00   0.0\n",
       "ga             1.0   7.000000       NaN   7.0   7.00   7.0   7.00   7.0\n",
       "fa             1.0  10.000000       NaN  10.0  10.00  10.0  10.00  10.0\n",
       "ro             1.0   9.000000       NaN   9.0   9.00   9.0   9.00   9.0\n",
       "eo             1.0   8.000000       NaN   8.0   8.00   8.0   8.00   8.0\n",
       "th             1.0   0.000000       NaN   0.0   0.00   0.0   0.00   0.0\n",
       "vi             1.0   8.000000       NaN   8.0   8.00   8.0   8.00   8.0\n",
       "el             1.0   6.000000       NaN   6.0   6.00   6.0   6.00   6.0"
      ]
     },
     "execution_count": 24,
     "metadata": {},
     "output_type": "execute_result"
    }
   ],
   "source": [
    "books_ratings.groupby('language')['rating'].describe().sort_values(by = 'count', ascending = False)"
   ]
  },
  {
   "attachments": {},
   "cell_type": "markdown",
   "metadata": {},
   "source": [
    "## Author"
   ]
  },
  {
   "cell_type": "code",
   "execution_count": 269,
   "metadata": {},
   "outputs": [
    {
     "data": {
      "text/plain": [
       "54716"
      ]
     },
     "execution_count": 269,
     "metadata": {},
     "output_type": "execute_result"
    }
   ],
   "source": [
    "df.book_author.nunique()"
   ]
  },
  {
   "cell_type": "code",
   "execution_count": 204,
   "metadata": {},
   "outputs": [
    {
     "data": {
      "image/png": "[encoded data removed]",
      "text/plain": [
       "<Figure size 640x480 with 1 Axes>"
      ]
     },
     "metadata": {},
     "output_type": "display_data"
    }
   ],
   "source": [
    "# 책을 많이 쓴 저자 상위 10명\n",
    "top10_authors = df[['book_author', 'isbn','rating']].groupby('book_author')['isbn'].nunique().sort_values(ascending = False)[:50]\n",
    "\n",
    "for author in top10_authors.index : \n",
    "    plt.bar(author, df[df['book_author'] == author]['rating'].mean())\n"
   ]
  },
  {
   "cell_type": "code",
   "execution_count": 242,
   "metadata": {},
   "outputs": [
    {
     "data": {
      "text/plain": [
       "0         canada\n",
       "1         canada\n",
       "2         canada\n",
       "3         canada\n",
       "4         canada\n",
       "           ...  \n",
       "315079       usa\n",
       "315080    canada\n",
       "315081       usa\n",
       "315082       usa\n",
       "315083       usa\n",
       "Name: country, Length: 315084, dtype: object"
      ]
     },
     "execution_count": 242,
     "metadata": {},
     "output_type": "execute_result"
    }
   ],
   "source": [
    "df['country']"
   ]
  },
  {
   "cell_type": "code",
   "execution_count": 248,
   "metadata": {},
   "outputs": [],
   "source": [
    "tmp = df.set_index('country')"
   ]
  },
  {
   "cell_type": "code",
   "execution_count": 264,
   "metadata": {},
   "outputs": [
    {
     "data": {
      "text/plain": [
       "country\n",
       ",                False\n",
       "\\\"n/a\\\"\"         False\n",
       "aberdeenshire    False\n",
       "afghanistan      False\n",
       "alachua          False\n",
       "                 ...  \n",
       "ysa              False\n",
       "yugoslavia       False\n",
       "zambia           False\n",
       "zimbabwe         False\n",
       "álava            False\n",
       "Name: rating, Length: 330, dtype: bool"
      ]
     },
     "execution_count": 264,
     "metadata": {},
     "output_type": "execute_result"
    }
   ],
   "source": [
    "df.groupby('country')['rating'].count()> 1000"
   ]
  },
  {
   "cell_type": "code",
   "execution_count": 268,
   "metadata": {},
   "outputs": [
    {
     "data": {
      "text/plain": [
       "country\n",
       ",                False\n",
       "\\\"n/a\\\"\"         False\n",
       "aberdeenshire    False\n",
       "afghanistan      False\n",
       "alachua          False\n",
       "                 ...  \n",
       "ysa              False\n",
       "yugoslavia       False\n",
       "zambia           False\n",
       "zimbabwe         False\n",
       "álava            False\n",
       "Name: rating, Length: 330, dtype: bool"
      ]
     },
     "execution_count": 268,
     "metadata": {},
     "output_type": "execute_result"
    }
   ],
   "source": [
    "(df.groupby('country')['rating'].count()> 1000)"
   ]
  },
  {
   "cell_type": "code",
   "execution_count": 210,
   "metadata": {},
   "outputs": [
    {
     "data": {
      "text/plain": [
       "<BarContainer object of 330 artists>"
      ]
     },
     "execution_count": 210,
     "metadata": {},
     "output_type": "execute_result"
    },
    {
     "data": {
      "image/png": "[encoded data removed]",
      "text/plain": [
       "<Figure size 640x480 with 1 Axes>"
      ]
     },
     "metadata": {},
     "output_type": "display_data"
    }
   ],
   "source": [
    "plt.bar(df.groupby('country')['rating'].mean().index, df.groupby('country')['rating'].mean().values)"
   ]
  },
  {
   "attachments": {},
   "cell_type": "markdown",
   "metadata": {},
   "source": [
    "# cold start user"
   ]
  },
  {
   "cell_type": "code",
   "execution_count": 15,
   "metadata": {},
   "outputs": [],
   "source": [
    "test = pd.read_csv('./data/test_ratings.csv')"
   ]
  },
  {
   "cell_type": "code",
   "execution_count": 16,
   "metadata": {},
   "outputs": [
    {
     "data": {
      "text/html": [
       "<div>\n",
       "<style scoped>\n",
       "    .dataframe tbody tr th:only-of-type {\n",
       "        vertical-align: middle;\n",
       "    }\n",
       "\n",
       "    .dataframe tbody tr th {\n",
       "        vertical-align: top;\n",
       "    }\n",
       "\n",
       "    .dataframe thead th {\n",
       "        text-align: right;\n",
       "    }\n",
       "</style>\n",
       "<table border=\"1\" class=\"dataframe\">\n",
       "  <thead>\n",
       "    <tr style=\"text-align: right;\">\n",
       "      <th></th>\n",
       "      <th>user_id</th>\n",
       "      <th>isbn</th>\n",
       "      <th>rating</th>\n",
       "    </tr>\n",
       "  </thead>\n",
       "  <tbody>\n",
       "    <tr>\n",
       "      <th>0</th>\n",
       "      <td>8</td>\n",
       "      <td>0002005018</td>\n",
       "      <td>4</td>\n",
       "    </tr>\n",
       "    <tr>\n",
       "      <th>1</th>\n",
       "      <td>67544</td>\n",
       "      <td>0002005018</td>\n",
       "      <td>7</td>\n",
       "    </tr>\n",
       "    <tr>\n",
       "      <th>2</th>\n",
       "      <td>123629</td>\n",
       "      <td>0002005018</td>\n",
       "      <td>8</td>\n",
       "    </tr>\n",
       "    <tr>\n",
       "      <th>3</th>\n",
       "      <td>200273</td>\n",
       "      <td>0002005018</td>\n",
       "      <td>8</td>\n",
       "    </tr>\n",
       "    <tr>\n",
       "      <th>4</th>\n",
       "      <td>210926</td>\n",
       "      <td>0002005018</td>\n",
       "      <td>9</td>\n",
       "    </tr>\n",
       "  </tbody>\n",
       "</table>\n",
       "</div>"
      ],
      "text/plain": [
       "   user_id        isbn  rating\n",
       "0        8  0002005018       4\n",
       "1    67544  0002005018       7\n",
       "2   123629  0002005018       8\n",
       "3   200273  0002005018       8\n",
       "4   210926  0002005018       9"
      ]
     },
     "execution_count": 16,
     "metadata": {},
     "output_type": "execute_result"
    }
   ],
   "source": [
    "train.head()"
   ]
  },
  {
   "cell_type": "code",
   "execution_count": 17,
   "metadata": {},
   "outputs": [
    {
     "data": {
      "text/html": [
       "<div>\n",
       "<style scoped>\n",
       "    .dataframe tbody tr th:only-of-type {\n",
       "        vertical-align: middle;\n",
       "    }\n",
       "\n",
       "    .dataframe tbody tr th {\n",
       "        vertical-align: top;\n",
       "    }\n",
       "\n",
       "    .dataframe thead th {\n",
       "        text-align: right;\n",
       "    }\n",
       "</style>\n",
       "<table border=\"1\" class=\"dataframe\">\n",
       "  <thead>\n",
       "    <tr style=\"text-align: right;\">\n",
       "      <th></th>\n",
       "      <th>user_id</th>\n",
       "      <th>isbn</th>\n",
       "      <th>rating</th>\n",
       "    </tr>\n",
       "  </thead>\n",
       "  <tbody>\n",
       "    <tr>\n",
       "      <th>0</th>\n",
       "      <td>11676</td>\n",
       "      <td>0002005018</td>\n",
       "      <td>0</td>\n",
       "    </tr>\n",
       "    <tr>\n",
       "      <th>1</th>\n",
       "      <td>116866</td>\n",
       "      <td>0002005018</td>\n",
       "      <td>0</td>\n",
       "    </tr>\n",
       "    <tr>\n",
       "      <th>2</th>\n",
       "      <td>152827</td>\n",
       "      <td>0060973129</td>\n",
       "      <td>0</td>\n",
       "    </tr>\n",
       "    <tr>\n",
       "      <th>3</th>\n",
       "      <td>157969</td>\n",
       "      <td>0374157065</td>\n",
       "      <td>0</td>\n",
       "    </tr>\n",
       "    <tr>\n",
       "      <th>4</th>\n",
       "      <td>67958</td>\n",
       "      <td>0399135782</td>\n",
       "      <td>0</td>\n",
       "    </tr>\n",
       "  </tbody>\n",
       "</table>\n",
       "</div>"
      ],
      "text/plain": [
       "   user_id        isbn  rating\n",
       "0    11676  0002005018       0\n",
       "1   116866  0002005018       0\n",
       "2   152827  0060973129       0\n",
       "3   157969  0374157065       0\n",
       "4    67958  0399135782       0"
      ]
     },
     "execution_count": 17,
     "metadata": {},
     "output_type": "execute_result"
    }
   ],
   "source": [
    "test.head()"
   ]
  },
  {
   "cell_type": "code",
   "execution_count": 18,
   "metadata": {},
   "outputs": [
    {
     "data": {
      "text/plain": [
       "array([     8,  67544, 123629, ..., 278636, 278659, 278713])"
      ]
     },
     "execution_count": 18,
     "metadata": {},
     "output_type": "execute_result"
    }
   ],
   "source": [
    "train.user_id.unique()"
   ]
  },
  {
   "cell_type": "code",
   "execution_count": 19,
   "metadata": {},
   "outputs": [
    {
     "data": {
      "text/plain": [
       "array([ 11676, 116866, 152827, ..., 277680, 278257, 278543])"
      ]
     },
     "execution_count": 19,
     "metadata": {},
     "output_type": "execute_result"
    }
   ],
   "source": [
    "test.user_id.unique()"
   ]
  },
  {
   "cell_type": "code",
   "execution_count": 26,
   "metadata": {},
   "outputs": [],
   "source": [
    "cold_starter = list(set(test.user_id.unique()) - set(train.user_id.unique()))"
   ]
  },
  {
   "cell_type": "code",
   "execution_count": 27,
   "metadata": {},
   "outputs": [
    {
     "data": {
      "text/plain": [
       "8266"
      ]
     },
     "execution_count": 27,
     "metadata": {},
     "output_type": "execute_result"
    }
   ],
   "source": [
    "len(cold_starter)"
   ]
  },
  {
   "cell_type": "code",
   "execution_count": 31,
   "metadata": {},
   "outputs": [
    {
     "name": "stdout",
     "output_type": "stream",
     "text": [
      "cold start ratio : 10.78 %\n"
     ]
    }
   ],
   "source": [
    "print(f\"cold start ratio : {len(cold_starter)/len(test) * 100:>0.2f} %\")"
   ]
  },
  {
   "attachments": {},
   "cell_type": "markdown",
   "metadata": {},
   "source": [
    "# Feature 별 결측치 "
   ]
  },
  {
   "attachments": {},
   "cell_type": "markdown",
   "metadata": {},
   "source": [
    "## Users\n",
    "- age : 41%"
   ]
  },
  {
   "cell_type": "code",
   "execution_count": 32,
   "metadata": {},
   "outputs": [
    {
     "name": "stdout",
     "output_type": "stream",
     "text": [
      "<class 'pandas.core.frame.DataFrame'>\n",
      "RangeIndex: 68092 entries, 0 to 68091\n",
      "Data columns (total 3 columns):\n",
      " #   Column    Non-Null Count  Dtype  \n",
      "---  ------    --------------  -----  \n",
      " 0   user_id   68092 non-null  int64  \n",
      " 1   location  68092 non-null  object \n",
      " 2   age       40259 non-null  float64\n",
      "dtypes: float64(1), int64(1), object(1)\n",
      "memory usage: 1.6+ MB\n"
     ]
    }
   ],
   "source": [
    "users.info()"
   ]
  },
  {
   "attachments": {},
   "cell_type": "markdown",
   "metadata": {},
   "source": [
    "## Location"
   ]
  },
  {
   "cell_type": "code",
   "execution_count": 1,
   "metadata": {},
   "outputs": [],
   "source": [
    "import re"
   ]
  },
  {
   "cell_type": "code",
   "execution_count": 16,
   "metadata": {},
   "outputs": [
    {
     "data": {
      "text/plain": [
       "0                  timmins, ontario, canada\n",
       "1                   ottawa, ontario, canada\n",
       "2                             n/a, n/a, n/a\n",
       "3                  toronto, ontario, canada\n",
       "4        victoria, british columbia, canada\n",
       "                        ...                \n",
       "68087           danville, pennsylvania, usa\n",
       "68088            victoria, delaware, canada\n",
       "68089               irvington, alabama, usa\n",
       "68090            vancouver, washington, usa\n",
       "68091          albuquerque, new mexico, usa\n",
       "Name: location, Length: 68092, dtype: object"
      ]
     },
     "execution_count": 16,
     "metadata": {},
     "output_type": "execute_result"
    }
   ],
   "source": [
    "users['location']"
   ]
  },
  {
   "cell_type": "code",
   "execution_count": 31,
   "metadata": {},
   "outputs": [],
   "source": [
    "#location이 null값인 index\n",
    "location_null = np.where(users['location'].str.split(', ').str[-1].replace('n/a', np.nan).isnull())\n",
    "\n",
    "users.iloc[location_null]['location'] = np.nan # nan 값으로 처리"
   ]
  },
  {
   "attachments": {},
   "cell_type": "markdown",
   "metadata": {},
   "source": [
    "## Age\n",
    "- 전체 age의 데이터 분포대로 fillna"
   ]
  },
  {
   "cell_type": "code",
   "execution_count": 127,
   "metadata": {},
   "outputs": [],
   "source": [
    "age_null = users['age'].isnull()\n",
    "\n",
    "# test set의 연령 분포를 이용해서 Imputation? -> cheating인가? -> train set과 분포가 비슷하니 그냥 train set 분포대로 pick해도 될듯"
   ]
  },
  {
   "cell_type": "code",
   "execution_count": 128,
   "metadata": {},
   "outputs": [],
   "source": [
    "age_not_null = users['age'].notnull()"
   ]
  },
  {
   "cell_type": "code",
   "execution_count": 129,
   "metadata": {},
   "outputs": [],
   "source": [
    "age_dist = users[age_not_null]['age'].value_counts(normalize = True)"
   ]
  },
  {
   "cell_type": "code",
   "execution_count": 130,
   "metadata": {},
   "outputs": [
    {
     "data": {
      "text/plain": [
       "array([52., 46., 45., ..., 25., 23., 22.])"
      ]
     },
     "execution_count": 130,
     "metadata": {},
     "output_type": "execute_result"
    }
   ],
   "source": [
    "np.random.choice(age_dist.index, size = len(age_null), p = age_dist.values)"
   ]
  },
  {
   "cell_type": "code",
   "execution_count": 131,
   "metadata": {},
   "outputs": [
    {
     "data": {
      "text/plain": [
       "0       NaN\n",
       "2       NaN\n",
       "6       NaN\n",
       "7       NaN\n",
       "9       NaN\n",
       "         ..\n",
       "68074   NaN\n",
       "68075   NaN\n",
       "68084   NaN\n",
       "68085   NaN\n",
       "68089   NaN\n",
       "Name: age, Length: 27833, dtype: float64"
      ]
     },
     "execution_count": 131,
     "metadata": {},
     "output_type": "execute_result"
    }
   ],
   "source": [
    "users.loc[age_null,'age']"
   ]
  },
  {
   "cell_type": "code",
   "execution_count": 132,
   "metadata": {},
   "outputs": [
    {
     "data": {
      "text/plain": [
       "<AxesSubplot: >"
      ]
     },
     "execution_count": 132,
     "metadata": {},
     "output_type": "execute_result"
    },
    {
     "data": {
      "image/png": "[encoded data removed]",
      "text/plain": [
       "<Figure size 640x480 with 1 Axes>"
      ]
     },
     "metadata": {},
     "output_type": "display_data"
    }
   ],
   "source": [
    "users.age.hist()"
   ]
  },
  {
   "cell_type": "code",
   "execution_count": 133,
   "metadata": {},
   "outputs": [],
   "source": [
    "users.loc[age_null, 'age'] = np.random.choice(age_dist.index, size = age_null.sum(), p = age_dist.values)"
   ]
  },
  {
   "cell_type": "code",
   "execution_count": 134,
   "metadata": {},
   "outputs": [
    {
     "data": {
      "text/plain": [
       "29.0    2205\n",
       "26.0    2126\n",
       "25.0    2080\n",
       "27.0    2057\n",
       "34.0    2053\n",
       "        ... \n",
       "89.0       3\n",
       "96.0       2\n",
       "97.0       1\n",
       "98.0       1\n",
       "92.0       1\n",
       "Name: age, Length: 91, dtype: int64"
      ]
     },
     "execution_count": 134,
     "metadata": {},
     "output_type": "execute_result"
    }
   ],
   "source": [
    "users.age.value_counts()"
   ]
  },
  {
   "cell_type": "code",
   "execution_count": 164,
   "metadata": {},
   "outputs": [
    {
     "data": {
      "text/plain": [
       "<AxesSubplot: >"
      ]
     },
     "execution_count": 164,
     "metadata": {},
     "output_type": "execute_result"
    },
    {
     "data": {
      "image/png": "[encoded data removed]",
      "text/plain": [
       "<Figure size 640x480 with 1 Axes>"
      ]
     },
     "metadata": {},
     "output_type": "display_data"
    }
   ],
   "source": [
    "users.age.hist()"
   ]
  },
  {
   "attachments": {},
   "cell_type": "markdown",
   "metadata": {},
   "source": [
    "## Books"
   ]
  },
  {
   "cell_type": "code",
   "execution_count": 165,
   "metadata": {},
   "outputs": [
    {
     "name": "stdout",
     "output_type": "stream",
     "text": [
      "<class 'pandas.core.frame.DataFrame'>\n",
      "RangeIndex: 149570 entries, 0 to 149569\n",
      "Data columns (total 10 columns):\n",
      " #   Column               Non-Null Count   Dtype  \n",
      "---  ------               --------------   -----  \n",
      " 0   isbn                 149570 non-null  object \n",
      " 1   book_title           149570 non-null  object \n",
      " 2   book_author          149570 non-null  object \n",
      " 3   year_of_publication  149570 non-null  float64\n",
      " 4   publisher            149570 non-null  object \n",
      " 5   img_url              149570 non-null  object \n",
      " 6   language             82343 non-null   object \n",
      " 7   category             80719 non-null   object \n",
      " 8   summary              82343 non-null   object \n",
      " 9   img_path             149570 non-null  object \n",
      "dtypes: float64(1), object(9)\n",
      "memory usage: 11.4+ MB\n"
     ]
    }
   ],
   "source": [
    "books.info()"
   ]
  },
  {
   "attachments": {},
   "cell_type": "markdown",
   "metadata": {},
   "source": [
    "### Language\n",
    "- book_title을 이용해 language 분류 가능!"
   ]
  },
  {
   "cell_type": "code",
   "execution_count": 166,
   "metadata": {},
   "outputs": [
    {
     "name": "stdout",
     "output_type": "stream",
     "text": [
      "language null :  67227 ratio : 44.95\n",
      "category null :  68851 ratio : 46.03\n",
      "summary null :  67227 ratio : 44.95\n"
     ]
    }
   ],
   "source": [
    "print(\"language null : \", books.language.isnull().sum(), f\"ratio : {books.language.isnull().sum()/len(books)*100:0.2f}\" )\n",
    "print(\"category null : \", books.category.isnull().sum(), f\"ratio : {books.category.isnull().sum()/len(books)*100:0.2f}\" )\n",
    "print(\"summary null : \", books.summary.isnull().sum(), f\"ratio : {books.summary.isnull().sum()/len(books)*100:0.2f}\" )"
   ]
  },
  {
   "cell_type": "code",
   "execution_count": 176,
   "metadata": {},
   "outputs": [
    {
     "data": {
      "text/html": [
       "<div>\n",
       "<style scoped>\n",
       "    .dataframe tbody tr th:only-of-type {\n",
       "        vertical-align: middle;\n",
       "    }\n",
       "\n",
       "    .dataframe tbody tr th {\n",
       "        vertical-align: top;\n",
       "    }\n",
       "\n",
       "    .dataframe thead th {\n",
       "        text-align: right;\n",
       "    }\n",
       "</style>\n",
       "<table border=\"1\" class=\"dataframe\">\n",
       "  <thead>\n",
       "    <tr style=\"text-align: right;\">\n",
       "      <th></th>\n",
       "      <th>isbn</th>\n",
       "      <th>book_title</th>\n",
       "      <th>book_author</th>\n",
       "      <th>year_of_publication</th>\n",
       "      <th>publisher</th>\n",
       "      <th>img_url</th>\n",
       "      <th>language</th>\n",
       "      <th>category</th>\n",
       "      <th>summary</th>\n",
       "      <th>img_path</th>\n",
       "    </tr>\n",
       "  </thead>\n",
       "  <tbody>\n",
       "    <tr>\n",
       "      <th>0</th>\n",
       "      <td>0002005018</td>\n",
       "      <td>Clara Callan</td>\n",
       "      <td>Richard Bruce Wright</td>\n",
       "      <td>2001.0</td>\n",
       "      <td>HarperFlamingo Canada</td>\n",
       "      <td>http://images.amazon.com/images/P/0002005018.0...</td>\n",
       "      <td>en</td>\n",
       "      <td>['Actresses']</td>\n",
       "      <td>In a small town in Canada, Clara Callan reluct...</td>\n",
       "      <td>images/0002005018.01.THUMBZZZ.jpg</td>\n",
       "    </tr>\n",
       "    <tr>\n",
       "      <th>1</th>\n",
       "      <td>0060973129</td>\n",
       "      <td>Decision in Normandy</td>\n",
       "      <td>Carlo D'Este</td>\n",
       "      <td>1991.0</td>\n",
       "      <td>HarperPerennial</td>\n",
       "      <td>http://images.amazon.com/images/P/0060973129.0...</td>\n",
       "      <td>en</td>\n",
       "      <td>['1940-1949']</td>\n",
       "      <td>Here, for the first time in paperback, is an o...</td>\n",
       "      <td>images/0060973129.01.THUMBZZZ.jpg</td>\n",
       "    </tr>\n",
       "    <tr>\n",
       "      <th>2</th>\n",
       "      <td>0374157065</td>\n",
       "      <td>Flu: The Story of the Great Influenza Pandemic...</td>\n",
       "      <td>Gina Bari Kolata</td>\n",
       "      <td>1999.0</td>\n",
       "      <td>Farrar Straus Giroux</td>\n",
       "      <td>http://images.amazon.com/images/P/0374157065.0...</td>\n",
       "      <td>en</td>\n",
       "      <td>['Medical']</td>\n",
       "      <td>Describes the great flu epidemic of 1918, an o...</td>\n",
       "      <td>images/0374157065.01.THUMBZZZ.jpg</td>\n",
       "    </tr>\n",
       "    <tr>\n",
       "      <th>3</th>\n",
       "      <td>0399135782</td>\n",
       "      <td>The Kitchen God's Wife</td>\n",
       "      <td>Amy Tan</td>\n",
       "      <td>1991.0</td>\n",
       "      <td>Putnam Pub Group</td>\n",
       "      <td>http://images.amazon.com/images/P/0399135782.0...</td>\n",
       "      <td>en</td>\n",
       "      <td>['Fiction']</td>\n",
       "      <td>A Chinese immigrant who is convinced she is dy...</td>\n",
       "      <td>images/0399135782.01.THUMBZZZ.jpg</td>\n",
       "    </tr>\n",
       "    <tr>\n",
       "      <th>4</th>\n",
       "      <td>0425176428</td>\n",
       "      <td>What If?: The World's Foremost Military Histor...</td>\n",
       "      <td>Robert Cowley</td>\n",
       "      <td>2000.0</td>\n",
       "      <td>Berkley Publishing Group</td>\n",
       "      <td>http://images.amazon.com/images/P/0425176428.0...</td>\n",
       "      <td>en</td>\n",
       "      <td>['History']</td>\n",
       "      <td>Essays by respected military historians, inclu...</td>\n",
       "      <td>images/0425176428.01.THUMBZZZ.jpg</td>\n",
       "    </tr>\n",
       "    <tr>\n",
       "      <th>...</th>\n",
       "      <td>...</td>\n",
       "      <td>...</td>\n",
       "      <td>...</td>\n",
       "      <td>...</td>\n",
       "      <td>...</td>\n",
       "      <td>...</td>\n",
       "      <td>...</td>\n",
       "      <td>...</td>\n",
       "      <td>...</td>\n",
       "      <td>...</td>\n",
       "    </tr>\n",
       "    <tr>\n",
       "      <th>149562</th>\n",
       "      <td>0670528951</td>\n",
       "      <td>Orson Welles</td>\n",
       "      <td>Barbara Leaming</td>\n",
       "      <td>1985.0</td>\n",
       "      <td>Penguin USA</td>\n",
       "      <td>http://images.amazon.com/images/P/0670528951.0...</td>\n",
       "      <td>en</td>\n",
       "      <td>['Biography &amp; Autobiography']</td>\n",
       "      <td>Based on two years of interviews and research,...</td>\n",
       "      <td>images/0670528951.01.THUMBZZZ.jpg</td>\n",
       "    </tr>\n",
       "    <tr>\n",
       "      <th>149563</th>\n",
       "      <td>0689818904</td>\n",
       "      <td>My Grandmother's Journey</td>\n",
       "      <td>John Cech</td>\n",
       "      <td>1998.0</td>\n",
       "      <td>Aladdin</td>\n",
       "      <td>http://images.amazon.com/images/P/0689818904.0...</td>\n",
       "      <td>en</td>\n",
       "      <td>['Juvenile Fiction']</td>\n",
       "      <td>A grandmother tells the story of her eventful ...</td>\n",
       "      <td>images/0689818904.01.THUMBZZZ.jpg</td>\n",
       "    </tr>\n",
       "    <tr>\n",
       "      <th>149565</th>\n",
       "      <td>067161746X</td>\n",
       "      <td>The Bachelor Home Companion: A Practical Guide...</td>\n",
       "      <td>P.J. O'Rourke</td>\n",
       "      <td>1987.0</td>\n",
       "      <td>Pocket Books</td>\n",
       "      <td>http://images.amazon.com/images/P/067161746X.0...</td>\n",
       "      <td>en</td>\n",
       "      <td>['Humor']</td>\n",
       "      <td>A tongue-in-cheek survival guide for single pe...</td>\n",
       "      <td>images/067161746X.01.THUMBZZZ.jpg</td>\n",
       "    </tr>\n",
       "    <tr>\n",
       "      <th>149566</th>\n",
       "      <td>0767907566</td>\n",
       "      <td>All Elevations Unknown: An Adventure in the He...</td>\n",
       "      <td>Sam Lightner</td>\n",
       "      <td>2001.0</td>\n",
       "      <td>Broadway Books</td>\n",
       "      <td>http://images.amazon.com/images/P/0767907566.0...</td>\n",
       "      <td>en</td>\n",
       "      <td>['Nature']</td>\n",
       "      <td>A daring twist on the travel-adventure genre t...</td>\n",
       "      <td>images/0767907566.01.THUMBZZZ.jpg</td>\n",
       "    </tr>\n",
       "    <tr>\n",
       "      <th>149568</th>\n",
       "      <td>0912333022</td>\n",
       "      <td>The Are You Being Served? Stories: 'Camping In...</td>\n",
       "      <td>Jeremy Lloyd</td>\n",
       "      <td>1997.0</td>\n",
       "      <td>Kqed Books</td>\n",
       "      <td>http://images.amazon.com/images/P/0912333022.0...</td>\n",
       "      <td>en</td>\n",
       "      <td>['Fiction']</td>\n",
       "      <td>These hilarious stories by the creator of publ...</td>\n",
       "      <td>images/0912333022.01.THUMBZZZ.jpg</td>\n",
       "    </tr>\n",
       "  </tbody>\n",
       "</table>\n",
       "<p>82343 rows × 10 columns</p>\n",
       "</div>"
      ],
      "text/plain": [
       "              isbn                                         book_title  \\\n",
       "0       0002005018                                       Clara Callan   \n",
       "1       0060973129                               Decision in Normandy   \n",
       "2       0374157065  Flu: The Story of the Great Influenza Pandemic...   \n",
       "3       0399135782                             The Kitchen God's Wife   \n",
       "4       0425176428  What If?: The World's Foremost Military Histor...   \n",
       "...            ...                                                ...   \n",
       "149562  0670528951                                       Orson Welles   \n",
       "149563  0689818904                           My Grandmother's Journey   \n",
       "149565  067161746X  The Bachelor Home Companion: A Practical Guide...   \n",
       "149566  0767907566  All Elevations Unknown: An Adventure in the He...   \n",
       "149568  0912333022  The Are You Being Served? Stories: 'Camping In...   \n",
       "\n",
       "                 book_author  year_of_publication                 publisher  \\\n",
       "0       Richard Bruce Wright               2001.0     HarperFlamingo Canada   \n",
       "1               Carlo D'Este               1991.0           HarperPerennial   \n",
       "2           Gina Bari Kolata               1999.0      Farrar Straus Giroux   \n",
       "3                    Amy Tan               1991.0          Putnam Pub Group   \n",
       "4              Robert Cowley               2000.0  Berkley Publishing Group   \n",
       "...                      ...                  ...                       ...   \n",
       "149562       Barbara Leaming               1985.0               Penguin USA   \n",
       "149563             John Cech               1998.0                   Aladdin   \n",
       "149565         P.J. O'Rourke               1987.0              Pocket Books   \n",
       "149566          Sam Lightner               2001.0            Broadway Books   \n",
       "149568          Jeremy Lloyd               1997.0                Kqed Books   \n",
       "\n",
       "                                                  img_url language  \\\n",
       "0       http://images.amazon.com/images/P/0002005018.0...       en   \n",
       "1       http://images.amazon.com/images/P/0060973129.0...       en   \n",
       "2       http://images.amazon.com/images/P/0374157065.0...       en   \n",
       "3       http://images.amazon.com/images/P/0399135782.0...       en   \n",
       "4       http://images.amazon.com/images/P/0425176428.0...       en   \n",
       "...                                                   ...      ...   \n",
       "149562  http://images.amazon.com/images/P/0670528951.0...       en   \n",
       "149563  http://images.amazon.com/images/P/0689818904.0...       en   \n",
       "149565  http://images.amazon.com/images/P/067161746X.0...       en   \n",
       "149566  http://images.amazon.com/images/P/0767907566.0...       en   \n",
       "149568  http://images.amazon.com/images/P/0912333022.0...       en   \n",
       "\n",
       "                             category  \\\n",
       "0                       ['Actresses']   \n",
       "1                       ['1940-1949']   \n",
       "2                         ['Medical']   \n",
       "3                         ['Fiction']   \n",
       "4                         ['History']   \n",
       "...                               ...   \n",
       "149562  ['Biography & Autobiography']   \n",
       "149563           ['Juvenile Fiction']   \n",
       "149565                      ['Humor']   \n",
       "149566                     ['Nature']   \n",
       "149568                    ['Fiction']   \n",
       "\n",
       "                                                  summary  \\\n",
       "0       In a small town in Canada, Clara Callan reluct...   \n",
       "1       Here, for the first time in paperback, is an o...   \n",
       "2       Describes the great flu epidemic of 1918, an o...   \n",
       "3       A Chinese immigrant who is convinced she is dy...   \n",
       "4       Essays by respected military historians, inclu...   \n",
       "...                                                   ...   \n",
       "149562  Based on two years of interviews and research,...   \n",
       "149563  A grandmother tells the story of her eventful ...   \n",
       "149565  A tongue-in-cheek survival guide for single pe...   \n",
       "149566  A daring twist on the travel-adventure genre t...   \n",
       "149568  These hilarious stories by the creator of publ...   \n",
       "\n",
       "                                 img_path  \n",
       "0       images/0002005018.01.THUMBZZZ.jpg  \n",
       "1       images/0060973129.01.THUMBZZZ.jpg  \n",
       "2       images/0374157065.01.THUMBZZZ.jpg  \n",
       "3       images/0399135782.01.THUMBZZZ.jpg  \n",
       "4       images/0425176428.01.THUMBZZZ.jpg  \n",
       "...                                   ...  \n",
       "149562  images/0670528951.01.THUMBZZZ.jpg  \n",
       "149563  images/0689818904.01.THUMBZZZ.jpg  \n",
       "149565  images/067161746X.01.THUMBZZZ.jpg  \n",
       "149566  images/0767907566.01.THUMBZZZ.jpg  \n",
       "149568  images/0912333022.01.THUMBZZZ.jpg  \n",
       "\n",
       "[82343 rows x 10 columns]"
      ]
     },
     "execution_count": 176,
     "metadata": {},
     "output_type": "execute_result"
    }
   ],
   "source": [
    "tmp_books = books[books.language.notnull()]"
   ]
  },
  {
   "cell_type": "code",
   "execution_count": 203,
   "metadata": {},
   "outputs": [],
   "source": [
    "def make_features(tmp_books) : # trainset + testset\n",
    "\n",
    "    from itertools import permutations\n",
    "    import collections\n",
    "\n",
    "    # Define a list of commonly found punctuations\n",
    "    punc = ('!', \",\" ,\"\\'\" ,\";\" ,\"\\\"\", \".\", \"-\" ,\"?\")\n",
    "    vowels=['a','e','i','o','u']\n",
    "    # Define a list of double consecutive vowels which are typically found in Dutch and Afrikaans languages\n",
    "    same_consecutive_vowels = ['aa','ee', 'ii', 'oo', 'uu'] \n",
    "    consecutive_vowels = [''.join(p) for p in permutations(vowels,2)]\n",
    "    dutch_combos = ['ij']\n",
    "\n",
    "    # Create a pre-defined set of features based on the \"text\" column in order to allow us to characterize the string\n",
    "    tmp_books['word_count'] = tmp_books['book_title'].apply(lambda x : len(x.split()))\n",
    "    tmp_books['character_count'] = tmp_books['book_title'].apply(lambda x : len(x.replace(\" \",\"\")))\n",
    "    tmp_books['word_density'] = tmp_books['word_count'] / (tmp_books['character_count'] + 1)\n",
    "    tmp_books['punc_count'] = tmp_books['book_title'].apply(lambda x : len([a for a in x if a in punc]))\n",
    "    tmp_books['v_char_count'] = tmp_books['book_title'].apply(lambda x : len([a for a in x if a.casefold() == 'v']))\n",
    "    tmp_books['w_char_count'] = tmp_books['book_title'].apply(lambda x : len([a for a in x if a.casefold() == 'w']))\n",
    "    tmp_books['ij_char_count'] = tmp_books['book_title'].apply(lambda x : sum([any(d_c in a for d_c in dutch_combos) for a in x.split()]))\n",
    "    tmp_books['num_double_consec_vowels'] = tmp_books['book_title'].apply(lambda x : sum([any(c_v in a for c_v in same_consecutive_vowels) for a in x.split()]))\n",
    "    tmp_books['num_consec_vowels'] = tmp_books['book_title'].apply(lambda x : sum([any(c_v in a for c_v in consecutive_vowels) for a in x.split()]))\n",
    "    tmp_books['num_vowels'] = tmp_books['book_title'].apply(lambda x : sum([any(v in a for v in vowels) for a in x.split()]))\n",
    "    tmp_books['vowel_density'] = tmp_books['num_vowels']/tmp_books['word_count']\n",
    "    tmp_books['capitals'] = tmp_books['book_title'].apply(lambda comment: sum(1 for c in comment if c.isupper()))\n",
    "    tmp_books['caps_vs_length'] = tmp_books.apply(lambda row: float(row['capitals'])/float(row['character_count']),axis=1)\n",
    "    tmp_books['num_exclamation_marks'] = tmp_books['book_title'].apply(lambda x: x.count('!'))\n",
    "    tmp_books['num_question_marks'] = tmp_books['book_title'].apply(lambda x: x.count('?'))\n",
    "    tmp_books['num_punctuation'] = tmp_books['book_title'].apply(lambda x: sum(x.count(w) for w in punc))\n",
    "    tmp_books['num_unique_words'] = tmp_books['book_title'].apply(lambda x: len(set(w for w in x.split())))\n",
    "    tmp_books['num_repeated_words'] = tmp_books['book_title'].apply(lambda x: len([w for w in collections.Counter(x.split()).values() if w > 1]))\n",
    "    tmp_books['words_vs_unique'] = tmp_books['num_unique_words'] / tmp_books['word_count']\n",
    "    tmp_books['encode_ascii'] = np.nan\n",
    "    \n",
    "    for i in range(len(tmp_books)):\n",
    "        try:\n",
    "            tmp_books['book_title'].iloc[i].encode(encoding='utf-8').decode('ascii')\n",
    "        except UnicodeDecodeError:\n",
    "            tmp_books['encode_ascii'].iloc[i] = 0\n",
    "        else:\n",
    "            tmp_books['encode_ascii'].iloc[i] = 1\n",
    "    \n",
    "    return tmp_books\n",
    "\n",
    "def train_test_split(tmp_books) : \n",
    "    \n",
    "    test = tmp_books[tmp_books.language.isnull()]\n",
    "    train = tmp_books[tmp_books.language.notnull()]\n",
    "    \n",
    "    feature_cols = tmp_books.columns[10:]\n",
    "    # X = tmp_books[feature_cols]\n",
    "    # y = tmp_books['language']\n",
    "    \n",
    "    X_test = test[feature_cols]\n",
    "    y_test = test['language']\n",
    "    \n",
    "    X_train = train[feature_cols]\n",
    "    y_train = train['language']\n",
    "\n",
    "    # from sklearn.model_selection import train_test_split\n",
    "    \n",
    "    # X_train, X_valid, y_train, y_valid = train_test_split(X, y, test_size = 0.2)\n",
    "    \n",
    "    data = {\n",
    "        'X_train' : X_train,\n",
    "        'X_test' : X_test,\n",
    "        'y_train' : y_train,\n",
    "        'y_valid' : y_test\n",
    "    }\n",
    "    \n",
    "    return data\n",
    "\n",
    "def fit_scaling_n_pca(data) : #trainset only\n",
    "    from sklearn.preprocessing import StandardScaler\n",
    "    from sklearn.decomposition import PCA\n",
    "    # Standardize the data\n",
    "    scaler = StandardScaler()\n",
    "    # Fit on training set only.\n",
    "    scaler.fit(data['X_train'])\n",
    "\n",
    "    # Make an instance of the model to retain 95% of the variance within the old features.\n",
    "    pca = PCA(.95)\n",
    "    pca.fit(data['X_train'])\n",
    "    \n",
    "    return scaler, pca\n",
    "\n",
    "def transform(data, scaler, pca) : # train + test set \n",
    "    data['X_train'] = scaler.transform(data['X_train'])\n",
    "    data['X_train'] = pca.transform(data['X_train'])\n",
    "    data['X_test'] = scaler.transform(data['X_test'])\n",
    "    data['X_test'] = pca.transform(data['X_test'])\n",
    "    \n",
    "    return data\n",
    "\n",
    "def train_RF(data, train = True) : \n",
    "    \n",
    "    if train : \n",
    "        from sklearn.ensemble import RandomForestClassifier\n",
    "        \n",
    "        rf_clf = RandomForestClassifier(n_estimators=100) # Create Random Forest classifer object\n",
    "        rf_clf = rf_clf.fit(data['X_train'],data['y_train']) # Fit/Train Random Forest Classifer on training set\n",
    "    else : \n",
    "        pass\n",
    "    \n",
    "    return rf_clf\n",
    "\n",
    "def test_RF(rf_clf, data, train = False) : \n",
    "    \n",
    "    y_pred = rf_clf.predict(data['X_test']) #Predict the response for test dataset\n",
    "    \n",
    "    return y_pred\n",
    "\n",
    "def fill_lang(df, y_pred) : \n",
    "    df.loc[df.language.isnull(), 'language'] = y_pred\n",
    "    \n",
    "    return df\n"
   ]
  },
  {
   "cell_type": "code",
   "execution_count": 204,
   "metadata": {},
   "outputs": [],
   "source": [
    "new_books = books.copy()\n",
    "new_books = make_features(new_books)\n",
    "data = train_test_split(new_books)\n",
    "scaler, pca = fit_scaling_n_pca(data)\n",
    "data = transform(data, scaler, pca)\n",
    "rf_clf = train_RF(data, train = True)\n",
    "y_pred = test_RF(rf_clf, data)\n",
    "new_books = fill_lang(new_books, y_pred)"
   ]
  },
  {
   "cell_type": "code",
   "execution_count": 205,
   "metadata": {},
   "outputs": [
    {
     "data": {
      "text/plain": [
       "0"
      ]
     },
     "execution_count": 205,
     "metadata": {},
     "output_type": "execute_result"
    }
   ],
   "source": [
    "new_books.language.isnull().sum()"
   ]
  },
  {
   "cell_type": "code",
   "execution_count": 47,
   "metadata": {},
   "outputs": [
    {
     "ename": "NameError",
     "evalue": "name 'new_books' is not defined",
     "output_type": "error",
     "traceback": [
      "\u001b[0;31m---------------------------------------------------------------------------\u001b[0m",
      "\u001b[0;31mNameError\u001b[0m                                 Traceback (most recent call last)",
      "Cell \u001b[0;32mIn [47], line 1\u001b[0m\n\u001b[0;32m----> 1\u001b[0m new_books\u001b[39m.\u001b[39miloc[:,:\u001b[39m10\u001b[39m]\n",
      "\u001b[0;31mNameError\u001b[0m: name 'new_books' is not defined"
     ]
    }
   ],
   "source": [
    "new_books.iloc[:,:10]"
   ]
  },
  {
   "cell_type": "code",
   "execution_count": 332,
   "metadata": {},
   "outputs": [],
   "source": [
    "new_books.to_csv('./books_lang.csv', index = False)"
   ]
  },
  {
   "cell_type": "code",
   "execution_count": 182,
   "metadata": {},
   "outputs": [
    {
     "data": {
      "text/html": [
       "<div>\n",
       "<style scoped>\n",
       "    .dataframe tbody tr th:only-of-type {\n",
       "        vertical-align: middle;\n",
       "    }\n",
       "\n",
       "    .dataframe tbody tr th {\n",
       "        vertical-align: top;\n",
       "    }\n",
       "\n",
       "    .dataframe thead th {\n",
       "        text-align: right;\n",
       "    }\n",
       "</style>\n",
       "<table border=\"1\" class=\"dataframe\">\n",
       "  <thead>\n",
       "    <tr style=\"text-align: right;\">\n",
       "      <th>language</th>\n",
       "      <th>ca</th>\n",
       "      <th>da</th>\n",
       "      <th>de</th>\n",
       "      <th>el</th>\n",
       "      <th>en</th>\n",
       "      <th>eo</th>\n",
       "      <th>es</th>\n",
       "      <th>fa</th>\n",
       "      <th>fr</th>\n",
       "      <th>ga</th>\n",
       "      <th>...</th>\n",
       "      <th>ms</th>\n",
       "      <th>nl</th>\n",
       "      <th>no</th>\n",
       "      <th>pt</th>\n",
       "      <th>ro</th>\n",
       "      <th>ru</th>\n",
       "      <th>th</th>\n",
       "      <th>vi</th>\n",
       "      <th>zh-CN</th>\n",
       "      <th>zh-TW</th>\n",
       "    </tr>\n",
       "  </thead>\n",
       "  <tbody>\n",
       "    <tr>\n",
       "      <th>year_of_publication</th>\n",
       "      <td>1995.608696</td>\n",
       "      <td>1995.081081</td>\n",
       "      <td>1997.488300</td>\n",
       "      <td>2003.000000</td>\n",
       "      <td>1995.354871</td>\n",
       "      <td>1992.000</td>\n",
       "      <td>1997.334317</td>\n",
       "      <td>1378.000000</td>\n",
       "      <td>1996.088335</td>\n",
       "      <td>1993.000000</td>\n",
       "      <td>...</td>\n",
       "      <td>2000.200000</td>\n",
       "      <td>1990.850746</td>\n",
       "      <td>1990.000000</td>\n",
       "      <td>1996.127660</td>\n",
       "      <td>1999.000000</td>\n",
       "      <td>1995.000000</td>\n",
       "      <td>2003.000000</td>\n",
       "      <td>1997.000000</td>\n",
       "      <td>1998.000000</td>\n",
       "      <td>1999.000000</td>\n",
       "    </tr>\n",
       "    <tr>\n",
       "      <th>word_count</th>\n",
       "      <td>6.347826</td>\n",
       "      <td>4.432432</td>\n",
       "      <td>4.877535</td>\n",
       "      <td>2.000000</td>\n",
       "      <td>6.387552</td>\n",
       "      <td>3.000</td>\n",
       "      <td>5.113078</td>\n",
       "      <td>4.000000</td>\n",
       "      <td>4.562854</td>\n",
       "      <td>6.000000</td>\n",
       "      <td>...</td>\n",
       "      <td>3.300000</td>\n",
       "      <td>4.358209</td>\n",
       "      <td>3.666667</td>\n",
       "      <td>7.085106</td>\n",
       "      <td>7.000000</td>\n",
       "      <td>7.666667</td>\n",
       "      <td>6.000000</td>\n",
       "      <td>12.000000</td>\n",
       "      <td>7.000000</td>\n",
       "      <td>5.000000</td>\n",
       "    </tr>\n",
       "    <tr>\n",
       "      <th>character_count</th>\n",
       "      <td>37.304348</td>\n",
       "      <td>23.756757</td>\n",
       "      <td>29.250390</td>\n",
       "      <td>14.000000</td>\n",
       "      <td>33.714411</td>\n",
       "      <td>24.000</td>\n",
       "      <td>26.479843</td>\n",
       "      <td>29.000000</td>\n",
       "      <td>23.764439</td>\n",
       "      <td>43.000000</td>\n",
       "      <td>...</td>\n",
       "      <td>21.200000</td>\n",
       "      <td>26.611940</td>\n",
       "      <td>19.333333</td>\n",
       "      <td>38.212766</td>\n",
       "      <td>40.000000</td>\n",
       "      <td>39.333333</td>\n",
       "      <td>40.000000</td>\n",
       "      <td>70.000000</td>\n",
       "      <td>26.666667</td>\n",
       "      <td>22.000000</td>\n",
       "    </tr>\n",
       "    <tr>\n",
       "      <th>word_density</th>\n",
       "      <td>0.165408</td>\n",
       "      <td>0.183284</td>\n",
       "      <td>0.161178</td>\n",
       "      <td>0.133333</td>\n",
       "      <td>0.186176</td>\n",
       "      <td>0.120</td>\n",
       "      <td>0.191382</td>\n",
       "      <td>0.133333</td>\n",
       "      <td>0.187410</td>\n",
       "      <td>0.136364</td>\n",
       "      <td>...</td>\n",
       "      <td>0.151218</td>\n",
       "      <td>0.156814</td>\n",
       "      <td>0.173810</td>\n",
       "      <td>0.186770</td>\n",
       "      <td>0.170732</td>\n",
       "      <td>0.186956</td>\n",
       "      <td>0.146341</td>\n",
       "      <td>0.169014</td>\n",
       "      <td>0.295169</td>\n",
       "      <td>0.217391</td>\n",
       "    </tr>\n",
       "    <tr>\n",
       "      <th>punc_count</th>\n",
       "      <td>0.434783</td>\n",
       "      <td>0.837838</td>\n",
       "      <td>1.797192</td>\n",
       "      <td>0.000000</td>\n",
       "      <td>0.493282</td>\n",
       "      <td>0.000</td>\n",
       "      <td>0.259587</td>\n",
       "      <td>2.000000</td>\n",
       "      <td>0.838052</td>\n",
       "      <td>0.000000</td>\n",
       "      <td>...</td>\n",
       "      <td>0.200000</td>\n",
       "      <td>0.552239</td>\n",
       "      <td>0.000000</td>\n",
       "      <td>0.382979</td>\n",
       "      <td>4.000000</td>\n",
       "      <td>1.000000</td>\n",
       "      <td>0.000000</td>\n",
       "      <td>0.000000</td>\n",
       "      <td>0.333333</td>\n",
       "      <td>1.000000</td>\n",
       "    </tr>\n",
       "    <tr>\n",
       "      <th>v_char_count</th>\n",
       "      <td>0.478261</td>\n",
       "      <td>0.270270</td>\n",
       "      <td>0.210608</td>\n",
       "      <td>0.000000</td>\n",
       "      <td>0.359426</td>\n",
       "      <td>0.000</td>\n",
       "      <td>0.319567</td>\n",
       "      <td>0.000000</td>\n",
       "      <td>0.325028</td>\n",
       "      <td>0.000000</td>\n",
       "      <td>...</td>\n",
       "      <td>0.100000</td>\n",
       "      <td>0.552239</td>\n",
       "      <td>0.666667</td>\n",
       "      <td>0.489362</td>\n",
       "      <td>0.000000</td>\n",
       "      <td>1.000000</td>\n",
       "      <td>0.000000</td>\n",
       "      <td>0.000000</td>\n",
       "      <td>0.333333</td>\n",
       "      <td>0.000000</td>\n",
       "    </tr>\n",
       "    <tr>\n",
       "      <th>w_char_count</th>\n",
       "      <td>0.000000</td>\n",
       "      <td>0.297297</td>\n",
       "      <td>0.290172</td>\n",
       "      <td>0.000000</td>\n",
       "      <td>0.474392</td>\n",
       "      <td>0.000</td>\n",
       "      <td>0.039331</td>\n",
       "      <td>0.000000</td>\n",
       "      <td>0.011325</td>\n",
       "      <td>0.000000</td>\n",
       "      <td>...</td>\n",
       "      <td>0.000000</td>\n",
       "      <td>0.268657</td>\n",
       "      <td>0.166667</td>\n",
       "      <td>0.042553</td>\n",
       "      <td>0.000000</td>\n",
       "      <td>0.000000</td>\n",
       "      <td>0.000000</td>\n",
       "      <td>0.000000</td>\n",
       "      <td>0.333333</td>\n",
       "      <td>0.000000</td>\n",
       "    </tr>\n",
       "    <tr>\n",
       "      <th>ij_char_count</th>\n",
       "      <td>0.000000</td>\n",
       "      <td>0.000000</td>\n",
       "      <td>0.001560</td>\n",
       "      <td>0.000000</td>\n",
       "      <td>0.000292</td>\n",
       "      <td>0.000</td>\n",
       "      <td>0.012783</td>\n",
       "      <td>0.000000</td>\n",
       "      <td>0.000000</td>\n",
       "      <td>0.000000</td>\n",
       "      <td>...</td>\n",
       "      <td>0.000000</td>\n",
       "      <td>0.119403</td>\n",
       "      <td>0.000000</td>\n",
       "      <td>0.000000</td>\n",
       "      <td>0.000000</td>\n",
       "      <td>0.000000</td>\n",
       "      <td>0.000000</td>\n",
       "      <td>0.000000</td>\n",
       "      <td>0.000000</td>\n",
       "      <td>0.000000</td>\n",
       "    </tr>\n",
       "    <tr>\n",
       "      <th>num_double_consec_vowels</th>\n",
       "      <td>0.000000</td>\n",
       "      <td>0.054054</td>\n",
       "      <td>0.045242</td>\n",
       "      <td>0.000000</td>\n",
       "      <td>0.237875</td>\n",
       "      <td>0.000</td>\n",
       "      <td>0.023599</td>\n",
       "      <td>0.000000</td>\n",
       "      <td>0.010193</td>\n",
       "      <td>0.000000</td>\n",
       "      <td>...</td>\n",
       "      <td>0.000000</td>\n",
       "      <td>0.328358</td>\n",
       "      <td>0.166667</td>\n",
       "      <td>0.063830</td>\n",
       "      <td>0.000000</td>\n",
       "      <td>0.000000</td>\n",
       "      <td>0.000000</td>\n",
       "      <td>1.000000</td>\n",
       "      <td>0.333333</td>\n",
       "      <td>1.000000</td>\n",
       "    </tr>\n",
       "    <tr>\n",
       "      <th>num_consec_vowels</th>\n",
       "      <td>0.869565</td>\n",
       "      <td>0.648649</td>\n",
       "      <td>1.148986</td>\n",
       "      <td>0.000000</td>\n",
       "      <td>1.088832</td>\n",
       "      <td>2.000</td>\n",
       "      <td>0.976401</td>\n",
       "      <td>0.000000</td>\n",
       "      <td>1.233296</td>\n",
       "      <td>3.000000</td>\n",
       "      <td>...</td>\n",
       "      <td>0.800000</td>\n",
       "      <td>1.089552</td>\n",
       "      <td>0.000000</td>\n",
       "      <td>1.510638</td>\n",
       "      <td>0.000000</td>\n",
       "      <td>0.333333</td>\n",
       "      <td>2.000000</td>\n",
       "      <td>4.000000</td>\n",
       "      <td>0.666667</td>\n",
       "      <td>1.000000</td>\n",
       "    </tr>\n",
       "    <tr>\n",
       "      <th>num_vowels</th>\n",
       "      <td>5.652174</td>\n",
       "      <td>4.000000</td>\n",
       "      <td>4.464899</td>\n",
       "      <td>2.000000</td>\n",
       "      <td>5.663613</td>\n",
       "      <td>3.000</td>\n",
       "      <td>4.385447</td>\n",
       "      <td>4.000000</td>\n",
       "      <td>4.253681</td>\n",
       "      <td>6.000000</td>\n",
       "      <td>...</td>\n",
       "      <td>3.300000</td>\n",
       "      <td>4.074627</td>\n",
       "      <td>3.333333</td>\n",
       "      <td>6.276596</td>\n",
       "      <td>6.000000</td>\n",
       "      <td>5.000000</td>\n",
       "      <td>5.000000</td>\n",
       "      <td>11.000000</td>\n",
       "      <td>6.333333</td>\n",
       "      <td>5.000000</td>\n",
       "    </tr>\n",
       "    <tr>\n",
       "      <th>vowel_density</th>\n",
       "      <td>0.895721</td>\n",
       "      <td>0.892728</td>\n",
       "      <td>0.931717</td>\n",
       "      <td>1.000000</td>\n",
       "      <td>0.894712</td>\n",
       "      <td>1.000</td>\n",
       "      <td>0.867548</td>\n",
       "      <td>1.000000</td>\n",
       "      <td>0.946306</td>\n",
       "      <td>1.000000</td>\n",
       "      <td>...</td>\n",
       "      <td>1.000000</td>\n",
       "      <td>0.940592</td>\n",
       "      <td>0.939815</td>\n",
       "      <td>0.882325</td>\n",
       "      <td>0.857143</td>\n",
       "      <td>0.548718</td>\n",
       "      <td>0.833333</td>\n",
       "      <td>0.916667</td>\n",
       "      <td>0.869048</td>\n",
       "      <td>1.000000</td>\n",
       "    </tr>\n",
       "    <tr>\n",
       "      <th>capitals</th>\n",
       "      <td>4.000000</td>\n",
       "      <td>3.756757</td>\n",
       "      <td>4.049922</td>\n",
       "      <td>2.000000</td>\n",
       "      <td>5.759322</td>\n",
       "      <td>3.000</td>\n",
       "      <td>4.120944</td>\n",
       "      <td>3.000000</td>\n",
       "      <td>3.194790</td>\n",
       "      <td>6.000000</td>\n",
       "      <td>...</td>\n",
       "      <td>2.400000</td>\n",
       "      <td>2.716418</td>\n",
       "      <td>2.500000</td>\n",
       "      <td>4.617021</td>\n",
       "      <td>7.000000</td>\n",
       "      <td>15.333333</td>\n",
       "      <td>6.000000</td>\n",
       "      <td>8.000000</td>\n",
       "      <td>2.666667</td>\n",
       "      <td>5.000000</td>\n",
       "    </tr>\n",
       "    <tr>\n",
       "      <th>caps_vs_length</th>\n",
       "      <td>0.118723</td>\n",
       "      <td>0.171578</td>\n",
       "      <td>0.146201</td>\n",
       "      <td>0.142857</td>\n",
       "      <td>0.184514</td>\n",
       "      <td>0.125</td>\n",
       "      <td>0.164978</td>\n",
       "      <td>0.103448</td>\n",
       "      <td>0.146267</td>\n",
       "      <td>0.139535</td>\n",
       "      <td>...</td>\n",
       "      <td>0.123552</td>\n",
       "      <td>0.116788</td>\n",
       "      <td>0.147126</td>\n",
       "      <td>0.130992</td>\n",
       "      <td>0.175000</td>\n",
       "      <td>0.426341</td>\n",
       "      <td>0.150000</td>\n",
       "      <td>0.114286</td>\n",
       "      <td>0.111532</td>\n",
       "      <td>0.227273</td>\n",
       "    </tr>\n",
       "    <tr>\n",
       "      <th>num_exclamation_marks</th>\n",
       "      <td>0.000000</td>\n",
       "      <td>0.000000</td>\n",
       "      <td>0.003120</td>\n",
       "      <td>0.000000</td>\n",
       "      <td>0.014069</td>\n",
       "      <td>0.000</td>\n",
       "      <td>0.008850</td>\n",
       "      <td>0.000000</td>\n",
       "      <td>0.010193</td>\n",
       "      <td>0.000000</td>\n",
       "      <td>...</td>\n",
       "      <td>0.000000</td>\n",
       "      <td>0.000000</td>\n",
       "      <td>0.000000</td>\n",
       "      <td>0.000000</td>\n",
       "      <td>0.000000</td>\n",
       "      <td>0.000000</td>\n",
       "      <td>0.000000</td>\n",
       "      <td>0.000000</td>\n",
       "      <td>0.000000</td>\n",
       "      <td>0.000000</td>\n",
       "    </tr>\n",
       "    <tr>\n",
       "      <th>num_question_marks</th>\n",
       "      <td>0.000000</td>\n",
       "      <td>0.162162</td>\n",
       "      <td>0.374415</td>\n",
       "      <td>0.000000</td>\n",
       "      <td>0.009211</td>\n",
       "      <td>0.000</td>\n",
       "      <td>0.013766</td>\n",
       "      <td>0.000000</td>\n",
       "      <td>0.337486</td>\n",
       "      <td>0.000000</td>\n",
       "      <td>...</td>\n",
       "      <td>0.000000</td>\n",
       "      <td>0.044776</td>\n",
       "      <td>0.000000</td>\n",
       "      <td>0.000000</td>\n",
       "      <td>2.000000</td>\n",
       "      <td>0.000000</td>\n",
       "      <td>0.000000</td>\n",
       "      <td>0.000000</td>\n",
       "      <td>0.000000</td>\n",
       "      <td>0.000000</td>\n",
       "    </tr>\n",
       "    <tr>\n",
       "      <th>num_punctuation</th>\n",
       "      <td>0.434783</td>\n",
       "      <td>0.837838</td>\n",
       "      <td>1.797192</td>\n",
       "      <td>0.000000</td>\n",
       "      <td>0.493282</td>\n",
       "      <td>0.000</td>\n",
       "      <td>0.259587</td>\n",
       "      <td>2.000000</td>\n",
       "      <td>0.838052</td>\n",
       "      <td>0.000000</td>\n",
       "      <td>...</td>\n",
       "      <td>0.200000</td>\n",
       "      <td>0.552239</td>\n",
       "      <td>0.000000</td>\n",
       "      <td>0.382979</td>\n",
       "      <td>4.000000</td>\n",
       "      <td>1.000000</td>\n",
       "      <td>0.000000</td>\n",
       "      <td>0.000000</td>\n",
       "      <td>0.333333</td>\n",
       "      <td>1.000000</td>\n",
       "    </tr>\n",
       "    <tr>\n",
       "      <th>num_unique_words</th>\n",
       "      <td>6.217391</td>\n",
       "      <td>4.351351</td>\n",
       "      <td>4.829953</td>\n",
       "      <td>2.000000</td>\n",
       "      <td>6.182130</td>\n",
       "      <td>3.000</td>\n",
       "      <td>4.980334</td>\n",
       "      <td>4.000000</td>\n",
       "      <td>4.513024</td>\n",
       "      <td>6.000000</td>\n",
       "      <td>...</td>\n",
       "      <td>2.900000</td>\n",
       "      <td>4.313433</td>\n",
       "      <td>3.666667</td>\n",
       "      <td>6.872340</td>\n",
       "      <td>6.000000</td>\n",
       "      <td>7.333333</td>\n",
       "      <td>6.000000</td>\n",
       "      <td>12.000000</td>\n",
       "      <td>6.333333</td>\n",
       "      <td>5.000000</td>\n",
       "    </tr>\n",
       "    <tr>\n",
       "      <th>num_repeated_words</th>\n",
       "      <td>0.130435</td>\n",
       "      <td>0.081081</td>\n",
       "      <td>0.046022</td>\n",
       "      <td>0.000000</td>\n",
       "      <td>0.189615</td>\n",
       "      <td>0.000</td>\n",
       "      <td>0.120944</td>\n",
       "      <td>0.000000</td>\n",
       "      <td>0.048698</td>\n",
       "      <td>0.000000</td>\n",
       "      <td>...</td>\n",
       "      <td>0.400000</td>\n",
       "      <td>0.044776</td>\n",
       "      <td>0.000000</td>\n",
       "      <td>0.170213</td>\n",
       "      <td>1.000000</td>\n",
       "      <td>0.333333</td>\n",
       "      <td>0.000000</td>\n",
       "      <td>0.000000</td>\n",
       "      <td>0.666667</td>\n",
       "      <td>0.000000</td>\n",
       "    </tr>\n",
       "    <tr>\n",
       "      <th>words_vs_unique</th>\n",
       "      <td>0.982790</td>\n",
       "      <td>0.990734</td>\n",
       "      <td>0.994908</td>\n",
       "      <td>1.000000</td>\n",
       "      <td>0.982596</td>\n",
       "      <td>1.000</td>\n",
       "      <td>0.986763</td>\n",
       "      <td>1.000000</td>\n",
       "      <td>0.994417</td>\n",
       "      <td>1.000000</td>\n",
       "      <td>...</td>\n",
       "      <td>0.966667</td>\n",
       "      <td>0.995018</td>\n",
       "      <td>1.000000</td>\n",
       "      <td>0.984718</td>\n",
       "      <td>0.857143</td>\n",
       "      <td>0.974359</td>\n",
       "      <td>1.000000</td>\n",
       "      <td>1.000000</td>\n",
       "      <td>0.933333</td>\n",
       "      <td>1.000000</td>\n",
       "    </tr>\n",
       "    <tr>\n",
       "      <th>encode_ascii</th>\n",
       "      <td>0.217391</td>\n",
       "      <td>0.864865</td>\n",
       "      <td>0.723869</td>\n",
       "      <td>1.000000</td>\n",
       "      <td>0.998604</td>\n",
       "      <td>1.000</td>\n",
       "      <td>0.879056</td>\n",
       "      <td>1.000000</td>\n",
       "      <td>0.706682</td>\n",
       "      <td>1.000000</td>\n",
       "      <td>...</td>\n",
       "      <td>1.000000</td>\n",
       "      <td>0.925373</td>\n",
       "      <td>0.833333</td>\n",
       "      <td>0.468085</td>\n",
       "      <td>0.000000</td>\n",
       "      <td>1.000000</td>\n",
       "      <td>1.000000</td>\n",
       "      <td>1.000000</td>\n",
       "      <td>0.666667</td>\n",
       "      <td>1.000000</td>\n",
       "    </tr>\n",
       "  </tbody>\n",
       "</table>\n",
       "<p>21 rows × 26 columns</p>\n",
       "</div>"
      ],
      "text/plain": [
       "language                           ca           da           de           el  \\\n",
       "year_of_publication       1995.608696  1995.081081  1997.488300  2003.000000   \n",
       "word_count                   6.347826     4.432432     4.877535     2.000000   \n",
       "character_count             37.304348    23.756757    29.250390    14.000000   \n",
       "word_density                 0.165408     0.183284     0.161178     0.133333   \n",
       "punc_count                   0.434783     0.837838     1.797192     0.000000   \n",
       "v_char_count                 0.478261     0.270270     0.210608     0.000000   \n",
       "w_char_count                 0.000000     0.297297     0.290172     0.000000   \n",
       "ij_char_count                0.000000     0.000000     0.001560     0.000000   \n",
       "num_double_consec_vowels     0.000000     0.054054     0.045242     0.000000   \n",
       "num_consec_vowels            0.869565     0.648649     1.148986     0.000000   \n",
       "num_vowels                   5.652174     4.000000     4.464899     2.000000   \n",
       "vowel_density                0.895721     0.892728     0.931717     1.000000   \n",
       "capitals                     4.000000     3.756757     4.049922     2.000000   \n",
       "caps_vs_length               0.118723     0.171578     0.146201     0.142857   \n",
       "num_exclamation_marks        0.000000     0.000000     0.003120     0.000000   \n",
       "num_question_marks           0.000000     0.162162     0.374415     0.000000   \n",
       "num_punctuation              0.434783     0.837838     1.797192     0.000000   \n",
       "num_unique_words             6.217391     4.351351     4.829953     2.000000   \n",
       "num_repeated_words           0.130435     0.081081     0.046022     0.000000   \n",
       "words_vs_unique              0.982790     0.990734     0.994908     1.000000   \n",
       "encode_ascii                 0.217391     0.864865     0.723869     1.000000   \n",
       "\n",
       "language                           en        eo           es           fa  \\\n",
       "year_of_publication       1995.354871  1992.000  1997.334317  1378.000000   \n",
       "word_count                   6.387552     3.000     5.113078     4.000000   \n",
       "character_count             33.714411    24.000    26.479843    29.000000   \n",
       "word_density                 0.186176     0.120     0.191382     0.133333   \n",
       "punc_count                   0.493282     0.000     0.259587     2.000000   \n",
       "v_char_count                 0.359426     0.000     0.319567     0.000000   \n",
       "w_char_count                 0.474392     0.000     0.039331     0.000000   \n",
       "ij_char_count                0.000292     0.000     0.012783     0.000000   \n",
       "num_double_consec_vowels     0.237875     0.000     0.023599     0.000000   \n",
       "num_consec_vowels            1.088832     2.000     0.976401     0.000000   \n",
       "num_vowels                   5.663613     3.000     4.385447     4.000000   \n",
       "vowel_density                0.894712     1.000     0.867548     1.000000   \n",
       "capitals                     5.759322     3.000     4.120944     3.000000   \n",
       "caps_vs_length               0.184514     0.125     0.164978     0.103448   \n",
       "num_exclamation_marks        0.014069     0.000     0.008850     0.000000   \n",
       "num_question_marks           0.009211     0.000     0.013766     0.000000   \n",
       "num_punctuation              0.493282     0.000     0.259587     2.000000   \n",
       "num_unique_words             6.182130     3.000     4.980334     4.000000   \n",
       "num_repeated_words           0.189615     0.000     0.120944     0.000000   \n",
       "words_vs_unique              0.982596     1.000     0.986763     1.000000   \n",
       "encode_ascii                 0.998604     1.000     0.879056     1.000000   \n",
       "\n",
       "language                           fr           ga  ...           ms  \\\n",
       "year_of_publication       1996.088335  1993.000000  ...  2000.200000   \n",
       "word_count                   4.562854     6.000000  ...     3.300000   \n",
       "character_count             23.764439    43.000000  ...    21.200000   \n",
       "word_density                 0.187410     0.136364  ...     0.151218   \n",
       "punc_count                   0.838052     0.000000  ...     0.200000   \n",
       "v_char_count                 0.325028     0.000000  ...     0.100000   \n",
       "w_char_count                 0.011325     0.000000  ...     0.000000   \n",
       "ij_char_count                0.000000     0.000000  ...     0.000000   \n",
       "num_double_consec_vowels     0.010193     0.000000  ...     0.000000   \n",
       "num_consec_vowels            1.233296     3.000000  ...     0.800000   \n",
       "num_vowels                   4.253681     6.000000  ...     3.300000   \n",
       "vowel_density                0.946306     1.000000  ...     1.000000   \n",
       "capitals                     3.194790     6.000000  ...     2.400000   \n",
       "caps_vs_length               0.146267     0.139535  ...     0.123552   \n",
       "num_exclamation_marks        0.010193     0.000000  ...     0.000000   \n",
       "num_question_marks           0.337486     0.000000  ...     0.000000   \n",
       "num_punctuation              0.838052     0.000000  ...     0.200000   \n",
       "num_unique_words             4.513024     6.000000  ...     2.900000   \n",
       "num_repeated_words           0.048698     0.000000  ...     0.400000   \n",
       "words_vs_unique              0.994417     1.000000  ...     0.966667   \n",
       "encode_ascii                 0.706682     1.000000  ...     1.000000   \n",
       "\n",
       "language                           nl           no           pt           ro  \\\n",
       "year_of_publication       1990.850746  1990.000000  1996.127660  1999.000000   \n",
       "word_count                   4.358209     3.666667     7.085106     7.000000   \n",
       "character_count             26.611940    19.333333    38.212766    40.000000   \n",
       "word_density                 0.156814     0.173810     0.186770     0.170732   \n",
       "punc_count                   0.552239     0.000000     0.382979     4.000000   \n",
       "v_char_count                 0.552239     0.666667     0.489362     0.000000   \n",
       "w_char_count                 0.268657     0.166667     0.042553     0.000000   \n",
       "ij_char_count                0.119403     0.000000     0.000000     0.000000   \n",
       "num_double_consec_vowels     0.328358     0.166667     0.063830     0.000000   \n",
       "num_consec_vowels            1.089552     0.000000     1.510638     0.000000   \n",
       "num_vowels                   4.074627     3.333333     6.276596     6.000000   \n",
       "vowel_density                0.940592     0.939815     0.882325     0.857143   \n",
       "capitals                     2.716418     2.500000     4.617021     7.000000   \n",
       "caps_vs_length               0.116788     0.147126     0.130992     0.175000   \n",
       "num_exclamation_marks        0.000000     0.000000     0.000000     0.000000   \n",
       "num_question_marks           0.044776     0.000000     0.000000     2.000000   \n",
       "num_punctuation              0.552239     0.000000     0.382979     4.000000   \n",
       "num_unique_words             4.313433     3.666667     6.872340     6.000000   \n",
       "num_repeated_words           0.044776     0.000000     0.170213     1.000000   \n",
       "words_vs_unique              0.995018     1.000000     0.984718     0.857143   \n",
       "encode_ascii                 0.925373     0.833333     0.468085     0.000000   \n",
       "\n",
       "language                           ru           th           vi        zh-CN  \\\n",
       "year_of_publication       1995.000000  2003.000000  1997.000000  1998.000000   \n",
       "word_count                   7.666667     6.000000    12.000000     7.000000   \n",
       "character_count             39.333333    40.000000    70.000000    26.666667   \n",
       "word_density                 0.186956     0.146341     0.169014     0.295169   \n",
       "punc_count                   1.000000     0.000000     0.000000     0.333333   \n",
       "v_char_count                 1.000000     0.000000     0.000000     0.333333   \n",
       "w_char_count                 0.000000     0.000000     0.000000     0.333333   \n",
       "ij_char_count                0.000000     0.000000     0.000000     0.000000   \n",
       "num_double_consec_vowels     0.000000     0.000000     1.000000     0.333333   \n",
       "num_consec_vowels            0.333333     2.000000     4.000000     0.666667   \n",
       "num_vowels                   5.000000     5.000000    11.000000     6.333333   \n",
       "vowel_density                0.548718     0.833333     0.916667     0.869048   \n",
       "capitals                    15.333333     6.000000     8.000000     2.666667   \n",
       "caps_vs_length               0.426341     0.150000     0.114286     0.111532   \n",
       "num_exclamation_marks        0.000000     0.000000     0.000000     0.000000   \n",
       "num_question_marks           0.000000     0.000000     0.000000     0.000000   \n",
       "num_punctuation              1.000000     0.000000     0.000000     0.333333   \n",
       "num_unique_words             7.333333     6.000000    12.000000     6.333333   \n",
       "num_repeated_words           0.333333     0.000000     0.000000     0.666667   \n",
       "words_vs_unique              0.974359     1.000000     1.000000     0.933333   \n",
       "encode_ascii                 1.000000     1.000000     1.000000     0.666667   \n",
       "\n",
       "language                        zh-TW  \n",
       "year_of_publication       1999.000000  \n",
       "word_count                   5.000000  \n",
       "character_count             22.000000  \n",
       "word_density                 0.217391  \n",
       "punc_count                   1.000000  \n",
       "v_char_count                 0.000000  \n",
       "w_char_count                 0.000000  \n",
       "ij_char_count                0.000000  \n",
       "num_double_consec_vowels     1.000000  \n",
       "num_consec_vowels            1.000000  \n",
       "num_vowels                   5.000000  \n",
       "vowel_density                1.000000  \n",
       "capitals                     5.000000  \n",
       "caps_vs_length               0.227273  \n",
       "num_exclamation_marks        0.000000  \n",
       "num_question_marks           0.000000  \n",
       "num_punctuation              1.000000  \n",
       "num_unique_words             5.000000  \n",
       "num_repeated_words           0.000000  \n",
       "words_vs_unique              1.000000  \n",
       "encode_ascii                 1.000000  \n",
       "\n",
       "[21 rows x 26 columns]"
      ]
     },
     "execution_count": 182,
     "metadata": {},
     "output_type": "execute_result"
    }
   ],
   "source": [
    "tmp_books.groupby('language').mean().T"
   ]
  },
  {
   "cell_type": "code",
   "execution_count": 57,
   "metadata": {},
   "outputs": [
    {
     "data": {
      "text/plain": [
       "Index(['isbn', 'book_title', 'book_author', 'year_of_publication', 'publisher',\n",
       "       'img_url', 'language', 'category', 'summary', 'img_path', 'word_count',\n",
       "       'character_count', 'word_density', 'punc_count', 'v_char_count',\n",
       "       'w_char_count', 'ij_char_count', 'num_double_consec_vowels',\n",
       "       'num_consec_vowels', 'num_vowels', 'vowel_density', 'capitals',\n",
       "       'caps_vs_length', 'num_exclamation_marks', 'num_question_marks',\n",
       "       'num_punctuation', 'num_unique_words', 'num_repeated_words',\n",
       "       'words_vs_unique', 'encode_ascii'],\n",
       "      dtype='object')"
      ]
     },
     "execution_count": 57,
     "metadata": {},
     "output_type": "execute_result"
    }
   ],
   "source": [
    "b = pd.read_csv('./books_lang.csv')\n",
    "b.columns"
   ]
  },
  {
   "cell_type": "code",
   "execution_count": 59,
   "metadata": {},
   "outputs": [
    {
     "data": {
      "text/plain": [
       "Index(['isbn', 'book_title', 'book_author', 'year_of_publication', 'publisher',\n",
       "       'img_url', 'language', 'category', 'summary', 'img_path'],\n",
       "      dtype='object')"
      ]
     },
     "execution_count": 59,
     "metadata": {},
     "output_type": "execute_result"
    }
   ],
   "source": [
    "b = b.iloc[:,:10]\n",
    "b.columns"
   ]
  },
  {
   "cell_type": "code",
   "execution_count": 60,
   "metadata": {},
   "outputs": [],
   "source": [
    "b.to_csv('./books_lang.csv', index = False)"
   ]
  },
  {
   "cell_type": "code",
   "execution_count": 185,
   "metadata": {},
   "outputs": [
    {
     "data": {
      "text/plain": [
       "Index(['word_count', 'character_count', 'word_density', 'punc_count',\n",
       "       'v_char_count', 'w_char_count', 'ij_char_count',\n",
       "       'num_double_consec_vowels', 'num_consec_vowels', 'num_vowels',\n",
       "       'vowel_density', 'capitals', 'caps_vs_length', 'num_exclamation_marks',\n",
       "       'num_question_marks', 'num_punctuation', 'num_unique_words',\n",
       "       'num_repeated_words', 'words_vs_unique', 'encode_ascii'],\n",
       "      dtype='object')"
      ]
     },
     "execution_count": 185,
     "metadata": {},
     "output_type": "execute_result"
    }
   ],
   "source": [
    "tmp_books.columns[10:]"
   ]
  },
  {
   "cell_type": "code",
   "execution_count": 190,
   "metadata": {},
   "outputs": [],
   "source": [
    "feature_cols = tmp_books.columns[10:]\n",
    "X = tmp_books[feature_cols]\n",
    "y = tmp_books['language']\n",
    "\n",
    "from sklearn.model_selection import train_test_split\n",
    "X_train, X_valid, y_train, y_valid = train_test_split(X, y, test_size = 0.2)"
   ]
  },
  {
   "cell_type": "code",
   "execution_count": 191,
   "metadata": {},
   "outputs": [
    {
     "name": "stdout",
     "output_type": "stream",
     "text": [
      "Number of Principal Components = 12\n"
     ]
    }
   ],
   "source": [
    "from sklearn.preprocessing import StandardScaler\n",
    "from sklearn.decomposition import PCA\n",
    "# Standardize the data\n",
    "scaler = StandardScaler()\n",
    "# Fit on training set only.\n",
    "scaler.fit(X_train)\n",
    "# Transform both the training set and the test set.\n",
    "X_train = scaler.transform(X_train)\n",
    "X_valid = scaler.transform(X_valid)\n",
    "\n",
    "# Make an instance of the model to retain 95% of the variance within the old features.\n",
    "pca = PCA(.95)\n",
    "pca.fit(X_train)\n",
    "\n",
    "print('Number of Principal Components = '+str(pca.n_components_))\n",
    "# Number of Principal Components = 13\n",
    "\n",
    "X_train = pca.transform(X_train)\n",
    "X_valid = pca.transform(X_valid)\n"
   ]
  },
  {
   "cell_type": "code",
   "execution_count": 193,
   "metadata": {},
   "outputs": [],
   "source": [
    "from sklearn.ensemble import RandomForestClassifier\n",
    "\n",
    "\n",
    "rf_clf = RandomForestClassifier(n_estimators=100) # Create Random Forest classifer object\n",
    "rf_clf = rf_clf.fit(X_train,y_train) # Fit/Train Random Forest Classifer on training set\n",
    "\n",
    "# # Save model to file in the current working directory so that it can be imported and used.\n",
    "# pkl_file = \"random_forest_model.pkl\"\n",
    "# with open(pkl_file, 'wb') as file:\n",
    "#     pickle.dump(rf_clf, file)\n",
    "\n",
    "# # Load previously trained model from pickle file\n",
    "# with open(pkl_file, 'rb') as file:\n",
    "#     rf_clf = pickle.load(file)\n",
    "# rf_clf\n",
    "\n",
    "y_pred = rf_clf.predict(X_valid) #Predict the response for test dataset"
   ]
  },
  {
   "cell_type": "code",
   "execution_count": 196,
   "metadata": {},
   "outputs": [
    {
     "data": {
      "text/plain": [
       "0.961746311251442"
      ]
     },
     "execution_count": 196,
     "metadata": {},
     "output_type": "execute_result"
    }
   ],
   "source": [
    "# validation 결과\n",
    "\n",
    "from sklearn.metrics import accuracy_score\n",
    "accuracy_score_rf = accuracy_score(y_valid, y_pred)\n",
    "accuracy_score_rf"
   ]
  },
  {
   "attachments": {},
   "cell_type": "markdown",
   "metadata": {},
   "source": [
    "### Category\n",
    "1. category 묶기\n",
    "2. 결측치 처리"
   ]
  },
  {
   "cell_type": "code",
   "execution_count": 209,
   "metadata": {},
   "outputs": [
    {
     "data": {
      "text/plain": [
       "68851"
      ]
     },
     "execution_count": 209,
     "metadata": {},
     "output_type": "execute_result"
    }
   ],
   "source": [
    "books.category.isnull().sum()"
   ]
  },
  {
   "cell_type": "code",
   "execution_count": 268,
   "metadata": {},
   "outputs": [
    {
     "data": {
      "text/plain": [
       "67227"
      ]
     },
     "execution_count": 268,
     "metadata": {},
     "output_type": "execute_result"
    }
   ],
   "source": [
    "books.summary.isnull().sum()"
   ]
  },
  {
   "cell_type": "code",
   "execution_count": 267,
   "metadata": {},
   "outputs": [
    {
     "data": {
      "text/plain": [
       "67227"
      ]
     },
     "execution_count": 267,
     "metadata": {},
     "output_type": "execute_result"
    }
   ],
   "source": [
    "books[books.category.isnull()]['summary'].isnull().sum()"
   ]
  },
  {
   "cell_type": "code",
   "execution_count": 227,
   "metadata": {},
   "outputs": [
    {
     "data": {
      "text/plain": [
       "4291"
      ]
     },
     "execution_count": 227,
     "metadata": {},
     "output_type": "execute_result"
    }
   ],
   "source": [
    "# category 특수문자 [,'지우기\n",
    "\n",
    "cat_unique = books[books.category.notnull()].category.str.replace(r\"\\[|\\]|'\", '', regex = True).unique()\n",
    "len(cat_unique)"
   ]
  },
  {
   "cell_type": "code",
   "execution_count": 262,
   "metadata": {},
   "outputs": [],
   "source": [
    "# category embedding\n",
    "\n",
    "# 1. remove special chars & tokenizing\n",
    "cat_tokens = books[books.category.notnull()].category.str.replace(r\"[^\\w]\", ' ', regex = True).str.split(' ').str[2:-2].values\n"
   ]
  },
  {
   "cell_type": "code",
   "execution_count": 266,
   "metadata": {},
   "outputs": [
    {
     "data": {
      "text/plain": [
       "array([list(['Actresses']), list(['1940', '1949']), list(['Medical']),\n",
       "       ..., list(['Humor']), list(['Nature']), list(['Fiction'])],\n",
       "      dtype=object)"
      ]
     },
     "execution_count": 266,
     "metadata": {},
     "output_type": "execute_result"
    }
   ],
   "source": [
    "cat_tokens"
   ]
  },
  {
   "cell_type": "code",
   "execution_count": 256,
   "metadata": {},
   "outputs": [
    {
     "name": "stdout",
     "output_type": "stream",
     "text": [
      "Collecting gensim\n",
      "  Downloading gensim-4.2.0-cp38-cp38-manylinux_2_12_x86_64.manylinux2010_x86_64.whl (24.1 MB)\n",
      "\u001b[K     |████████████████████████████████| 24.1 MB 16.5 MB/s eta 0:00:01\n",
      "\u001b[?25hRequirement already satisfied: scipy>=0.18.1 in /opt/conda/lib/python3.8/site-packages (from gensim) (1.9.3)\n",
      "Requirement already satisfied: numpy>=1.17.0 in /opt/conda/lib/python3.8/site-packages (from gensim) (1.23.4)\n",
      "Collecting smart-open>=1.8.1\n",
      "  Downloading smart_open-6.2.0-py3-none-any.whl (58 kB)\n",
      "\u001b[K     |████████████████████████████████| 58 kB 13.4 MB/s eta 0:00:01\n",
      "\u001b[?25hInstalling collected packages: smart-open, gensim\n",
      "Successfully installed gensim-4.2.0 smart-open-6.2.0\n"
     ]
    }
   ],
   "source": [
    "# 2. word2vec\n",
    "!pip install gensim"
   ]
  },
  {
   "cell_type": "code",
   "execution_count": 263,
   "metadata": {},
   "outputs": [],
   "source": [
    "# 2. word2vec\n",
    "from gensim.models import Word2Vec\n",
    "model = Word2Vec(cat_tokens)"
   ]
  },
  {
   "cell_type": "code",
   "execution_count": 265,
   "metadata": {},
   "outputs": [
    {
     "data": {
      "text/plain": [
       "[('Fiction', 0.9740858674049377),\n",
       " ('North', 0.4244236350059509),\n",
       " ('life', 0.4182770550251007),\n",
       " ('Great', 0.41682738065719604),\n",
       " ('Conduct', 0.41677868366241455),\n",
       " ('Adult', 0.4148251712322235),\n",
       " ('Bildungsromans', 0.4127874970436096),\n",
       " ('Young', 0.4113054871559143),\n",
       " ('Crime', 0.40681371092796326),\n",
       " ('Dragons', 0.40289998054504395)]"
      ]
     },
     "execution_count": 265,
     "metadata": {},
     "output_type": "execute_result"
    }
   ],
   "source": [
    "model.wv.most_similar('Nonfiction')"
   ]
  },
  {
   "cell_type": "code",
   "execution_count": 280,
   "metadata": {},
   "outputs": [
    {
     "data": {
      "text/plain": [
       "{'Actresses': 0,\n",
       " '1940-1949': 1,\n",
       " 'Medical': 2,\n",
       " 'Fiction': 3,\n",
       " 'History': 4,\n",
       " 'Nature': 5,\n",
       " 'Humor': 6,\n",
       " 'Cooking': 7,\n",
       " 'Reference': 8,\n",
       " 'Juvenile Fiction': 9,\n",
       " 'Canadian fiction': 10,\n",
       " 'Health & Fitness': 11,\n",
       " 'FICTION': 12,\n",
       " 'Control (Psychology)': 13,\n",
       " 'Cholistan Desert (Pakistan)': 14,\n",
       " 'Science': 15,\n",
       " 'Conduct of life': 16,\n",
       " 'Horses': 17,\n",
       " 'Political Science': 18,\n",
       " 'Brothers': 19,\n",
       " 'Baggins, Frodo (Fictitious character)': 20,\n",
       " 'Biography & Autobiography': 21,\n",
       " 'Business & Economics': 22,\n",
       " 'Americans': 23,\n",
       " 'Infanticide': 24,\n",
       " 'Cabala': 25,\n",
       " 'Literary Criticism': 26,\n",
       " 'Self-Help': 27,\n",
       " 'American fiction': 28,\n",
       " 'Humorous stories': 29,\n",
       " 'Diary fiction': 30,\n",
       " 'Religion': 31,\n",
       " 'Oglala Indians': 32,\n",
       " 'England': 33,\n",
       " 'Social Science': 34,\n",
       " 'Michigan': 35,\n",
       " 'Foster mothers': 36,\n",
       " 'Adolescence': 37,\n",
       " 'Dune (Imaginary place)': 38,\n",
       " 'Animals': 39,\n",
       " 'Great Britain': 40,\n",
       " 'London (England)': 41,\n",
       " 'Music': 42,\n",
       " 'Mars (Planet)': 43,\n",
       " 'Fairy tales': 44,\n",
       " \"Children's stories\": 45,\n",
       " 'Jews': 46,\n",
       " 'Fantasy fiction, English': 47,\n",
       " 'Arctic regions': 48,\n",
       " 'Poetry': 49,\n",
       " 'Comics & Graphic Novels': 50,\n",
       " 'Comic books, strips, etc': 51,\n",
       " 'Fantasy comic books, strips, etc': 52,\n",
       " 'Aerospace engineers': 53,\n",
       " 'Greek poetry': 54,\n",
       " 'Juvenile Nonfiction': 55,\n",
       " 'Gay men': 56,\n",
       " 'Orphans': 57,\n",
       " 'Family problems': 58,\n",
       " 'Computers': 59,\n",
       " 'American literature': 60,\n",
       " 'Businessmen': 61,\n",
       " 'Psychology': 62,\n",
       " 'Body, Mind & Spirit': 63,\n",
       " 'Self-perception': 64,\n",
       " 'Literary Collections': 65,\n",
       " 'Women': 66,\n",
       " 'Fantasy fiction': 67,\n",
       " 'Families': 68,\n",
       " 'Animal welfare': 69,\n",
       " 'Criminals': 70,\n",
       " 'Adulteresses': 71,\n",
       " 'Games': 72,\n",
       " 'Rapture (Christian eschatology)': 73,\n",
       " 'Presidents': 74,\n",
       " 'Family & Relationships': 75,\n",
       " 'Education': 76,\n",
       " 'Detective and mystery stories': 77,\n",
       " 'Fantasy': 78,\n",
       " 'Courage': 79,\n",
       " 'Horror tales': 80,\n",
       " 'Feminists': 81,\n",
       " 'Philosophy': 82,\n",
       " 'Growth': 83,\n",
       " 'Astronomy': 84,\n",
       " 'Dinosaurs': 85,\n",
       " 'Adventure and adventurers': 86,\n",
       " 'Community colleges': 87,\n",
       " 'Popular culture': 88,\n",
       " 'Technology & Engineering': 89,\n",
       " 'Artists': 90,\n",
       " 'Kenya': 91,\n",
       " 'Canon (Literarature)': 92,\n",
       " 'Courtship': 93,\n",
       " 'Israeli drama': 94,\n",
       " 'German language materials': 95,\n",
       " 'Young Adult Nonfiction': 96,\n",
       " 'Performing Arts': 97,\n",
       " 'Bk. 1': 98,\n",
       " 'Exercise': 99,\n",
       " 'Glasgow (Scotland)': 100,\n",
       " 'Colombian fiction': 101,\n",
       " 'Arthurian romances': 102,\n",
       " 'Young Adult Fiction': 103,\n",
       " 'Sports & Recreation': 104,\n",
       " 'Flute': 105,\n",
       " 'Ryan, Jack (Fictitious character)': 106,\n",
       " 'English language': 107,\n",
       " 'Journalists': 108,\n",
       " 'Authorship': 109,\n",
       " 'Actors': 110,\n",
       " 'Science fiction, French': 111,\n",
       " 'JUVENILE FICTION': 112,\n",
       " 'Trials (Murder)': 113,\n",
       " 'Travel': 114,\n",
       " 'Continental European fiction (Fictional works by one author).': 115,\n",
       " 'Authors, American': 116,\n",
       " 'California': 117,\n",
       " 'Pets': 118,\n",
       " 'Bosnia and Hercegovina': 119,\n",
       " 'Language Arts & Disciplines': 120,\n",
       " 'Crafts & Hobbies': 121,\n",
       " 'Berlin (Germany)': 122,\n",
       " 'Covenant, Thomas (Fictitious character)': 123,\n",
       " 'Blind': 124,\n",
       " 'Bildungsromans': 125,\n",
       " 'Monastic and religious life': 126,\n",
       " 'British and Irish fiction (Fictional works by one author).': 127,\n",
       " 'Brothers and sisters': 128,\n",
       " 'Drama': 129,\n",
       " 'Ballet dancers': 130,\n",
       " 'Atomic bomb': 131,\n",
       " 'Dogs': 132,\n",
       " 'Authors, Chilean': 133,\n",
       " 'Detective and mystery stories, English': 134,\n",
       " 'Character': 135,\n",
       " 'Dwellings': 136,\n",
       " 'Cork (Ireland : County)': 137,\n",
       " 'African American fiction': 138,\n",
       " 'Life on other planets': 139,\n",
       " 'Alchemists': 140,\n",
       " 'Geishas': 141,\n",
       " 'Christian fiction': 142,\n",
       " 'Christmas stories': 143,\n",
       " 'Fairies': 144,\n",
       " 'Elephants': 145,\n",
       " 'German fiction': 146,\n",
       " 'Imaginary wars and battles': 147,\n",
       " 'Biological warfare': 148,\n",
       " 'Audiobooks': 149,\n",
       " 'True Crime': 150,\n",
       " 'Italian fiction': 151,\n",
       " 'Cherokee Indians': 152,\n",
       " 'African American men': 153,\n",
       " 'Dent, Arthur (Fictitious character)': 154,\n",
       " 'Cats': 155,\n",
       " 'Brewing': 156,\n",
       " 'Environmental protection': 157,\n",
       " 'Moving, Household': 158,\n",
       " 'Extraterrestrial beings': 159,\n",
       " 'Domestic fiction': 160,\n",
       " 'Fantasy fiction, American': 161,\n",
       " 'Book burning': 162,\n",
       " 'English drama': 163,\n",
       " 'Law': 164,\n",
       " 'Connecticut': 165,\n",
       " 'Relaxation': 166,\n",
       " 'Dutch Americans': 167,\n",
       " 'Assertiveness (Psychology)': 168,\n",
       " \"Bug's life (Motion picture)\": 169,\n",
       " 'Science fiction': 170,\n",
       " 'French literature': 171,\n",
       " 'Adopted children': 172,\n",
       " 'Engineers': 173,\n",
       " 'Battle of Britain': 174,\n",
       " 'German language': 175,\n",
       " 'Ultramarine': 176,\n",
       " 'Australian fiction': 177,\n",
       " 'Historiography': 178,\n",
       " 'Blood groups': 179,\n",
       " 'Fantastic fiction.': 180,\n",
       " 'Appetizers': 181,\n",
       " 'Forensic anthropology': 182,\n",
       " 'Australian literature': 183,\n",
       " 'Track and field athletes': 184,\n",
       " 'Abortion': 185,\n",
       " 'Serial murderers': 186,\n",
       " 'Bible': 187,\n",
       " 'Antiquities': 188,\n",
       " 'Christian life': 189,\n",
       " 'Classic': 190,\n",
       " 'Japan': 191,\n",
       " 'Child psychologists': 192,\n",
       " 'Authors, Australian': 193,\n",
       " 'Alaska': 194,\n",
       " 'Childbirth': 195,\n",
       " 'Cookery for one': 196,\n",
       " 'Mustang': 197,\n",
       " 'Man-woman relationships': 198,\n",
       " 'Afghanistan': 199,\n",
       " 'Audiocassettes': 200,\n",
       " 'Brooklyn': 201,\n",
       " 'Foreign Language Study': 202,\n",
       " 'Adventure stories': 203,\n",
       " 'Transportation': 204,\n",
       " 'Mental illness': 205,\n",
       " 'Intelligence service': 206,\n",
       " 'China': 207,\n",
       " 'Creative thinking': 208,\n",
       " \"Children's stories, Danish\": 209,\n",
       " 'Games & Activities': 210,\n",
       " 'Petroleum industry and trade': 211,\n",
       " 'Adventure': 212,\n",
       " 'Black humor': 213,\n",
       " 'Art': 214,\n",
       " 'Celts': 215,\n",
       " 'American poetry': 216,\n",
       " 'Northern exposure (Television program)': 217,\n",
       " 'Chemistry': 218,\n",
       " 'Middle West': 219,\n",
       " 'Behavior': 220,\n",
       " 'Film novelizations': 221,\n",
       " 'Chemistry, Physical and theoretical': 222,\n",
       " 'Children': 223,\n",
       " 'Health': 224,\n",
       " 'Authors, Spanish': 225,\n",
       " 'Antiquarians': 226,\n",
       " 'Cities and towns': 227,\n",
       " 'Architecture': 228,\n",
       " 'Survivalism': 229,\n",
       " 'Football': 230,\n",
       " 'Quantum leap (Television program)': 231,\n",
       " 'Horror tales, American': 232,\n",
       " \"April Fools' Day\": 233,\n",
       " 'Friendship': 234,\n",
       " 'Dolls': 235,\n",
       " 'Influenza': 236,\n",
       " 'Espionage': 237,\n",
       " 'Aliens': 238,\n",
       " 'Basketball stories': 239,\n",
       " 'Electronic books': 240,\n",
       " 'Determination (Personality trait)': 241,\n",
       " 'Amputees': 242,\n",
       " 'Divorce': 243,\n",
       " 'Appearance (Philosophy)': 244,\n",
       " 'Disinheritance': 245,\n",
       " 'Feminism': 246,\n",
       " 'Causation': 247,\n",
       " 'Biodiversity': 248,\n",
       " 'Northern Ireland': 249,\n",
       " 'Soldiers': 250,\n",
       " 'Catholics': 251,\n",
       " 'Hispanic American women': 252,\n",
       " 'Lesbians': 253,\n",
       " 'Wit and humor': 254,\n",
       " 'AIDS (Disease)': 255,\n",
       " 'Elves': 256,\n",
       " 'Essentialism (Philosophy)': 257,\n",
       " 'Euthanasia': 258,\n",
       " 'Haydon, Stuart (Fictitious character)': 259,\n",
       " 'Horror': 260,\n",
       " 'Interplanetary voyages': 261,\n",
       " 'Star Trek fiction': 262,\n",
       " 'Anthropologists': 263,\n",
       " 'Boston (Mass.)': 264,\n",
       " 'Divorced women': 265,\n",
       " 'Hallucinogenic drugs and religious experience': 266,\n",
       " 'Motion pictures': 267,\n",
       " 'Aztec gods': 268,\n",
       " 'Darkover (Imaginary place)': 269,\n",
       " 'Communication': 270,\n",
       " 'Deviant behavior': 271,\n",
       " 'Patient Education': 272,\n",
       " 'Adobe Photoshop': 273,\n",
       " 'Los Angeles (Calif.)': 274,\n",
       " 'Indian captivities': 275,\n",
       " 'Artificial intelligence.': 276,\n",
       " 'Brooklyn (New York, N.Y.)': 277,\n",
       " 'HISTORY': 278,\n",
       " 'American drama': 279,\n",
       " 'Dragons': 280,\n",
       " 'Imaginary places': 281,\n",
       " 'Krynn (Imaginary place)': 282,\n",
       " 'Photography': 283,\n",
       " 'Abusive men': 284,\n",
       " 'Death': 285,\n",
       " 'Anglo-Saxons': 286,\n",
       " 'Badgers': 287,\n",
       " 'Fathers and sons': 288,\n",
       " 'Boys': 289,\n",
       " 'Camping': 290,\n",
       " 'Junior high school students': 291,\n",
       " 'Alden family (Fictitious character)': 292,\n",
       " 'Cerebrovascular disease': 293,\n",
       " 'Attempted murder': 294,\n",
       " 'Ecology': 295,\n",
       " 'Botanists': 296,\n",
       " 'Snowshoes and snowshoeing': 297,\n",
       " 'Alice (Fictitious character : Carroll)': 298,\n",
       " 'United States': 299,\n",
       " 'Copenhagen (Denmark)': 300,\n",
       " 'New York (N.Y.)': 301,\n",
       " 'Dracula, Count (Fictitious character)': 302,\n",
       " 'Alienation (Social psychology)': 303,\n",
       " 'Whales': 304,\n",
       " \"Children's poetry\": 305,\n",
       " 'Amelia-Bedelia (Fictitious character)': 306,\n",
       " 'Child rearing': 307,\n",
       " 'Autonomy in children': 308,\n",
       " 'Riddles, Juvenile': 309,\n",
       " 'Chickens': 310,\n",
       " 'Authors': 311,\n",
       " 'Angels': 312,\n",
       " 'Apologetics': 313,\n",
       " 'Kindness': 314,\n",
       " 'Attitude (Psychology)': 315,\n",
       " 'Aunts': 316,\n",
       " 'English fiction': 317,\n",
       " 'Technology': 318,\n",
       " 'Computer networks': 319,\n",
       " 'Baltimore (Maryland)': 320,\n",
       " 'Allegories': 321,\n",
       " 'Russia': 322,\n",
       " 'Fables, American': 323,\n",
       " 'Adultery': 324,\n",
       " 'African Americans': 325,\n",
       " 'Dystopias': 326,\n",
       " 'Mathematics': 327,\n",
       " 'Medication abuse': 328,\n",
       " 'French fiction': 329,\n",
       " 'Arabic poetry': 330,\n",
       " 'Interpersonal relations': 331,\n",
       " 'Historical geography': 332,\n",
       " 'Dressmaking.': 333,\n",
       " 'Business': 334,\n",
       " 'Authors, Danish': 335,\n",
       " 'Books on tape': 336,\n",
       " 'New Orleans (La.)': 337,\n",
       " 'Burglars': 338,\n",
       " 'Science fiction, American': 339,\n",
       " 'Authors, Colombian': 340,\n",
       " 'Xanth (Imaginary place)': 341,\n",
       " 'Dutch literature': 342,\n",
       " 'Arizona (Battleship)': 343,\n",
       " 'Country life': 344,\n",
       " 'World War, 1939-1945': 345,\n",
       " 'Low-calorie diet': 346,\n",
       " 'Entertaining': 347,\n",
       " 'France': 348,\n",
       " 'Philadelphia (Pa.)': 349,\n",
       " 'Occult fiction': 350,\n",
       " 'Anal sex': 351,\n",
       " 'Darling, Jessica (Fictitious character)': 352,\n",
       " 'Historical fiction': 353,\n",
       " 'Ants': 354,\n",
       " 'Clapham (London, England)': 355,\n",
       " 'Classification: PG.': 356,\n",
       " 'Spiritual life': 357,\n",
       " 'Developmental psychology': 358,\n",
       " 'Cancer': 359,\n",
       " 'Caterpillars': 360,\n",
       " \"Children's literature.\": 361,\n",
       " 'Eccentrics and eccentricities': 362,\n",
       " 'Courts and courtiers': 363,\n",
       " 'Architects': 364,\n",
       " 'Ice skaters.': 365,\n",
       " 'Bachelors': 366,\n",
       " 'Animal rights': 367,\n",
       " 'Argentina': 368,\n",
       " 'Castaways': 369,\n",
       " 'Compulsive eating': 370,\n",
       " 'Pacifists': 371,\n",
       " 'Arithmetic': 372,\n",
       " 'Blizzards': 373,\n",
       " 'Afro-Americans': 374,\n",
       " 'Family life': 375,\n",
       " 'Murder': 376,\n",
       " 'Accidents': 377,\n",
       " 'Brunetti, Guido (Fictitious character)': 378,\n",
       " 'Barcelona (Spain)': 379,\n",
       " 'Short stories, Argentine': 380,\n",
       " 'Novela italiana': 381,\n",
       " 'Aztecs': 382,\n",
       " 'Galicians (Spain)': 383,\n",
       " 'Aseveracion (Psicologia)': 384,\n",
       " 'Cheerleading': 385,\n",
       " 'African Americans in radio broadcasting': 386,\n",
       " 'Africa': 387,\n",
       " 'Alberta': 388,\n",
       " 'Duitse drama': 389,\n",
       " 'American wit and humor': 390,\n",
       " 'Management information systems': 391,\n",
       " 'Carthage (Extinct city)': 392,\n",
       " 'Boulder (Colo.)': 393,\n",
       " 'Married people': 394,\n",
       " 'BIOGRAPHY & AUTOBIOGRAPHY': 395,\n",
       " 'English wit and humor, Pictorial': 396,\n",
       " 'Androids': 397,\n",
       " 'Carbohydrates, Refined': 398,\n",
       " 'Identity (Psychology)': 399,\n",
       " 'Domestic fiction, Canadian': 400,\n",
       " 'Computer software': 401,\n",
       " 'Germany': 402,\n",
       " 'Biographers': 403,\n",
       " 'South Africa': 404,\n",
       " 'Robots': 405,\n",
       " 'House & Home': 406,\n",
       " 'Older women': 407,\n",
       " 'Forensic pathologists': 408,\n",
       " 'Authors, English': 409,\n",
       " 'Appalachian Region': 410,\n",
       " 'Body snatching': 411,\n",
       " 'Artificial intelligence': 412,\n",
       " 'Magic': 413,\n",
       " 'Legislators': 414,\n",
       " 'Antiques business': 415,\n",
       " 'Amnesia': 416,\n",
       " 'Arizona': 417,\n",
       " 'Jamaica': 418,\n",
       " 'Advice columnists': 419,\n",
       " 'Love stories': 420,\n",
       " 'Oceania': 421,\n",
       " 'Acapulco (Mexico)': 422,\n",
       " 'Interviews': 423,\n",
       " 'Australia': 424,\n",
       " 'Life': 425,\n",
       " 'Ahab, Captain (Fictitious character)': 426,\n",
       " 'Cowboys': 427,\n",
       " 'Biography': 428,\n",
       " 'Deciduous teeth': 429,\n",
       " 'Anecdotes': 430,\n",
       " 'Bankruptcy': 431,\n",
       " 'Bovary, Charles (Fictitious character)': 432,\n",
       " 'Chocolate': 433,\n",
       " 'Barbers': 434,\n",
       " 'Ethics': 435,\n",
       " 'Cambio (Psicología)': 436,\n",
       " 'Tarot': 437,\n",
       " 'Gardening': 438,\n",
       " 'Creation (Literary, artistic, etc.)': 439,\n",
       " 'Near-death experiences.': 440,\n",
       " 'Amerikan romanı': 441,\n",
       " 'College stories': 442,\n",
       " 'Cuilt': 443,\n",
       " 'Human-alien encounters': 444,\n",
       " 'Babysitters': 445,\n",
       " 'Paris (France)': 446,\n",
       " 'Madrid (Spain)': 447,\n",
       " 'English literature': 448,\n",
       " 'Television personalities': 449,\n",
       " 'Animal sanctuaries': 450,\n",
       " 'Life change events': 451,\n",
       " 'Comedians': 452,\n",
       " 'Humorous fiction': 453,\n",
       " 'Cupid (Roman deity)': 454,\n",
       " 'Domestic animals': 455,\n",
       " 'Hinduism': 456,\n",
       " 'Capitol Hill (Washington, D.C.)': 457,\n",
       " 'Antiques & Collectibles': 458,\n",
       " 'Criminology': 459,\n",
       " 'Chile': 460,\n",
       " 'Hand puppets': 461,\n",
       " 'Study Aids': 462,\n",
       " 'Food': 463,\n",
       " 'Blake, Anita (Fictitious character)': 464,\n",
       " 'Mass media': 465,\n",
       " 'Body image in women': 466,\n",
       " 'Homeopathy': 467,\n",
       " 'Assassins': 468,\n",
       " 'Motion picture actors and actresses': 469,\n",
       " 'Acting': 470,\n",
       " 'Extrasensory perception': 471,\n",
       " 'Amsterdam (Netherlands)': 472,\n",
       " 'American wit and humor, Pictorial': 473,\n",
       " 'Telepathy': 474,\n",
       " \"Children's stories, Spanish\": 475,\n",
       " 'German essays': 476,\n",
       " 'Kirgisien - Liebesbeziehung - Geschichte 1943 - Belletristische Darstellung': 477,\n",
       " 'Diaries': 478,\n",
       " 'Boarding schools': 479,\n",
       " 'Alabama': 480,\n",
       " 'Aboriginal Australians': 481,\n",
       " 'Immortalism': 482,\n",
       " 'Cape Cod (Mass.)': 483,\n",
       " 'Bucket, Charlie (Fictitious character)': 484,\n",
       " 'BODY, MIND & SPIRIT': 485,\n",
       " 'Canada': 486,\n",
       " 'Mentally ill women': 487,\n",
       " 'Bridges': 488,\n",
       " 'Boxers (Sports)': 489,\n",
       " 'Fur trade': 490,\n",
       " 'Ghost stories': 491,\n",
       " 'Animal behavior': 492,\n",
       " 'African American authors': 493,\n",
       " 'City and town life': 494,\n",
       " 'Design': 495,\n",
       " 'Avarice': 496,\n",
       " 'Oral reading': 497,\n",
       " 'Baths': 498,\n",
       " 'Folklore': 499,\n",
       " 'Atlantis (Legendary place)': 500,\n",
       " 'Caricatures and cartoons': 501,\n",
       " 'Finance, Personal': 502,\n",
       " 'Christian biography': 503,\n",
       " 'Civilization, Modern': 504,\n",
       " 'Air travel': 505,\n",
       " 'Aristocracy (Social class)': 506,\n",
       " 'Cowgirls': 507,\n",
       " 'Balloons': 508,\n",
       " 'Catskill Mountains Region (N.Y.)': 509,\n",
       " 'African American women': 510,\n",
       " 'Names, Personal': 511,\n",
       " 'High school students': 512,\n",
       " 'Astronautics': 513,\n",
       " 'Proverbs, English': 514,\n",
       " 'Marriage service': 515,\n",
       " 'Procyon': 516,\n",
       " 'Dance': 517,\n",
       " 'Amish': 518,\n",
       " 'British': 519,\n",
       " 'Materia medica': 520,\n",
       " 'Jerusalem': 521,\n",
       " 'Ambition': 522,\n",
       " 'Enterprise (Spaceship)': 523,\n",
       " 'Novelists, American': 524,\n",
       " 'Authors, French': 525,\n",
       " 'Casteel, Heaven (Fictitious character)': 526,\n",
       " 'Bears': 527,\n",
       " 'Circus': 528,\n",
       " 'Auckland (N.Z.)': 529,\n",
       " 'Children of Holocaust survivors': 530,\n",
       " 'Beats (Persons)': 531,\n",
       " 'Books and reading': 532,\n",
       " 'Bail bond agents': 533,\n",
       " 'Left- and right-handedness': 534,\n",
       " 'Romance fiction': 535,\n",
       " 'Dysfunctional families': 536,\n",
       " 'Abused children': 537,\n",
       " 'Atlantis': 538,\n",
       " 'Art forgers': 539,\n",
       " 'American imprints': 540,\n",
       " 'Large type books': 541,\n",
       " 'Crime': 542,\n",
       " 'Birthdays': 543,\n",
       " 'Renaissance': 544,\n",
       " 'Tarot.': 545,\n",
       " 'Government investigators': 546,\n",
       " 'Harrington, Honor (Fictitious character)': 547,\n",
       " 'Deaf women': 548,\n",
       " 'Hell': 549,\n",
       " 'Close encounters of the third kind (Motion picture)': 550,\n",
       " 'Short stories': 551,\n",
       " 'Procrastination': 552,\n",
       " 'Bray, Nell (Fictitious character)': 553,\n",
       " 'Muslims': 554,\n",
       " 'Chilean poetry': 555,\n",
       " 'Emergency medicine': 556,\n",
       " 'Bed and breakfast accommodations': 557,\n",
       " 'Autobiographical fiction': 558,\n",
       " 'Cephalonia (Greece : Municipality)': 559,\n",
       " 'Bunnicula (Fictitious character)': 560,\n",
       " 'Girls': 561,\n",
       " 'Manhattan (New York, N.Y.)': 562,\n",
       " 'Crime and criminals': 563,\n",
       " 'Blacks': 564,\n",
       " 'Serial murders': 565,\n",
       " \"Children's literature\": 566,\n",
       " 'Beauty, Personal': 567,\n",
       " 'Boxcar children (Fictitious characters)': 568,\n",
       " 'Foster grandparents': 569,\n",
       " 'Psychokinesis': 570,\n",
       " 'Marple, Jane (Fictitious character)': 571,\n",
       " 'Alman romanı': 572,\n",
       " 'Corporations': 573,\n",
       " 'Vermont': 574,\n",
       " 'Portugal': 575,\n",
       " 'Literatura española-': 576,\n",
       " 'Weddings': 577,\n",
       " 'Engelse fiksie': 578,\n",
       " 'Sonnets, English': 579,\n",
       " 'Band musicians': 580,\n",
       " 'Savannah (Ga.)': 581,\n",
       " 'Holocaust, Jewish (1939-1945)': 582,\n",
       " 'Bibles': 583,\n",
       " 'Christian women saints': 584,\n",
       " 'Plot-your-own stories': 585,\n",
       " 'Braille books': 586,\n",
       " \"Children's costumes\": 587,\n",
       " 'Japanese language': 588,\n",
       " 'Alps': 589,\n",
       " \"Children's stories, English\": 590,\n",
       " 'Educational philosophy': 591,\n",
       " 'Men': 592,\n",
       " 'Catholic Church': 593,\n",
       " 'Young adult fiction': 594,\n",
       " 'Kenobi, Obi-Wan (Fictitious character)': 595,\n",
       " 'Belgariad-(Book #5)': 596,\n",
       " 'Animals, Mythical': 597,\n",
       " 'Kwakiutl art': 598,\n",
       " 'Hamsters': 599,\n",
       " 'Role expectation': 600,\n",
       " 'Accelerated readers': 601,\n",
       " 'Sunday schools': 602,\n",
       " 'Veterinarians': 603,\n",
       " 'Clue (Game)': 604,\n",
       " 'Chocolate chip cookies': 605,\n",
       " 'Schools': 606,\n",
       " 'Homeless persons': 607,\n",
       " 'Sea stories': 608,\n",
       " 'Paranormal fiction': 609,\n",
       " 'English drama (Tragedy)': 610,\n",
       " 'Belgians': 611,\n",
       " 'Office layout': 612,\n",
       " \"Children's poetry, American\": 613,\n",
       " 'Joy': 614,\n",
       " 'Biloxi (Miss.)': 615,\n",
       " 'Clubs': 616,\n",
       " 'Lottery winners': 617,\n",
       " 'Automobile travel': 618,\n",
       " 'Vampires': 619,\n",
       " 'Rock music': 620,\n",
       " 'Dreams': 621,\n",
       " 'Coincidence': 622,\n",
       " 'Automobiles': 623,\n",
       " \"Artists' spouses\": 624,\n",
       " 'Animal ghosts': 625,\n",
       " 'Christmas decorations': 626,\n",
       " 'Pastoral counseling (Judaism)': 627,\n",
       " 'Devotional calendars': 628,\n",
       " 'Cornwall (England : County)': 629,\n",
       " 'Coma': 630,\n",
       " 'Concentration camps': 631,\n",
       " 'Don Juan (Legendary character)': 632,\n",
       " 'Hallucinogenic drugs and religious experience.': 633,\n",
       " 'Mexico': 634,\n",
       " 'Ireland': 635,\n",
       " 'Happiness': 636,\n",
       " 'Tennis': 637,\n",
       " 'Arkansas': 638,\n",
       " 'Anger': 639,\n",
       " 'Affirmations': 640,\n",
       " 'Food allergy': 641,\n",
       " 'Book clubs (Discussion groups)': 642,\n",
       " \"Children's audiobooks\": 643,\n",
       " 'Low budget films': 644,\n",
       " 'Fiction in English': 645,\n",
       " 'Adult education': 646,\n",
       " 'Curiosities and wonders': 647,\n",
       " 'Cartoons and comics': 648,\n",
       " 'Love stories, American': 649,\n",
       " 'Halloween': 650,\n",
       " 'Almanacs, American': 651,\n",
       " 'Casteel family (Fictitious characters)': 652,\n",
       " 'Adoption': 653,\n",
       " 'Monks': 654,\n",
       " 'Communication in marriage': 655,\n",
       " 'Charity-schools': 656,\n",
       " 'Computers and civilization': 657,\n",
       " 'Aircraft accidents': 658,\n",
       " 'Horror fiction, American': 659,\n",
       " 'Businesswomen': 660,\n",
       " 'Bouddhisme': 661,\n",
       " 'Bashfulness': 662,\n",
       " 'Cyberpunk culture': 663,\n",
       " 'Editing': 664,\n",
       " 'Career changes': 665,\n",
       " 'Encyclopedias and dictionaries.': 666,\n",
       " 'Belgrade (Serbia)': 667,\n",
       " 'Encyclopedias and dictionaries': 668,\n",
       " 'Appalachian Region, Southern': 669,\n",
       " 'Baby dolls': 670,\n",
       " 'Organic gardening': 671,\n",
       " 'Europa - Reisebexicht': 672,\n",
       " 'Art dealers': 673,\n",
       " 'Hunting stories': 674,\n",
       " 'Alcoholics': 675,\n",
       " 'Bird watching': 676,\n",
       " 'Baleines': 677,\n",
       " 'Sex in literature': 678,\n",
       " 'Androgyny (Psychology)': 679,\n",
       " 'Anthologies': 680,\n",
       " 'Extinction (Biology)': 681,\n",
       " 'French drama': 682,\n",
       " 'Novel': 683,\n",
       " 'French-Canadian fiction': 684,\n",
       " 'Anthropological Essay - Woman': 685,\n",
       " 'French text': 686,\n",
       " 'Escrocs - France - Gers, Région du': 687,\n",
       " 'Apprentissage': 688,\n",
       " 'Haunted houses': 689,\n",
       " 'Apocalyptic literature': 690,\n",
       " 'DiGriz, James Bolivar (Fictitious character)': 691,\n",
       " 'Survival': 692,\n",
       " 'Outdoor life': 693,\n",
       " 'Buddhismus': 694,\n",
       " 'High school teachers': 695,\n",
       " 'Butterflies': 696,\n",
       " 'Action': 697,\n",
       " 'Discworld (Imaginary place)': 698,\n",
       " 'San Diego (Calif.)': 699,\n",
       " 'Music trade': 700,\n",
       " 'Wrocław (Poland)': 701,\n",
       " 'Black humor (Literature)': 702,\n",
       " 'Human reproduction': 703,\n",
       " 'House cleaning': 704,\n",
       " 'Aging': 705,\n",
       " 'Relativity (Physics)': 706,\n",
       " 'Self-actualization (Psychology)': 707,\n",
       " 'Medicine, Popular': 708,\n",
       " 'Kidnapping': 709,\n",
       " 'Lonliness': 710,\n",
       " 'Snow sculpture': 711,\n",
       " 'Buffy the Vampire Slayer (Fictitious character)': 712,\n",
       " 'Latin language': 713,\n",
       " 'Literary recreations': 714,\n",
       " 'Grandmothers': 715,\n",
       " 'Commercial correspondence': 716,\n",
       " 'Armenian Americans': 717,\n",
       " 'Airplanes': 718,\n",
       " 'Family violence': 719,\n",
       " 'Space warfare': 720,\n",
       " 'Southern States': 721,\n",
       " 'Caribbean Area': 722,\n",
       " 'Argentine fiction': 723,\n",
       " 'Police': 724,\n",
       " 'Entertainers': 725,\n",
       " 'Hispanic Americans': 726,\n",
       " 'Sociologie - Dictionnaires anglais': 727,\n",
       " 'English wit and humor': 728,\n",
       " 'Bereavement': 729,\n",
       " 'Devil': 730,\n",
       " 'Czech fiction': 731,\n",
       " 'Sailors': 732,\n",
       " 'Guilt': 733,\n",
       " 'LITERARY COLLECTIONS': 734,\n",
       " 'Baby-sitters Club (Imaginary organization)': 735,\n",
       " 'Marine animals': 736,\n",
       " \"Children's poetry, English\": 737,\n",
       " 'Electronic games industry': 738,\n",
       " 'Brazilian essays': 739,\n",
       " 'Bewusstsein - Gehirn - Kognitive Psychologie': 740,\n",
       " 'Crimes of passion': 741,\n",
       " 'Erotic literature': 742,\n",
       " 'Amyotrophic lateral sclerosis': 743,\n",
       " 'Saving and investment': 744,\n",
       " 'Colombia': 745,\n",
       " 'Buddhism': 746,\n",
       " 'College and school drama': 747,\n",
       " 'Unidentified flying objects': 748,\n",
       " 'Mothers and daughters': 749,\n",
       " 'Short stories, American': 750,\n",
       " 'Devon (England)': 751,\n",
       " 'Bullying in schools': 752,\n",
       " 'Chancellorsville, Battle of, Chancellorsville, Va., 1863': 753,\n",
       " 'Children and war': 754,\n",
       " 'Van Veeteren, Inspector (Fictitious character)': 755,\n",
       " 'Museums': 756,\n",
       " 'Composers': 757,\n",
       " 'Animals, Treatment of': 758,\n",
       " 'English poetry': 759,\n",
       " 'Chicago (Ill.)': 760,\n",
       " 'Belarus': 761,\n",
       " 'Burglary': 762,\n",
       " 'Payne, Matt (Fictitious character)': 763,\n",
       " 'Abduction': 764,\n",
       " 'Maori (New Zealand people)': 765,\n",
       " 'Brand name products': 766,\n",
       " 'Cattle': 767,\n",
       " 'Leukemia': 768,\n",
       " 'Fourth dimension': 769,\n",
       " 'Astral projection': 770,\n",
       " 'Castles': 771,\n",
       " 'Christian pilgrims and pilgrimages': 772,\n",
       " 'Cross, Alex (Fictitious character)': 773,\n",
       " 'Indians of North America': 774,\n",
       " 'Paperbacks': 775,\n",
       " 'Cookies': 776,\n",
       " 'Capitalism': 777,\n",
       " 'Juvenile science fiction': 778,\n",
       " 'Frontier and pioneer life': 779,\n",
       " 'Holistic medicine': 780,\n",
       " 'Antisemitism': 781,\n",
       " 'Privateering': 782,\n",
       " \"Valentine's Day\": 783,\n",
       " 'Weight loss': 784,\n",
       " 'Employment interviewing': 785,\n",
       " 'Constellations.': 786,\n",
       " 'Investments': 787,\n",
       " 'Fantasy.': 788,\n",
       " 'African fiction': 789,\n",
       " 'Baseball': 790,\n",
       " 'Horror stories.': 791,\n",
       " 'Star trek (Television program)': 792,\n",
       " 'Booksellers and bookselling': 793,\n",
       " 'Political fiction': 794,\n",
       " 'Owls': 795,\n",
       " \"Children's stories, American\": 796,\n",
       " 'Depressions': 797,\n",
       " 'Nuclear warfare': 798,\n",
       " 'Brain': 799,\n",
       " 'Behavior modification': 800,\n",
       " 'Baltimore (Md.)': 801,\n",
       " 'Academic writing': 802,\n",
       " 'Monterey (Calif.)': 803,\n",
       " 'Consumption (Economics)': 804,\n",
       " 'Computer industry': 805,\n",
       " 'Bombay (India)': 806,\n",
       " 'Publishers and publishing': 807,\n",
       " 'Egypt': 808,\n",
       " 'Christmas stories, English': 809,\n",
       " 'Frankenstein (Fictitious character)': 810,\n",
       " 'Bhagavadgita': 811,\n",
       " 'Black Forest (Germany)': 812,\n",
       " 'Regicides': 813,\n",
       " 'Chicken run (Motion picture)': 814,\n",
       " 'Australian wit and humor': 815,\n",
       " 'Braille': 816,\n",
       " 'Antarctica': 817,\n",
       " 'Campfire graphic novels': 818,\n",
       " 'Book and Cassette': 819,\n",
       " 'Pet shops': 820,\n",
       " 'Grover (Fictitious character : Henson)': 821,\n",
       " 'Adventure stories, English': 822,\n",
       " 'Picture books for children': 823,\n",
       " 'Missing children': 824,\n",
       " 'Exposition (Rhetoric)': 825,\n",
       " 'Office politics': 826,\n",
       " 'Children of presidents': 827,\n",
       " 'Banks, Alan (Fictitious character)': 828,\n",
       " 'Imaginary histories': 829,\n",
       " 'Missionaries': 830,\n",
       " 'Blair, Sonora (Fictitious character)': 831,\n",
       " 'Characters and characteristics in literature': 832,\n",
       " 'Dragonslayer (Motion picture)': 833,\n",
       " 'Cousins': 834,\n",
       " 'Women novelists': 835,\n",
       " 'Poland': 836,\n",
       " 'Archaeology': 837,\n",
       " 'Hanoi (Vietnam)': 838,\n",
       " 'Adult child abuse victims': 839,\n",
       " 'Cuba': 840,\n",
       " 'Cookery (Tofu)': 841,\n",
       " 'Louisiana': 842,\n",
       " 'Biological Rhythms': 843,\n",
       " '87th Precinct (Imaginary place)': 844,\n",
       " 'Hemophilia': 845,\n",
       " 'Czech Americans': 846,\n",
       " 'Authors Fiction': 847,\n",
       " 'Dissenters': 848,\n",
       " 'Stories in rhyme.': 849,\n",
       " 'Aids to navigation': 850,\n",
       " 'Anti-Nazi movement': 851,\n",
       " 'Brigands and robbers': 852,\n",
       " 'Cambridge (England)': 853,\n",
       " 'Insanity (Law)': 854,\n",
       " 'Crisis management in government': 855,\n",
       " 'Curiosities and wonders.': 856,\n",
       " 'Bats': 857,\n",
       " 'Alex (Fictitious character)': 858,\n",
       " 'Anti-communist movements': 859,\n",
       " 'Interns (Medicine)': 860,\n",
       " 'Espionage, American': 861,\n",
       " 'Summer': 862,\n",
       " 'Barnavelt, Lewis (Fictitious character)': 863,\n",
       " 'Norby (Fictitious character)': 864,\n",
       " 'Animals, Fossil': 865,\n",
       " 'Decker, Peter (Fictitious character)': 866,\n",
       " 'Angstrom, Harry (Fictitious character)': 867,\n",
       " 'Capitalists and financiers': 868,\n",
       " 'Healing': 869,\n",
       " 'Mafia': 870,\n",
       " 'Good and evil': 871,\n",
       " 'Bondage (Sexual behavior)': 872,\n",
       " 'Congo (Democratic Republic)': 873,\n",
       " 'Ballistic missiles': 874,\n",
       " 'Cookery.': 875,\n",
       " 'Desiderata': 876,\n",
       " 'Best books': 877,\n",
       " 'Erotic literature.': 878,\n",
       " 'Blankets': 879,\n",
       " 'Intelligence officers': 880,\n",
       " 'Finback whale': 881,\n",
       " 'Rock musicians': 882,\n",
       " 'Heroes': 883,\n",
       " 'Western stories': 884,\n",
       " 'Identity (Philosophical concept)': 885,\n",
       " 'Conspiracies': 886,\n",
       " 'Oral history': 887,\n",
       " 'Children and adults': 888,\n",
       " 'Readers': 889,\n",
       " 'Snow': 890,\n",
       " 'Contests': 891,\n",
       " 'Dyslexia': 892,\n",
       " 'Chickenpox': 893,\n",
       " 'Antiques': 894,\n",
       " 'Denmark': 895,\n",
       " 'Action and adventure films': 896,\n",
       " \"Children's writings, American\": 897,\n",
       " 'Deer': 898,\n",
       " 'Camps': 899,\n",
       " 'Beginner books': 900,\n",
       " 'Criminals.': 901,\n",
       " 'Emotions': 902,\n",
       " 'Twins': 903,\n",
       " 'Cemeteries': 904,\n",
       " 'Food habits': 905,\n",
       " 'High schools': 906,\n",
       " 'Serial murder investigation': 907,\n",
       " 'Amusements.': 908,\n",
       " 'Full house (Television program)': 909,\n",
       " 'Abused wives': 910,\n",
       " 'Private investigators': 911,\n",
       " 'Foundlings': 912,\n",
       " 'Novelist, American': 913,\n",
       " 'Horse racing': 914,\n",
       " 'Texas': 915,\n",
       " 'Baseball stories': 916,\n",
       " 'Death row inmates': 917,\n",
       " 'Epic literature': 918,\n",
       " 'Neurosurgeons': 919,\n",
       " 'Drug abuse': 920,\n",
       " 'Overland journeys to the Pacific': 921,\n",
       " 'Fear': 922,\n",
       " 'Autonomy': 923,\n",
       " 'African American families': 924,\n",
       " 'Caste': 925,\n",
       " 'Nuns': 926,\n",
       " 'Airborne troops': 927,\n",
       " 'Medical fiction': 928,\n",
       " 'Amusement parks': 929,\n",
       " 'Dream interpretation': 930,\n",
       " 'Fathers': 931,\n",
       " 'Internet addiction': 932,\n",
       " 'Edinburgh (Scotland)': 933,\n",
       " 'Black Caribbean women': 934,\n",
       " 'Enlightenment': 935,\n",
       " 'Bank failures': 936,\n",
       " 'Business intelligence': 937,\n",
       " 'Barny (Fictitious character)': 938,\n",
       " 'Romanies': 939,\n",
       " 'Clowns': 940,\n",
       " 'Dalmatian dog': 941,\n",
       " 'Houses': 942,\n",
       " 'Potomac River': 943,\n",
       " 'Argentine literature': 944,\n",
       " 'Devotional literature': 945,\n",
       " 'Mothers and sons': 946,\n",
       " 'God (Judaism)': 947,\n",
       " 'Human skeleton': 948,\n",
       " 'Animal heroes': 949,\n",
       " 'Clouds': 950,\n",
       " 'Rabbits': 951,\n",
       " 'Fishes': 952,\n",
       " 'Kentucky': 953,\n",
       " 'Beauty contests': 954,\n",
       " 'Authors, Irish': 955,\n",
       " 'Crossword puzzles': 956,\n",
       " 'Atlantic City (N.J.)': 957,\n",
       " 'Cody, William Frederick': 958,\n",
       " 'God': 959,\n",
       " 'African American journalists': 960,\n",
       " 'Human physiology': 961,\n",
       " 'Depression glass': 962,\n",
       " 'Schizophrenia': 963,\n",
       " 'Dating (Social customs)': 964,\n",
       " 'Quick and easy cookery': 965,\n",
       " 'Touch': 966,\n",
       " 'Bee hunting': 967,\n",
       " 'Change (Psychology)': 968,\n",
       " 'Radio': 969,\n",
       " 'Consumer education': 970,\n",
       " 'Spanish fiction': 971,\n",
       " 'Princesses': 972,\n",
       " 'Customer relations': 973,\n",
       " 'Dalgliesh, Adam (Fictitious character)': 974,\n",
       " 'Fitness walking': 975,\n",
       " 'American wit and humor, Pictorial.': 976,\n",
       " 'Literature': 977,\n",
       " 'Self-actualization (Psychology).': 978,\n",
       " 'Sex': 979,\n",
       " 'Linux': 980,\n",
       " 'Adventure stories, American': 981,\n",
       " 'Genetic engineering': 982,\n",
       " 'Seasons': 983,\n",
       " 'Blackberries': 984,\n",
       " 'Board book': 985,\n",
       " 'Adolescent psychology': 986,\n",
       " 'Apache Indians': 987,\n",
       " 'Earth (Planet)': 988,\n",
       " 'Criminal investigation': 989,\n",
       " 'Auctioneers': 990,\n",
       " 'Cotswold Hills (England)': 991,\n",
       " 'Coelacanth': 992,\n",
       " 'Science fiction, English': 993,\n",
       " 'Gardens': 994,\n",
       " 'Soccer': 995,\n",
       " 'Biographical fiction': 996,\n",
       " 'Biology': 997,\n",
       " 'Self-preservation': 998,\n",
       " 'Cultural relations': 999,\n",
       " ...}"
      ]
     },
     "execution_count": 280,
     "metadata": {},
     "output_type": "execute_result"
    }
   ],
   "source": [
    "# k-modes clustering\n",
    "\n",
    "category_ss = books[books.category.notnull()]['category'].str[2:-2]\n",
    "category_ss.unique()\n",
    "dic = {}\n",
    "for idx, cat in enumerate(category_ss.unique()) : \n",
    "    dic[cat] = idx\n",
    "    \n",
    "dic"
   ]
  },
  {
   "cell_type": "code",
   "execution_count": 283,
   "metadata": {},
   "outputs": [],
   "source": [
    "cat_df = pd.DataFrame(category_ss)\n",
    "cat_df['label'] = cat_df['category'].map(dic)"
   ]
  },
  {
   "cell_type": "code",
   "execution_count": 286,
   "metadata": {},
   "outputs": [
    {
     "name": "stdout",
     "output_type": "stream",
     "text": [
      "Collecting kmodes\n",
      "  Downloading kmodes-0.12.2-py2.py3-none-any.whl (20 kB)\n",
      "Requirement already satisfied: joblib>=0.11 in /opt/conda/lib/python3.8/site-packages (from kmodes) (1.2.0)\n",
      "Requirement already satisfied: scipy>=0.13.3 in /opt/conda/lib/python3.8/site-packages (from kmodes) (1.9.3)\n",
      "Requirement already satisfied: numpy>=1.10.4 in /opt/conda/lib/python3.8/site-packages (from kmodes) (1.23.4)\n",
      "Requirement already satisfied: scikit-learn>=0.22.0 in /opt/conda/lib/python3.8/site-packages (from kmodes) (1.1.2)\n",
      "Requirement already satisfied: threadpoolctl>=2.0.0 in /opt/conda/lib/python3.8/site-packages (from scikit-learn>=0.22.0->kmodes) (3.1.0)\n",
      "Installing collected packages: kmodes\n",
      "Successfully installed kmodes-0.12.2\n"
     ]
    }
   ],
   "source": [
    "!pip install kmodes"
   ]
  },
  {
   "cell_type": "code",
   "execution_count": 314,
   "metadata": {},
   "outputs": [
    {
     "data": {
      "text/plain": [
       "array([['Actresses', '0'],\n",
       "       ['1940-1949', '1'],\n",
       "       ['Medical', '2'],\n",
       "       ...,\n",
       "       ['Humor', '6'],\n",
       "       ['Nature', '5'],\n",
       "       ['Fiction', '3']], dtype='<U114')"
      ]
     },
     "execution_count": 314,
     "metadata": {},
     "output_type": "execute_result"
    }
   ],
   "source": [
    "cat_df.values.astype(str)"
   ]
  },
  {
   "cell_type": "code",
   "execution_count": 315,
   "metadata": {},
   "outputs": [],
   "source": [
    "X = cat_df.values.astype(str)\n",
    "\n",
    "from kmodes.kmodes import KModes"
   ]
  },
  {
   "cell_type": "code",
   "execution_count": 317,
   "metadata": {},
   "outputs": [
    {
     "name": "stdout",
     "output_type": "stream",
     "text": [
      "[0 0 0 ... 0 0 0]\n"
     ]
    }
   ],
   "source": [
    "kmodes = KModes(n_clusters = 5)\n",
    "kmodes.fit(X)\n"
   ]
  },
  {
   "cell_type": "code",
   "execution_count": 318,
   "metadata": {},
   "outputs": [
    {
     "name": "stdout",
     "output_type": "stream",
     "text": [
      "[0 0 0 ... 0 0 0]\n"
     ]
    }
   ],
   "source": [
    "kmodes.predict(X)"
   ]
  },
  {
   "cell_type": "code",
   "execution_count": 322,
   "metadata": {},
   "outputs": [],
   "source": [
    "km_result = pd.DataFrame(kmodes.predict(X))\n",
    "km_result.columns = ['km_result']"
   ]
  },
  {
   "cell_type": "code",
   "execution_count": 324,
   "metadata": {},
   "outputs": [
    {
     "data": {
      "text/plain": [
       "km_result\n",
       "0.0    [['Actresses'], ['1940-1949'], ['Medical'], ['...\n",
       "1.0    [['Fiction'], ['Humor'], ['Americans'], nan, [...\n",
       "2.0    [nan, ['Fiction'], ['Baggins, Frodo (Fictitiou...\n",
       "3.0    [['History'], ['Fiction'], nan, ['Nature'], ['...\n",
       "4.0    [['Infanticide'], ['Fiction'], nan, ['Israeli ...\n",
       "Name: category, dtype: object"
      ]
     },
     "execution_count": 324,
     "metadata": {},
     "output_type": "execute_result"
    }
   ],
   "source": [
    "km_df = pd.concat([books, km_result], axis = 1)\n"
   ]
  },
  {
   "cell_type": "code",
   "execution_count": 319,
   "metadata": {},
   "outputs": [
    {
     "data": {
      "text/plain": [
       "array([['Fiction', '3'],\n",
       "       ['Juvenile Fiction', '9'],\n",
       "       ['Biography & Autobiography', '21'],\n",
       "       ['History', '4'],\n",
       "       ['Religion', '31']], dtype='<U25')"
      ]
     },
     "execution_count": 319,
     "metadata": {},
     "output_type": "execute_result"
    }
   ],
   "source": [
    "kmodes.cluster_centroids_"
   ]
  },
  {
   "cell_type": "code",
   "execution_count": 291,
   "metadata": {},
   "outputs": [
    {
     "name": "stdout",
     "output_type": "stream",
     "text": [
      "<class 'pandas.core.frame.DataFrame'>\n",
      "RangeIndex: 149570 entries, 0 to 149569\n",
      "Data columns (total 10 columns):\n",
      " #   Column               Non-Null Count   Dtype  \n",
      "---  ------               --------------   -----  \n",
      " 0   isbn                 149570 non-null  object \n",
      " 1   book_title           149570 non-null  object \n",
      " 2   book_author          149570 non-null  object \n",
      " 3   year_of_publication  149570 non-null  float64\n",
      " 4   publisher            149570 non-null  object \n",
      " 5   img_url              149570 non-null  object \n",
      " 6   language             82343 non-null   object \n",
      " 7   category             80719 non-null   object \n",
      " 8   summary              82343 non-null   object \n",
      " 9   img_path             149570 non-null  object \n",
      "dtypes: float64(1), object(9)\n",
      "memory usage: 11.4+ MB\n"
     ]
    }
   ],
   "source": [
    "books.info()"
   ]
  },
  {
   "cell_type": "code",
   "execution_count": 310,
   "metadata": {},
   "outputs": [
    {
     "data": {
      "text/html": [
       "<div>\n",
       "<style scoped>\n",
       "    .dataframe tbody tr th:only-of-type {\n",
       "        vertical-align: middle;\n",
       "    }\n",
       "\n",
       "    .dataframe tbody tr th {\n",
       "        vertical-align: top;\n",
       "    }\n",
       "\n",
       "    .dataframe thead th {\n",
       "        text-align: right;\n",
       "    }\n",
       "</style>\n",
       "<table border=\"1\" class=\"dataframe\">\n",
       "  <thead>\n",
       "    <tr style=\"text-align: right;\">\n",
       "      <th></th>\n",
       "      <th>unique</th>\n",
       "      <th>count</th>\n",
       "    </tr>\n",
       "    <tr>\n",
       "      <th>category</th>\n",
       "      <th></th>\n",
       "      <th></th>\n",
       "    </tr>\n",
       "  </thead>\n",
       "  <tbody>\n",
       "    <tr>\n",
       "      <th>['Fiction']</th>\n",
       "      <td>[0399135782, 074322678X, 0771074670, 188132018...</td>\n",
       "      <td>32956</td>\n",
       "    </tr>\n",
       "    <tr>\n",
       "      <th>['Juvenile Fiction']</th>\n",
       "      <td>[0061076031, 0439095026, 0689821166, 067986569...</td>\n",
       "      <td>5804</td>\n",
       "    </tr>\n",
       "    <tr>\n",
       "      <th>['Biography &amp; Autobiography']</th>\n",
       "      <td>[0316748641, 0743249992, 0375500766, 006103014...</td>\n",
       "      <td>3320</td>\n",
       "    </tr>\n",
       "    <tr>\n",
       "      <th>['History']</th>\n",
       "      <td>[0425176428, 0449005615, 0345465083, 067942922...</td>\n",
       "      <td>1925</td>\n",
       "    </tr>\n",
       "    <tr>\n",
       "      <th>['Religion']</th>\n",
       "      <td>[0785263292, 0345391691, 0684717255, 185424597...</td>\n",
       "      <td>1818</td>\n",
       "    </tr>\n",
       "    <tr>\n",
       "      <th>['Juvenile Nonfiction']</th>\n",
       "      <td>[0937858994, 0553571486, 0590450875, 006025667...</td>\n",
       "      <td>1417</td>\n",
       "    </tr>\n",
       "    <tr>\n",
       "      <th>['Social Science']</th>\n",
       "      <td>[0060976977, 0304345350, 0060973897, 081915494...</td>\n",
       "      <td>1231</td>\n",
       "    </tr>\n",
       "    <tr>\n",
       "      <th>['Humor']</th>\n",
       "      <td>[0609804618, 0140067477, 0345372700, 052594764...</td>\n",
       "      <td>1161</td>\n",
       "    </tr>\n",
       "    <tr>\n",
       "      <th>['Body, Mind &amp; Spirit']</th>\n",
       "      <td>[0785815147, 0875421288, 1567184294, 156718796...</td>\n",
       "      <td>1109</td>\n",
       "    </tr>\n",
       "    <tr>\n",
       "      <th>['Business &amp; Economics']</th>\n",
       "      <td>[0553347594, 0671621009, 0805063897, 055322598...</td>\n",
       "      <td>1070</td>\n",
       "    </tr>\n",
       "  </tbody>\n",
       "</table>\n",
       "</div>"
      ],
      "text/plain": [
       "                                                                          unique  \\\n",
       "category                                                                           \n",
       "['Fiction']                    [0399135782, 074322678X, 0771074670, 188132018...   \n",
       "['Juvenile Fiction']           [0061076031, 0439095026, 0689821166, 067986569...   \n",
       "['Biography & Autobiography']  [0316748641, 0743249992, 0375500766, 006103014...   \n",
       "['History']                    [0425176428, 0449005615, 0345465083, 067942922...   \n",
       "['Religion']                   [0785263292, 0345391691, 0684717255, 185424597...   \n",
       "['Juvenile Nonfiction']        [0937858994, 0553571486, 0590450875, 006025667...   \n",
       "['Social Science']             [0060976977, 0304345350, 0060973897, 081915494...   \n",
       "['Humor']                      [0609804618, 0140067477, 0345372700, 052594764...   \n",
       "['Body, Mind & Spirit']        [0785815147, 0875421288, 1567184294, 156718796...   \n",
       "['Business & Economics']       [0553347594, 0671621009, 0805063897, 055322598...   \n",
       "\n",
       "                               count  \n",
       "category                              \n",
       "['Fiction']                    32956  \n",
       "['Juvenile Fiction']            5804  \n",
       "['Biography & Autobiography']   3320  \n",
       "['History']                     1925  \n",
       "['Religion']                    1818  \n",
       "['Juvenile Nonfiction']         1417  \n",
       "['Social Science']              1231  \n",
       "['Humor']                       1161  \n",
       "['Body, Mind & Spirit']         1109  \n",
       "['Business & Economics']        1070  "
      ]
     },
     "execution_count": 310,
     "metadata": {},
     "output_type": "execute_result"
    }
   ],
   "source": [
    "books.groupby('category')['isbn'].agg(['unique', 'count']).sort_values(by = 'count', ascending = False)[:10]\n",
    "# 패턴이 있을줄 알았는데 딱히 안보임"
   ]
  },
  {
   "attachments": {},
   "cell_type": "markdown",
   "metadata": {},
   "source": [
    "- DL을 이용해서 category를 분류하는 것은 어떨까"
   ]
  },
  {
   "cell_type": "code",
   "execution_count": null,
   "metadata": {},
   "outputs": [],
   "source": []
  },
  {
   "attachments": {},
   "cell_type": "markdown",
   "metadata": {},
   "source": [
    "## train rating"
   ]
  },
  {
   "cell_type": "code",
   "execution_count": 41,
   "metadata": {},
   "outputs": [
    {
     "data": {
      "text/plain": [
       "8     73593\n",
       "7     52928\n",
       "9     48673\n",
       "10    42774\n",
       "6     25311\n",
       "5     14111\n",
       "1     13249\n",
       "2     12929\n",
       "4     12707\n",
       "3     10520\n",
       "Name: rating, dtype: int64"
      ]
     },
     "execution_count": 41,
     "metadata": {},
     "output_type": "execute_result"
    }
   ],
   "source": [
    "train.rating.value_counts() # 결측치 없음"
   ]
  },
  {
   "attachments": {},
   "cell_type": "markdown",
   "metadata": {},
   "source": [
    "# 데이터 쓰레기 값"
   ]
  },
  {
   "attachments": {},
   "cell_type": "markdown",
   "metadata": {},
   "source": [
    "## Users\n",
    "- location\n",
    "    - __문화권 / 대륙권으로 묶으면 어떨까?__"
   ]
  },
  {
   "attachments": {},
   "cell_type": "markdown",
   "metadata": {},
   "source": [
    "## Books\n",
    "- category -> 결측치를 'others'로 처리 후, clustering을 통해 전처리\n",
    "- image\n",
    "- language(?) -> category와 동일 방식 처리"
   ]
  },
  {
   "attachments": {},
   "cell_type": "markdown",
   "metadata": {},
   "source": [
    "# Data Imbalance\n",
    "- 컬럼마다 데이터 불균형이 존재\n",
    "    - location, age, language, category 등\n",
    "    - overfitting으로 인해 sparse한 데이터에 대해서는 학습이 안될 가능성이 있음\n",
    "    - sampling시에 가능하다면 데이터 balance를 맞춰주는 것도 좋을 듯"
   ]
  },
  {
   "attachments": {},
   "cell_type": "markdown",
   "metadata": {},
   "source": [
    "# Extra\n",
    "## Rule Based Approach\n",
    "- 시나리오를 구상해서 preprocessing rule을 정한 후, 그에 맞게 case by case로 전처리 하는 방법\n",
    "    - age, category와의 연관성을 이용해서 해볼까\n",
    "## Feature수 줄이기\n",
    "- rating에 주는 영향이 미미할 것으로 생각되는 feature를 제거하거나 다른 feature와 합쳐 불필요한 연산을 줄이고 예측에 혼동을 줄 수 있는 요소를 제거"
   ]
  },
  {
   "attachments": {},
   "cell_type": "markdown",
   "metadata": {},
   "source": [
    "# Category 결측치 처리"
   ]
  },
  {
   "cell_type": "code",
   "execution_count": 199,
   "metadata": {},
   "outputs": [
    {
     "name": "stdout",
     "output_type": "stream",
     "text": [
      "0\n",
      "68851\n"
     ]
    }
   ],
   "source": [
    "new_cat = pd.read_csv('./cat_predict_2.csv')\n",
    "print(books.category.isnull().sum())\n",
    "print(len(new_cat))"
   ]
  },
  {
   "cell_type": "code",
   "execution_count": 200,
   "metadata": {},
   "outputs": [
    {
     "data": {
      "text/plain": [
       "349"
      ]
     },
     "execution_count": 200,
     "metadata": {},
     "output_type": "execute_result"
    }
   ],
   "source": [
    "new_cat['predicted_cat'].nunique()"
   ]
  },
  {
   "cell_type": "code",
   "execution_count": 201,
   "metadata": {},
   "outputs": [
    {
     "data": {
      "text/html": [
       "<div>\n",
       "<style scoped>\n",
       "    .dataframe tbody tr th:only-of-type {\n",
       "        vertical-align: middle;\n",
       "    }\n",
       "\n",
       "    .dataframe tbody tr th {\n",
       "        vertical-align: top;\n",
       "    }\n",
       "\n",
       "    .dataframe thead th {\n",
       "        text-align: right;\n",
       "    }\n",
       "</style>\n",
       "<table border=\"1\" class=\"dataframe\">\n",
       "  <thead>\n",
       "    <tr style=\"text-align: right;\">\n",
       "      <th></th>\n",
       "      <th>predicted_cat</th>\n",
       "    </tr>\n",
       "  </thead>\n",
       "  <tbody>\n",
       "    <tr>\n",
       "      <th>0</th>\n",
       "      <td>345</td>\n",
       "    </tr>\n",
       "    <tr>\n",
       "      <th>1</th>\n",
       "      <td>1</td>\n",
       "    </tr>\n",
       "    <tr>\n",
       "      <th>2</th>\n",
       "      <td>195</td>\n",
       "    </tr>\n",
       "    <tr>\n",
       "      <th>3</th>\n",
       "      <td>3</td>\n",
       "    </tr>\n",
       "    <tr>\n",
       "      <th>4</th>\n",
       "      <td>4</td>\n",
       "    </tr>\n",
       "  </tbody>\n",
       "</table>\n",
       "</div>"
      ],
      "text/plain": [
       "   predicted_cat\n",
       "0            345\n",
       "1              1\n",
       "2            195\n",
       "3              3\n",
       "4              4"
      ]
     },
     "execution_count": 201,
     "metadata": {},
     "output_type": "execute_result"
    }
   ],
   "source": [
    "new_cat.head()"
   ]
  },
  {
   "cell_type": "code",
   "execution_count": 202,
   "metadata": {},
   "outputs": [],
   "source": [
    "books = pd.read_csv('./books_clustering.csv')"
   ]
  },
  {
   "cell_type": "code",
   "execution_count": 203,
   "metadata": {},
   "outputs": [],
   "source": [
    "b = books.copy()"
   ]
  },
  {
   "cell_type": "code",
   "execution_count": 204,
   "metadata": {},
   "outputs": [],
   "source": [
    "cat_null_s = b[b.high_category == '1']"
   ]
  },
  {
   "cell_type": "code",
   "execution_count": 205,
   "metadata": {},
   "outputs": [
    {
     "data": {
      "text/plain": [
       "Int64Index([     5,      8,      9,     10,     11,     25,     27,     30,\n",
       "                31,     42,\n",
       "            ...\n",
       "            149550, 149552, 149555, 149557, 149558, 149560, 149561, 149564,\n",
       "            149567, 149569],\n",
       "           dtype='int64', length=68851)"
      ]
     },
     "execution_count": 205,
     "metadata": {},
     "output_type": "execute_result"
    }
   ],
   "source": [
    "cat_null_s.index"
   ]
  },
  {
   "cell_type": "code",
   "execution_count": 206,
   "metadata": {},
   "outputs": [],
   "source": [
    "new_cat.index = cat_null_s.index"
   ]
  },
  {
   "cell_type": "code",
   "execution_count": 207,
   "metadata": {},
   "outputs": [],
   "source": [
    "# idx2cat = {k:v for k,v in enumerate(books[books['category'].notnull()]['category'].unique())}"
   ]
  },
  {
   "cell_type": "code",
   "execution_count": 196,
   "metadata": {},
   "outputs": [],
   "source": [
    "highcat2idx = {v:k for k,v in enumerate(b[b['high_category'] != '1']['high_category'].unique())}\n",
    "idx2highcat = {k:v for k,v in enumerate(b[b['high_category'] != '1']['high_category'].unique())}"
   ]
  },
  {
   "cell_type": "code",
   "execution_count": 209,
   "metadata": {},
   "outputs": [],
   "source": [
    "new_cat['predicted_cat'] = new_cat['predicted_cat'].map(idx2highcat)"
   ]
  },
  {
   "cell_type": "code",
   "execution_count": 210,
   "metadata": {},
   "outputs": [
    {
     "data": {
      "text/html": [
       "<div>\n",
       "<style scoped>\n",
       "    .dataframe tbody tr th:only-of-type {\n",
       "        vertical-align: middle;\n",
       "    }\n",
       "\n",
       "    .dataframe tbody tr th {\n",
       "        vertical-align: top;\n",
       "    }\n",
       "\n",
       "    .dataframe thead th {\n",
       "        text-align: right;\n",
       "    }\n",
       "</style>\n",
       "<table border=\"1\" class=\"dataframe\">\n",
       "  <thead>\n",
       "    <tr style=\"text-align: right;\">\n",
       "      <th></th>\n",
       "      <th>predicted_cat</th>\n",
       "    </tr>\n",
       "  </thead>\n",
       "  <tbody>\n",
       "    <tr>\n",
       "      <th>5</th>\n",
       "      <td>outer space</td>\n",
       "    </tr>\n",
       "    <tr>\n",
       "      <th>8</th>\n",
       "      <td>others</td>\n",
       "    </tr>\n",
       "    <tr>\n",
       "      <th>9</th>\n",
       "      <td>short stories</td>\n",
       "    </tr>\n",
       "    <tr>\n",
       "      <th>10</th>\n",
       "      <td>fiction</td>\n",
       "    </tr>\n",
       "    <tr>\n",
       "      <th>11</th>\n",
       "      <td>history</td>\n",
       "    </tr>\n",
       "    <tr>\n",
       "      <th>...</th>\n",
       "      <td>...</td>\n",
       "    </tr>\n",
       "    <tr>\n",
       "      <th>149560</th>\n",
       "      <td>fiction</td>\n",
       "    </tr>\n",
       "    <tr>\n",
       "      <th>149561</th>\n",
       "      <td>china</td>\n",
       "    </tr>\n",
       "    <tr>\n",
       "      <th>149564</th>\n",
       "      <td>others</td>\n",
       "    </tr>\n",
       "    <tr>\n",
       "      <th>149567</th>\n",
       "      <td>biography</td>\n",
       "    </tr>\n",
       "    <tr>\n",
       "      <th>149569</th>\n",
       "      <td>fiction</td>\n",
       "    </tr>\n",
       "  </tbody>\n",
       "</table>\n",
       "<p>68851 rows × 1 columns</p>\n",
       "</div>"
      ],
      "text/plain": [
       "        predicted_cat\n",
       "5         outer space\n",
       "8              others\n",
       "9       short stories\n",
       "10            fiction\n",
       "11            history\n",
       "...               ...\n",
       "149560        fiction\n",
       "149561          china\n",
       "149564         others\n",
       "149567      biography\n",
       "149569        fiction\n",
       "\n",
       "[68851 rows x 1 columns]"
      ]
     },
     "execution_count": 210,
     "metadata": {},
     "output_type": "execute_result"
    }
   ],
   "source": [
    "new_cat"
   ]
  },
  {
   "cell_type": "code",
   "execution_count": 211,
   "metadata": {},
   "outputs": [
    {
     "data": {
      "text/plain": [
       "349"
      ]
     },
     "execution_count": 211,
     "metadata": {},
     "output_type": "execute_result"
    }
   ],
   "source": [
    "new_cat.predicted_cat.nunique()"
   ]
  },
  {
   "cell_type": "code",
   "execution_count": 212,
   "metadata": {},
   "outputs": [],
   "source": [
    "b['new_cat'] = new_cat['predicted_cat']"
   ]
  },
  {
   "cell_type": "code",
   "execution_count": 213,
   "metadata": {},
   "outputs": [
    {
     "data": {
      "text/plain": [
       "0               NaN\n",
       "1               NaN\n",
       "2               NaN\n",
       "3               NaN\n",
       "4               NaN\n",
       "            ...    \n",
       "149565          NaN\n",
       "149566          NaN\n",
       "149567    biography\n",
       "149568          NaN\n",
       "149569      fiction\n",
       "Name: new_cat, Length: 149570, dtype: object"
      ]
     },
     "execution_count": 213,
     "metadata": {},
     "output_type": "execute_result"
    }
   ],
   "source": [
    "b['new_cat']"
   ]
  },
  {
   "cell_type": "code",
   "execution_count": 214,
   "metadata": {},
   "outputs": [],
   "source": [
    "b['new_cat'] = b['new_cat'].fillna(b['high_category'])"
   ]
  },
  {
   "cell_type": "code",
   "execution_count": 215,
   "metadata": {},
   "outputs": [
    {
     "data": {
      "text/plain": [
       "372"
      ]
     },
     "execution_count": 215,
     "metadata": {},
     "output_type": "execute_result"
    }
   ],
   "source": [
    "b['new_cat'].nunique()"
   ]
  },
  {
   "cell_type": "code",
   "execution_count": 216,
   "metadata": {},
   "outputs": [
    {
     "data": {
      "text/plain": [
       "isbn                              0887841740\n",
       "book_title                The Middle Stories\n",
       "book_author                      Sheila Heti\n",
       "year_of_publication                   2004.0\n",
       "publisher              House of Anansi Press\n",
       "language                                   1\n",
       "category                                   1\n",
       "summary                                    1\n",
       "high_category                              1\n",
       "new_cat                               others\n",
       "Name: 8, dtype: object"
      ]
     },
     "execution_count": 216,
     "metadata": {},
     "output_type": "execute_result"
    }
   ],
   "source": [
    "b.iloc[8]"
   ]
  },
  {
   "cell_type": "code",
   "execution_count": 217,
   "metadata": {},
   "outputs": [],
   "source": [
    "b = b.drop(columns = ['category', 'high_category'])"
   ]
  },
  {
   "cell_type": "code",
   "execution_count": 218,
   "metadata": {},
   "outputs": [],
   "source": [
    "b = b.rename(columns = {'new_cat':'category'})"
   ]
  },
  {
   "cell_type": "code",
   "execution_count": 219,
   "metadata": {},
   "outputs": [
    {
     "data": {
      "text/html": [
       "<div>\n",
       "<style scoped>\n",
       "    .dataframe tbody tr th:only-of-type {\n",
       "        vertical-align: middle;\n",
       "    }\n",
       "\n",
       "    .dataframe tbody tr th {\n",
       "        vertical-align: top;\n",
       "    }\n",
       "\n",
       "    .dataframe thead th {\n",
       "        text-align: right;\n",
       "    }\n",
       "</style>\n",
       "<table border=\"1\" class=\"dataframe\">\n",
       "  <thead>\n",
       "    <tr style=\"text-align: right;\">\n",
       "      <th></th>\n",
       "      <th>isbn</th>\n",
       "      <th>book_title</th>\n",
       "      <th>book_author</th>\n",
       "      <th>year_of_publication</th>\n",
       "      <th>publisher</th>\n",
       "      <th>language</th>\n",
       "      <th>summary</th>\n",
       "      <th>category</th>\n",
       "    </tr>\n",
       "  </thead>\n",
       "  <tbody>\n",
       "    <tr>\n",
       "      <th>0</th>\n",
       "      <td>0002005018</td>\n",
       "      <td>Clara Callan</td>\n",
       "      <td>Richard Bruce Wright</td>\n",
       "      <td>2001.0</td>\n",
       "      <td>HarperFlamingo Canada</td>\n",
       "      <td>en</td>\n",
       "      <td>In a small town in Canada, Clara Callan reluct...</td>\n",
       "      <td>actresses</td>\n",
       "    </tr>\n",
       "    <tr>\n",
       "      <th>1</th>\n",
       "      <td>0060973129</td>\n",
       "      <td>Decision in Normandy</td>\n",
       "      <td>Carlo D'Este</td>\n",
       "      <td>1991.0</td>\n",
       "      <td>HarperPerennial</td>\n",
       "      <td>en</td>\n",
       "      <td>Here, for the first time in paperback, is an o...</td>\n",
       "      <td>others</td>\n",
       "    </tr>\n",
       "    <tr>\n",
       "      <th>2</th>\n",
       "      <td>0374157065</td>\n",
       "      <td>Flu: The Story of the Great Influenza Pandemic...</td>\n",
       "      <td>Gina Bari Kolata</td>\n",
       "      <td>1999.0</td>\n",
       "      <td>Farrar Straus Giroux</td>\n",
       "      <td>en</td>\n",
       "      <td>Describes the great flu epidemic of 1918, an o...</td>\n",
       "      <td>medical</td>\n",
       "    </tr>\n",
       "    <tr>\n",
       "      <th>3</th>\n",
       "      <td>0399135782</td>\n",
       "      <td>The Kitchen God's Wife</td>\n",
       "      <td>Amy Tan</td>\n",
       "      <td>1991.0</td>\n",
       "      <td>Putnam Pub Group</td>\n",
       "      <td>en</td>\n",
       "      <td>A Chinese immigrant who is convinced she is dy...</td>\n",
       "      <td>fiction</td>\n",
       "    </tr>\n",
       "    <tr>\n",
       "      <th>4</th>\n",
       "      <td>0425176428</td>\n",
       "      <td>What If?: The World's Foremost Military Histor...</td>\n",
       "      <td>Robert Cowley</td>\n",
       "      <td>2000.0</td>\n",
       "      <td>Berkley Publishing Group</td>\n",
       "      <td>en</td>\n",
       "      <td>Essays by respected military historians, inclu...</td>\n",
       "      <td>history</td>\n",
       "    </tr>\n",
       "  </tbody>\n",
       "</table>\n",
       "</div>"
      ],
      "text/plain": [
       "         isbn                                         book_title  \\\n",
       "0  0002005018                                       Clara Callan   \n",
       "1  0060973129                               Decision in Normandy   \n",
       "2  0374157065  Flu: The Story of the Great Influenza Pandemic...   \n",
       "3  0399135782                             The Kitchen God's Wife   \n",
       "4  0425176428  What If?: The World's Foremost Military Histor...   \n",
       "\n",
       "            book_author  year_of_publication                 publisher  \\\n",
       "0  Richard Bruce Wright               2001.0     HarperFlamingo Canada   \n",
       "1          Carlo D'Este               1991.0           HarperPerennial   \n",
       "2      Gina Bari Kolata               1999.0      Farrar Straus Giroux   \n",
       "3               Amy Tan               1991.0          Putnam Pub Group   \n",
       "4         Robert Cowley               2000.0  Berkley Publishing Group   \n",
       "\n",
       "  language                                            summary   category  \n",
       "0       en  In a small town in Canada, Clara Callan reluct...  actresses  \n",
       "1       en  Here, for the first time in paperback, is an o...     others  \n",
       "2       en  Describes the great flu epidemic of 1918, an o...    medical  \n",
       "3       en  A Chinese immigrant who is convinced she is dy...    fiction  \n",
       "4       en  Essays by respected military historians, inclu...    history  "
      ]
     },
     "execution_count": 219,
     "metadata": {},
     "output_type": "execute_result"
    }
   ],
   "source": [
    "b.head()"
   ]
  },
  {
   "cell_type": "code",
   "execution_count": 221,
   "metadata": {},
   "outputs": [],
   "source": [
    "b.to_csv('./books_lang_cat_dg.csv', index = False)"
   ]
  },
  {
   "cell_type": "code",
   "execution_count": 220,
   "metadata": {},
   "outputs": [
    {
     "data": {
      "text/plain": [
       "372"
      ]
     },
     "execution_count": 220,
     "metadata": {},
     "output_type": "execute_result"
    }
   ],
   "source": [
    "b.category.nunique()"
   ]
  },
  {
   "attachments": {},
   "cell_type": "markdown",
   "metadata": {},
   "source": [
    "# Kmodes cluster -> fillna"
   ]
  },
  {
   "cell_type": "code",
   "execution_count": 222,
   "metadata": {},
   "outputs": [
    {
     "data": {
      "text/html": [
       "<div>\n",
       "<style scoped>\n",
       "    .dataframe tbody tr th:only-of-type {\n",
       "        vertical-align: middle;\n",
       "    }\n",
       "\n",
       "    .dataframe tbody tr th {\n",
       "        vertical-align: top;\n",
       "    }\n",
       "\n",
       "    .dataframe thead th {\n",
       "        text-align: right;\n",
       "    }\n",
       "</style>\n",
       "<table border=\"1\" class=\"dataframe\">\n",
       "  <thead>\n",
       "    <tr style=\"text-align: right;\">\n",
       "      <th></th>\n",
       "      <th>isbn</th>\n",
       "      <th>book_title</th>\n",
       "      <th>book_author</th>\n",
       "      <th>year_of_publication</th>\n",
       "      <th>publisher</th>\n",
       "      <th>img_url</th>\n",
       "      <th>language</th>\n",
       "      <th>summary</th>\n",
       "      <th>img_path</th>\n",
       "      <th>category</th>\n",
       "      <th>group</th>\n",
       "    </tr>\n",
       "  </thead>\n",
       "  <tbody>\n",
       "    <tr>\n",
       "      <th>0</th>\n",
       "      <td>0002005018</td>\n",
       "      <td>Clara Callan</td>\n",
       "      <td>Richard Bruce Wright</td>\n",
       "      <td>2001.0</td>\n",
       "      <td>HarperFlamingo Canada</td>\n",
       "      <td>http://images.amazon.com/images/P/0002005018.0...</td>\n",
       "      <td>en</td>\n",
       "      <td>In a small town in Canada, Clara Callan reluct...</td>\n",
       "      <td>images/0002005018.01.THUMBZZZ.jpg</td>\n",
       "      <td>['Actresses']</td>\n",
       "      <td>1</td>\n",
       "    </tr>\n",
       "    <tr>\n",
       "      <th>1</th>\n",
       "      <td>0060973129</td>\n",
       "      <td>Decision in Normandy</td>\n",
       "      <td>Carlo D'Este</td>\n",
       "      <td>1991.0</td>\n",
       "      <td>HarperPerennial</td>\n",
       "      <td>http://images.amazon.com/images/P/0060973129.0...</td>\n",
       "      <td>en</td>\n",
       "      <td>Here, for the first time in paperback, is an o...</td>\n",
       "      <td>images/0060973129.01.THUMBZZZ.jpg</td>\n",
       "      <td>['1940-1949']</td>\n",
       "      <td>0</td>\n",
       "    </tr>\n",
       "    <tr>\n",
       "      <th>2</th>\n",
       "      <td>0374157065</td>\n",
       "      <td>Flu: The Story of the Great Influenza Pandemic...</td>\n",
       "      <td>Gina Bari Kolata</td>\n",
       "      <td>1999.0</td>\n",
       "      <td>Farrar Straus Giroux</td>\n",
       "      <td>http://images.amazon.com/images/P/0374157065.0...</td>\n",
       "      <td>en</td>\n",
       "      <td>Describes the great flu epidemic of 1918, an o...</td>\n",
       "      <td>images/0374157065.01.THUMBZZZ.jpg</td>\n",
       "      <td>['Medical']</td>\n",
       "      <td>2</td>\n",
       "    </tr>\n",
       "    <tr>\n",
       "      <th>3</th>\n",
       "      <td>0399135782</td>\n",
       "      <td>The Kitchen God's Wife</td>\n",
       "      <td>Amy Tan</td>\n",
       "      <td>1991.0</td>\n",
       "      <td>Putnam Pub Group</td>\n",
       "      <td>http://images.amazon.com/images/P/0399135782.0...</td>\n",
       "      <td>en</td>\n",
       "      <td>A Chinese immigrant who is convinced she is dy...</td>\n",
       "      <td>images/0399135782.01.THUMBZZZ.jpg</td>\n",
       "      <td>['Fiction']</td>\n",
       "      <td>0</td>\n",
       "    </tr>\n",
       "    <tr>\n",
       "      <th>4</th>\n",
       "      <td>0425176428</td>\n",
       "      <td>What If?: The World's Foremost Military Histor...</td>\n",
       "      <td>Robert Cowley</td>\n",
       "      <td>2000.0</td>\n",
       "      <td>Berkley Publishing Group</td>\n",
       "      <td>http://images.amazon.com/images/P/0425176428.0...</td>\n",
       "      <td>en</td>\n",
       "      <td>Essays by respected military historians, inclu...</td>\n",
       "      <td>images/0425176428.01.THUMBZZZ.jpg</td>\n",
       "      <td>['History']</td>\n",
       "      <td>3</td>\n",
       "    </tr>\n",
       "  </tbody>\n",
       "</table>\n",
       "</div>"
      ],
      "text/plain": [
       "         isbn                                         book_title  \\\n",
       "0  0002005018                                       Clara Callan   \n",
       "1  0060973129                               Decision in Normandy   \n",
       "2  0374157065  Flu: The Story of the Great Influenza Pandemic...   \n",
       "3  0399135782                             The Kitchen God's Wife   \n",
       "4  0425176428  What If?: The World's Foremost Military Histor...   \n",
       "\n",
       "            book_author  year_of_publication                 publisher  \\\n",
       "0  Richard Bruce Wright               2001.0     HarperFlamingo Canada   \n",
       "1          Carlo D'Este               1991.0           HarperPerennial   \n",
       "2      Gina Bari Kolata               1999.0      Farrar Straus Giroux   \n",
       "3               Amy Tan               1991.0          Putnam Pub Group   \n",
       "4         Robert Cowley               2000.0  Berkley Publishing Group   \n",
       "\n",
       "                                             img_url language  \\\n",
       "0  http://images.amazon.com/images/P/0002005018.0...       en   \n",
       "1  http://images.amazon.com/images/P/0060973129.0...       en   \n",
       "2  http://images.amazon.com/images/P/0374157065.0...       en   \n",
       "3  http://images.amazon.com/images/P/0399135782.0...       en   \n",
       "4  http://images.amazon.com/images/P/0425176428.0...       en   \n",
       "\n",
       "                                             summary  \\\n",
       "0  In a small town in Canada, Clara Callan reluct...   \n",
       "1  Here, for the first time in paperback, is an o...   \n",
       "2  Describes the great flu epidemic of 1918, an o...   \n",
       "3  A Chinese immigrant who is convinced she is dy...   \n",
       "4  Essays by respected military historians, inclu...   \n",
       "\n",
       "                            img_path       category  group  \n",
       "0  images/0002005018.01.THUMBZZZ.jpg  ['Actresses']      1  \n",
       "1  images/0060973129.01.THUMBZZZ.jpg  ['1940-1949']      0  \n",
       "2  images/0374157065.01.THUMBZZZ.jpg    ['Medical']      2  \n",
       "3  images/0399135782.01.THUMBZZZ.jpg    ['Fiction']      0  \n",
       "4  images/0425176428.01.THUMBZZZ.jpg    ['History']      3  "
      ]
     },
     "execution_count": 222,
     "metadata": {},
     "output_type": "execute_result"
    }
   ],
   "source": [
    "km_books = pd.read_csv('./books_lang_cat_group.csv')\n",
    "km_books.head()"
   ]
  },
  {
   "cell_type": "code",
   "execution_count": 226,
   "metadata": {},
   "outputs": [
    {
     "name": "stdout",
     "output_type": "stream",
     "text": [
      "68851\n",
      "68851\n"
     ]
    }
   ],
   "source": [
    "new_cat = pd.read_csv('./cat_predict_km.csv')\n",
    "books = pd.read_csv('./books_lang_cluster.csv')\n",
    "print(books.group.isnull().sum())\n",
    "print(len(new_cat))"
   ]
  },
  {
   "cell_type": "code",
   "execution_count": 229,
   "metadata": {},
   "outputs": [],
   "source": [
    "cat_null_s_idx = books[books.group.isnull()].index\n",
    "idx2group = {k:v for k,v in enumerate(books[books.group.notnull()]['group'].unique())}"
   ]
  },
  {
   "cell_type": "code",
   "execution_count": 232,
   "metadata": {},
   "outputs": [],
   "source": [
    "new_cat['predicted_cat_km'] = new_cat['predicted_cat_km'].map(idx2group)"
   ]
  },
  {
   "cell_type": "code",
   "execution_count": 234,
   "metadata": {},
   "outputs": [],
   "source": [
    "new_cat.index = cat_null_s_idx"
   ]
  },
  {
   "cell_type": "code",
   "execution_count": 235,
   "metadata": {},
   "outputs": [],
   "source": [
    "books['predicted_group'] = new_cat['predicted_cat_km']"
   ]
  },
  {
   "cell_type": "code",
   "execution_count": 236,
   "metadata": {},
   "outputs": [],
   "source": [
    "books['predicted_group'].fillna(books['group'], inplace = True)"
   ]
  },
  {
   "cell_type": "code",
   "execution_count": 238,
   "metadata": {},
   "outputs": [
    {
     "data": {
      "text/plain": [
       "0"
      ]
     },
     "execution_count": 238,
     "metadata": {},
     "output_type": "execute_result"
    }
   ],
   "source": [
    "books.predicted_group.isnull().sum()"
   ]
  },
  {
   "cell_type": "code",
   "execution_count": 239,
   "metadata": {},
   "outputs": [],
   "source": [
    "books = books.drop(columns = ['category', 'group'])\n",
    "books = books.rename(columns = {'predicted_group':'category'})"
   ]
  },
  {
   "cell_type": "code",
   "execution_count": 240,
   "metadata": {},
   "outputs": [],
   "source": [
    "books.to_csv('./books_lang_cat_group2.csv', index = False)"
   ]
  },
  {
   "cell_type": "code",
   "execution_count": null,
   "metadata": {},
   "outputs": [],
   "source": []
  }
 ],
 "metadata": {
  "kernelspec": {
   "display_name": "Python 3.8.5 ('base')",
   "language": "python",
   "name": "python3"
  },
  "language_info": {
   "codemirror_mode": {
    "name": "ipython",
    "version": 3
   },
   "file_extension": ".py",
   "mimetype": "text/x-python",
   "name": "python",
   "nbconvert_exporter": "python",
   "pygments_lexer": "ipython3",
   "version": "3.8.5"
  },
  "orig_nbformat": 4,
  "vscode": {
   "interpreter": {
    "hash": "d4d1e4263499bec80672ea0156c357c1ee493ec2b1c70f0acce89fc37c4a6abe"
   }
  }
 },
 "nbformat": 4,
 "nbformat_minor": 2
}
