{
 "cells": [
  {
   "cell_type": "code",
   "execution_count": 2,
   "metadata": {},
   "outputs": [],
   "source": [
    "import pandas as pd\n",
    "import numpy as np\n",
    "import matplotlib.pyplot as plt\n",
    "import seaborn as sns\n",
    "import warnings\n",
    "warnings.filterwarnings('ignore')"
   ]
  },
  {
   "cell_type": "code",
   "execution_count": 3,
   "metadata": {},
   "outputs": [],
   "source": [
    "books = pd.read_csv('./books2.csv')\n",
    "users = pd.read_csv('./users2.csv')\n",
    "books = books.iloc[:,1:]\n",
    "users = users.iloc[:,1:]"
   ]
  },
  {
   "cell_type": "code",
   "execution_count": 4,
   "metadata": {},
   "outputs": [
    {
     "data": {
      "text/plain": [
       "isbn                       0\n",
       "book_title                 0\n",
       "book_author                0\n",
       "year_of_publication        0\n",
       "publisher                  0\n",
       "img_url                    0\n",
       "language                   0\n",
       "category                   0\n",
       "summary                67227\n",
       "img_path                   0\n",
       "dtype: int64"
      ]
     },
     "execution_count": 4,
     "metadata": {},
     "output_type": "execute_result"
    }
   ],
   "source": [
    "books.isnull().sum()"
   ]
  },
  {
   "cell_type": "code",
   "execution_count": 5,
   "metadata": {},
   "outputs": [],
   "source": [
    "duplciated_books = books[books[['book_title', 'book_author']].duplicated(keep = False)].sort_values(by = ['book_title','book_author'])['book_title'].unique()"
   ]
  },
  {
   "cell_type": "code",
   "execution_count": 6,
   "metadata": {},
   "outputs": [],
   "source": [
    "duplicated = books[books[['book_title', 'book_author']].duplicated(keep = False)]"
   ]
  },
  {
   "cell_type": "code",
   "execution_count": 7,
   "metadata": {},
   "outputs": [],
   "source": [
    "notnull_titles = duplicated[duplicated['summary'].notnull()]['book_title'].values\n",
    "notnull_summary = duplicated[duplicated['summary'].notnull()]['summary'].values\n",
    "\n",
    "summary_dict = dict(zip(notnull_titles, notnull_summary))"
   ]
  },
  {
   "cell_type": "code",
   "execution_count": 8,
   "metadata": {},
   "outputs": [],
   "source": [
    "b = books.copy()"
   ]
  },
  {
   "cell_type": "code",
   "execution_count": 9,
   "metadata": {},
   "outputs": [],
   "source": [
    "for k,v in summary_dict.items() : \n",
    "    b.loc[b['book_title'] == k,'summary'] = v"
   ]
  },
  {
   "cell_type": "code",
   "execution_count": 10,
   "metadata": {},
   "outputs": [
    {
     "name": "stdout",
     "output_type": "stream",
     "text": [
      "67227 61822\n"
     ]
    }
   ],
   "source": [
    "print(books.summary.isnull().sum(), b.summary.isnull().sum()) # 6천개 정도 결측치 처리"
   ]
  },
  {
   "cell_type": "code",
   "execution_count": 12,
   "metadata": {},
   "outputs": [
    {
     "data": {
      "text/plain": [
       "<BarContainer object of 2 artists>"
      ]
     },
     "execution_count": 12,
     "metadata": {},
     "output_type": "execute_result"
    },
    {
     "data": {
      "image/png": "[encoded data removed]",
      "text/plain": [
       "<Figure size 640x480 with 1 Axes>"
      ]
     },
     "metadata": {},
     "output_type": "display_data"
    }
   ],
   "source": [
    "plt.bar(['summary nulls without imputation', 'summary nulls with imputation'], [books.summary.isnull().sum(), b.summary.isnull().sum()])"
   ]
  },
  {
   "cell_type": "code",
   "execution_count": 84,
   "metadata": {},
   "outputs": [
    {
     "data": {
      "text/html": [
       "<div>\n",
       "<style scoped>\n",
       "    .dataframe tbody tr th:only-of-type {\n",
       "        vertical-align: middle;\n",
       "    }\n",
       "\n",
       "    .dataframe tbody tr th {\n",
       "        vertical-align: top;\n",
       "    }\n",
       "\n",
       "    .dataframe thead th {\n",
       "        text-align: right;\n",
       "    }\n",
       "</style>\n",
       "<table border=\"1\" class=\"dataframe\">\n",
       "  <thead>\n",
       "    <tr style=\"text-align: right;\">\n",
       "      <th></th>\n",
       "      <th>isbn</th>\n",
       "      <th>book_title</th>\n",
       "      <th>book_author</th>\n",
       "      <th>year_of_publication</th>\n",
       "      <th>publisher</th>\n",
       "      <th>img_url</th>\n",
       "      <th>language</th>\n",
       "      <th>category</th>\n",
       "      <th>summary</th>\n",
       "      <th>img_path</th>\n",
       "    </tr>\n",
       "  </thead>\n",
       "  <tbody>\n",
       "    <tr>\n",
       "      <th>15243</th>\n",
       "      <td>0451168089</td>\n",
       "      <td>'Salem's Lot</td>\n",
       "      <td>Stephen King</td>\n",
       "      <td>1990.0</td>\n",
       "      <td>signet book</td>\n",
       "      <td>http://images.amazon.com/images/P/0451168089.0...</td>\n",
       "      <td>en</td>\n",
       "      <td>['French-Canadian fiction']</td>\n",
       "      <td>A nightmare of evil grips a small Maine town w...</td>\n",
       "      <td>images/0451168089.01.THUMBZZZ.jpg</td>\n",
       "    </tr>\n",
       "    <tr>\n",
       "      <th>52626</th>\n",
       "      <td>0385007515</td>\n",
       "      <td>'Salem's Lot</td>\n",
       "      <td>Stephen King</td>\n",
       "      <td>1993.0</td>\n",
       "      <td>bantam</td>\n",
       "      <td>http://images.amazon.com/images/P/0385007515.0...</td>\n",
       "      <td>en</td>\n",
       "      <td>['Fiction']</td>\n",
       "      <td>A nightmare of evil grips a small Maine town w...</td>\n",
       "      <td>images/0385007515.01.THUMBZZZ.jpg</td>\n",
       "    </tr>\n",
       "    <tr>\n",
       "      <th>46781</th>\n",
       "      <td>0515123471</td>\n",
       "      <td>10 Lb. Penalty</td>\n",
       "      <td>Dick Francis</td>\n",
       "      <td>1998.0</td>\n",
       "      <td>jove books</td>\n",
       "      <td>http://images.amazon.com/images/P/0515123471.0...</td>\n",
       "      <td>en</td>\n",
       "      <td>['Detective and mystery stories']</td>\n",
       "      <td>Ben Juliard&amp;#39;s dream of becoming a jockey i...</td>\n",
       "      <td>images/0515123471.01.THUMBZZZ.jpg</td>\n",
       "    </tr>\n",
       "    <tr>\n",
       "      <th>117852</th>\n",
       "      <td>1566196264</td>\n",
       "      <td>10,000 dreams interpreted: A dictionary of dreams</td>\n",
       "      <td>Gustavus Hindman Miller</td>\n",
       "      <td>1995.0</td>\n",
       "      <td>dorset press</td>\n",
       "      <td>http://images.amazon.com/images/P/1566196264.0...</td>\n",
       "      <td>en</td>\n",
       "      <td>['Dream interpretation']</td>\n",
       "      <td>Gustavus Hindman Miller&amp;#39;s groundbreaking m...</td>\n",
       "      <td>images/1566196264.01.THUMBZZZ.jpg</td>\n",
       "    </tr>\n",
       "    <tr>\n",
       "      <th>41017</th>\n",
       "      <td>1564142493</td>\n",
       "      <td>100 Ways to Motivate Yourself</td>\n",
       "      <td>Steve Chandler</td>\n",
       "      <td>1996.0</td>\n",
       "      <td>dorling kindersley</td>\n",
       "      <td>http://images.amazon.com/images/P/1564142493.0...</td>\n",
       "      <td>en</td>\n",
       "      <td>['Computers']</td>\n",
       "      <td>NaN</td>\n",
       "      <td>images/1564142493.01.THUMBZZZ.jpg</td>\n",
       "    </tr>\n",
       "    <tr>\n",
       "      <th>...</th>\n",
       "      <td>...</td>\n",
       "      <td>...</td>\n",
       "      <td>...</td>\n",
       "      <td>...</td>\n",
       "      <td>...</td>\n",
       "      <td>...</td>\n",
       "      <td>...</td>\n",
       "      <td>...</td>\n",
       "      <td>...</td>\n",
       "      <td>...</td>\n",
       "    </tr>\n",
       "    <tr>\n",
       "      <th>146331</th>\n",
       "      <td>0718143728</td>\n",
       "      <td>\\Blackadder\\\"\"</td>\n",
       "      <td>Richard Curtis</td>\n",
       "      <td>1998.0</td>\n",
       "      <td>michael joseph</td>\n",
       "      <td>http://images.amazon.com/images/P/0718143728.0...</td>\n",
       "      <td>en</td>\n",
       "      <td>['Black Adder (Television program)']</td>\n",
       "      <td>A collection of scripts from the television se...</td>\n",
       "      <td>images/0718143728.01.THUMBZZZ.jpg</td>\n",
       "    </tr>\n",
       "    <tr>\n",
       "      <th>85207</th>\n",
       "      <td>1561705357</td>\n",
       "      <td>\\Life Was Never Meant to Be a Struggle\\\"\"</td>\n",
       "      <td>Stuart Wilde</td>\n",
       "      <td>1998.0</td>\n",
       "      <td>hay house</td>\n",
       "      <td>http://images.amazon.com/images/P/1561705357.0...</td>\n",
       "      <td>en</td>\n",
       "      <td>['Self-Help']</td>\n",
       "      <td>On this amusing CD program, Stuart Wilde helps...</td>\n",
       "      <td>images/1561705357.01.THUMBZZZ.jpg</td>\n",
       "    </tr>\n",
       "    <tr>\n",
       "      <th>21189</th>\n",
       "      <td>0553346687</td>\n",
       "      <td>\\Surely You're Joking, Mr. Feynman!\\\": Adventu...</td>\n",
       "      <td>Richard P. Feynman</td>\n",
       "      <td>1990.0</td>\n",
       "      <td>bantam</td>\n",
       "      <td>http://images.amazon.com/images/P/0553346687.0...</td>\n",
       "      <td>en</td>\n",
       "      <td>['Biography &amp; Autobiography']</td>\n",
       "      <td>In this phenomenal bestseller, Nobel Prize-win...</td>\n",
       "      <td>images/0553346687.01.THUMBZZZ.jpg</td>\n",
       "    </tr>\n",
       "    <tr>\n",
       "      <th>70213</th>\n",
       "      <td>0312113536</td>\n",
       "      <td>\\You're Okay, It's Just a Bruise\\\": A Doctor's...</td>\n",
       "      <td>Rob Huizenga</td>\n",
       "      <td>1994.0</td>\n",
       "      <td>st. martin's press</td>\n",
       "      <td>http://images.amazon.com/images/P/0312113536.0...</td>\n",
       "      <td>en</td>\n",
       "      <td>['Sports &amp; Recreation']</td>\n",
       "      <td>The author, former team physician for the Los ...</td>\n",
       "      <td>images/0312113536.01.THUMBZZZ.jpg</td>\n",
       "    </tr>\n",
       "    <tr>\n",
       "      <th>123676</th>\n",
       "      <td>3492233376</td>\n",
       "      <td>Ã?Â?berleben in der WÃ?Â¼ste Danakil.</td>\n",
       "      <td>RÃ?Â¼diger Nehberg</td>\n",
       "      <td>2001.0</td>\n",
       "      <td>piper</td>\n",
       "      <td>http://images.amazon.com/images/P/3492233376.0...</td>\n",
       "      <td>en</td>\n",
       "      <td>['Amusement parks']</td>\n",
       "      <td>NaN</td>\n",
       "      <td>images/3492233376.01.THUMBZZZ.jpg</td>\n",
       "    </tr>\n",
       "  </tbody>\n",
       "</table>\n",
       "<p>10065 rows × 10 columns</p>\n",
       "</div>"
      ],
      "text/plain": [
       "              isbn                                         book_title  \\\n",
       "15243   0451168089                                       'Salem's Lot   \n",
       "52626   0385007515                                       'Salem's Lot   \n",
       "46781   0515123471                                     10 Lb. Penalty   \n",
       "117852  1566196264  10,000 dreams interpreted: A dictionary of dreams   \n",
       "41017   1564142493                      100 Ways to Motivate Yourself   \n",
       "...            ...                                                ...   \n",
       "146331  0718143728                                     \\Blackadder\\\"\"   \n",
       "85207   1561705357          \\Life Was Never Meant to Be a Struggle\\\"\"   \n",
       "21189   0553346687  \\Surely You're Joking, Mr. Feynman!\\\": Adventu...   \n",
       "70213   0312113536  \\You're Okay, It's Just a Bruise\\\": A Doctor's...   \n",
       "123676  3492233376              Ã?Â?berleben in der WÃ?Â¼ste Danakil.   \n",
       "\n",
       "                    book_author  year_of_publication           publisher  \\\n",
       "15243              Stephen King               1990.0         signet book   \n",
       "52626              Stephen King               1993.0              bantam   \n",
       "46781              Dick Francis               1998.0          jove books   \n",
       "117852  Gustavus Hindman Miller               1995.0        dorset press   \n",
       "41017            Steve Chandler               1996.0  dorling kindersley   \n",
       "...                         ...                  ...                 ...   \n",
       "146331           Richard Curtis               1998.0      michael joseph   \n",
       "85207              Stuart Wilde               1998.0           hay house   \n",
       "21189        Richard P. Feynman               1990.0              bantam   \n",
       "70213              Rob Huizenga               1994.0  st. martin's press   \n",
       "123676       RÃ?Â¼diger Nehberg               2001.0               piper   \n",
       "\n",
       "                                                  img_url language  \\\n",
       "15243   http://images.amazon.com/images/P/0451168089.0...       en   \n",
       "52626   http://images.amazon.com/images/P/0385007515.0...       en   \n",
       "46781   http://images.amazon.com/images/P/0515123471.0...       en   \n",
       "117852  http://images.amazon.com/images/P/1566196264.0...       en   \n",
       "41017   http://images.amazon.com/images/P/1564142493.0...       en   \n",
       "...                                                   ...      ...   \n",
       "146331  http://images.amazon.com/images/P/0718143728.0...       en   \n",
       "85207   http://images.amazon.com/images/P/1561705357.0...       en   \n",
       "21189   http://images.amazon.com/images/P/0553346687.0...       en   \n",
       "70213   http://images.amazon.com/images/P/0312113536.0...       en   \n",
       "123676  http://images.amazon.com/images/P/3492233376.0...       en   \n",
       "\n",
       "                                    category  \\\n",
       "15243            ['French-Canadian fiction']   \n",
       "52626                            ['Fiction']   \n",
       "46781      ['Detective and mystery stories']   \n",
       "117852              ['Dream interpretation']   \n",
       "41017                          ['Computers']   \n",
       "...                                      ...   \n",
       "146331  ['Black Adder (Television program)']   \n",
       "85207                          ['Self-Help']   \n",
       "21189          ['Biography & Autobiography']   \n",
       "70213                ['Sports & Recreation']   \n",
       "123676                   ['Amusement parks']   \n",
       "\n",
       "                                                  summary  \\\n",
       "15243   A nightmare of evil grips a small Maine town w...   \n",
       "52626   A nightmare of evil grips a small Maine town w...   \n",
       "46781   Ben Juliard&#39;s dream of becoming a jockey i...   \n",
       "117852  Gustavus Hindman Miller&#39;s groundbreaking m...   \n",
       "41017                                                 NaN   \n",
       "...                                                   ...   \n",
       "146331  A collection of scripts from the television se...   \n",
       "85207   On this amusing CD program, Stuart Wilde helps...   \n",
       "21189   In this phenomenal bestseller, Nobel Prize-win...   \n",
       "70213   The author, former team physician for the Los ...   \n",
       "123676                                                NaN   \n",
       "\n",
       "                                 img_path  \n",
       "15243   images/0451168089.01.THUMBZZZ.jpg  \n",
       "52626   images/0385007515.01.THUMBZZZ.jpg  \n",
       "46781   images/0515123471.01.THUMBZZZ.jpg  \n",
       "117852  images/1566196264.01.THUMBZZZ.jpg  \n",
       "41017   images/1564142493.01.THUMBZZZ.jpg  \n",
       "...                                   ...  \n",
       "146331  images/0718143728.01.THUMBZZZ.jpg  \n",
       "85207   images/1561705357.01.THUMBZZZ.jpg  \n",
       "21189   images/0553346687.01.THUMBZZZ.jpg  \n",
       "70213   images/0312113536.01.THUMBZZZ.jpg  \n",
       "123676  images/3492233376.01.THUMBZZZ.jpg  \n",
       "\n",
       "[10065 rows x 10 columns]"
      ]
     },
     "execution_count": 84,
     "metadata": {},
     "output_type": "execute_result"
    }
   ],
   "source": [
    "b[b[['book_title','book_author']].duplicated()].sort_values(by='book_title')"
   ]
  },
  {
   "cell_type": "code",
   "execution_count": 86,
   "metadata": {},
   "outputs": [],
   "source": [
    "b['summary'].fillna('none', inplace = True)"
   ]
  },
  {
   "cell_type": "code",
   "execution_count": 87,
   "metadata": {},
   "outputs": [
    {
     "data": {
      "text/plain": [
       "0"
      ]
     },
     "execution_count": 87,
     "metadata": {},
     "output_type": "execute_result"
    }
   ],
   "source": [
    "b.summary.isnull().sum()"
   ]
  },
  {
   "cell_type": "code",
   "execution_count": 88,
   "metadata": {},
   "outputs": [],
   "source": [
    "# b.to_csv('./books_for_txtmodel.csv', index = False)"
   ]
  },
  {
   "cell_type": "code",
   "execution_count": null,
   "metadata": {},
   "outputs": [],
   "source": []
  }
 ],
 "metadata": {
  "kernelspec": {
   "display_name": "Python 3.8.5 ('base')",
   "language": "python",
   "name": "python3"
  },
  "language_info": {
   "codemirror_mode": {
    "name": "ipython",
    "version": 3
   },
   "file_extension": ".py",
   "mimetype": "text/x-python",
   "name": "python",
   "nbconvert_exporter": "python",
   "pygments_lexer": "ipython3",
   "version": "3.8.5"
  },
  "orig_nbformat": 4,
  "vscode": {
   "interpreter": {
    "hash": "d4d1e4263499bec80672ea0156c357c1ee493ec2b1c70f0acce89fc37c4a6abe"
   }
  }
 },
 "nbformat": 4,
 "nbformat_minor": 2
}
