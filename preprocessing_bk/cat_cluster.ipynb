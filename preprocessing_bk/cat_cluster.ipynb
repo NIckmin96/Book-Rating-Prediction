{
 "cells": [
  {
   "cell_type": "code",
   "execution_count": 2,
   "metadata": {},
   "outputs": [],
   "source": [
    "import pandas as pd\n",
    "import numpy as np\n",
    "import warnings\n",
    "warnings.filterwarnings('ignore')"
   ]
  },
  {
   "attachments": {},
   "cell_type": "markdown",
   "metadata": {},
   "source": [
    "# 기존 방식 : \"books_lang_cat.csv\" -> \"books_lang_cat_group.csv\"\n",
    "1. category 결측치를 먼저 채운 후, : books_lang_cat.csv\n",
    "2. kmodes를 통해 5개의 group으로 clustering : books_lang_cat_gropu.csv"
   ]
  },
  {
   "cell_type": "code",
   "execution_count": 19,
   "metadata": {},
   "outputs": [],
   "source": [
    "books = pd.read_csv('../data/preprocessed/books_lang_cat.csv')\n",
    "\n",
    "from kmodes.kmodes import KModes\n",
    "\n",
    "isbn2idx = {v:k for k,v in enumerate(books['isbn'].unique())}\n",
    "author2idx = {v:k for k,v in enumerate(books['book_author'].unique())}\n",
    "year2idx = {v:k for k,v in enumerate(books['year_of_publication'].unique())}\n",
    "publisher2idx = {v:k for k,v in enumerate(books['publisher'].unique())}\n",
    "lang2idx = {v:k for k,v in enumerate(books['language'].unique())}\n",
    "cat2idx = {v:k for k,v in enumerate(books['category'].unique())}\n",
    "\n",
    "df = books.copy()\n",
    "df['isbn'] = df['isbn'].map(isbn2idx)\n",
    "df['book_author'] = df['book_author'].map(author2idx)\n",
    "df['year_of_publication'] = df['year_of_publication'].map(year2idx)\n",
    "df['publisher'] = df['publisher'].map(publisher2idx)\n",
    "df['language'] = df['language'].map(lang2idx)\n",
    "df['category'] = df['category'].map(cat2idx)\n",
    "\n",
    "X = df[['isbn','book_author','year_of_publication','publisher','language','category']].values\n",
    "my_modes = KModes(n_clusters=5).fit(X)\n",
    "\n",
    "res = my_modes.predict(X)\n",
    "\n",
    "df['group'] = res\n",
    "books['group'] = res\n",
    "\n",
    "# books.to_csv('../data/preprocessed/books_lang_cat_group.csv', index = False)"
   ]
  },
  {
   "attachments": {},
   "cell_type": "markdown",
   "metadata": {},
   "source": [
    "# notnull에 대해 kmodes clustering 후, cat_classifier.py로 결측치 처리\n",
    "- -> clustering 후, cluster 결과(group :1~10)을 새로운 category feature로 사용해\n",
    "- 원본 데이터(category 결측치를 채우지 않은 데이터 : books_lang.csv)에 대해 category(group) 예측"
   ]
  },
  {
   "cell_type": "code",
   "execution_count": 46,
   "metadata": {},
   "outputs": [
    {
     "name": "stderr",
     "output_type": "stream",
     "text": [
      "/tmp/ipykernel_62021/973027740.py:13: SettingWithCopyWarning: \n",
      "A value is trying to be set on a copy of a slice from a DataFrame.\n",
      "Try using .loc[row_indexer,col_indexer] = value instead\n",
      "\n",
      "See the caveats in the documentation: https://pandas.pydata.org/pandas-docs/stable/user_guide/indexing.html#returning-a-view-versus-a-copy\n",
      "  df['isbn'] = df['isbn'].map(isbn2idx)\n",
      "/tmp/ipykernel_62021/973027740.py:14: SettingWithCopyWarning: \n",
      "A value is trying to be set on a copy of a slice from a DataFrame.\n",
      "Try using .loc[row_indexer,col_indexer] = value instead\n",
      "\n",
      "See the caveats in the documentation: https://pandas.pydata.org/pandas-docs/stable/user_guide/indexing.html#returning-a-view-versus-a-copy\n",
      "  df['book_author'] = df['book_author'].map(author2idx)\n",
      "/tmp/ipykernel_62021/973027740.py:15: SettingWithCopyWarning: \n",
      "A value is trying to be set on a copy of a slice from a DataFrame.\n",
      "Try using .loc[row_indexer,col_indexer] = value instead\n",
      "\n",
      "See the caveats in the documentation: https://pandas.pydata.org/pandas-docs/stable/user_guide/indexing.html#returning-a-view-versus-a-copy\n",
      "  df['year_of_publication'] = df['year_of_publication'].map(year2idx)\n",
      "/tmp/ipykernel_62021/973027740.py:16: SettingWithCopyWarning: \n",
      "A value is trying to be set on a copy of a slice from a DataFrame.\n",
      "Try using .loc[row_indexer,col_indexer] = value instead\n",
      "\n",
      "See the caveats in the documentation: https://pandas.pydata.org/pandas-docs/stable/user_guide/indexing.html#returning-a-view-versus-a-copy\n",
      "  df['publisher'] = df['publisher'].map(publisher2idx)\n",
      "/tmp/ipykernel_62021/973027740.py:17: SettingWithCopyWarning: \n",
      "A value is trying to be set on a copy of a slice from a DataFrame.\n",
      "Try using .loc[row_indexer,col_indexer] = value instead\n",
      "\n",
      "See the caveats in the documentation: https://pandas.pydata.org/pandas-docs/stable/user_guide/indexing.html#returning-a-view-versus-a-copy\n",
      "  df['language'] = df['language'].map(lang2idx)\n",
      "/tmp/ipykernel_62021/973027740.py:18: SettingWithCopyWarning: \n",
      "A value is trying to be set on a copy of a slice from a DataFrame.\n",
      "Try using .loc[row_indexer,col_indexer] = value instead\n",
      "\n",
      "See the caveats in the documentation: https://pandas.pydata.org/pandas-docs/stable/user_guide/indexing.html#returning-a-view-versus-a-copy\n",
      "  df['category'] = df['category'].map(cat2idx)\n"
     ]
    },
    {
     "data": {
      "text/plain": [
       "isbn                       0\n",
       "book_title                 0\n",
       "book_author                0\n",
       "year_of_publication        0\n",
       "publisher                  0\n",
       "img_url                    0\n",
       "language                   0\n",
       "category               68851\n",
       "summary                67227\n",
       "img_path                   0\n",
       "group                  68851\n",
       "dtype: int64"
      ]
     },
     "execution_count": 46,
     "metadata": {},
     "output_type": "execute_result"
    }
   ],
   "source": [
    "from kmodes.kmodes import KModes\n",
    "\n",
    "books = pd.read_csv('../data/preprocessed/books_lang.csv')\n",
    "\n",
    "isbn2idx = {v:k for k,v in enumerate(books['isbn'].unique())}\n",
    "author2idx = {v:k for k,v in enumerate(books['book_author'].unique())}\n",
    "year2idx = {v:k for k,v in enumerate(books['year_of_publication'].unique())}\n",
    "publisher2idx = {v:k for k,v in enumerate(books['publisher'].unique())}\n",
    "lang2idx = {v:k for k,v in enumerate(books['language'].unique())}\n",
    "cat2idx = {v:k for k,v in enumerate(books['category'].unique())}\n",
    "\n",
    "df = books[books.category.notnull()]\n",
    "df['isbn'] = df['isbn'].map(isbn2idx)\n",
    "df['book_author'] = df['book_author'].map(author2idx)\n",
    "df['year_of_publication'] = df['year_of_publication'].map(year2idx)\n",
    "df['publisher'] = df['publisher'].map(publisher2idx)\n",
    "df['language'] = df['language'].map(lang2idx)\n",
    "df['category'] = df['category'].map(cat2idx)\n",
    "\n",
    "X = df[['isbn','book_author','year_of_publication','publisher','language','category']][df.category.notnull()].values\n",
    "my_modes = KModes(n_clusters=5).fit(X)\n",
    "\n",
    "res = my_modes.predict(X)\n",
    "\n",
    "\n",
    "idx = books[books.category.notnull()].index\n",
    "tmp = pd.DataFrame(res, index = idx, columns = ['group'])\n",
    "\n",
    "books['group'] = tmp\n",
    "\n",
    "# books.to_csv('../data/preprocessed/books_lang_cluster.csv', index = False)"
   ]
  }
 ],
 "metadata": {
  "kernelspec": {
   "display_name": "Python 3.8.5 ('base')",
   "language": "python",
   "name": "python3"
  },
  "language_info": {
   "codemirror_mode": {
    "name": "ipython",
    "version": 3
   },
   "file_extension": ".py",
   "mimetype": "text/x-python",
   "name": "python",
   "nbconvert_exporter": "python",
   "pygments_lexer": "ipython3",
   "version": "3.8.5"
  },
  "orig_nbformat": 4,
  "vscode": {
   "interpreter": {
    "hash": "d4d1e4263499bec80672ea0156c357c1ee493ec2b1c70f0acce89fc37c4a6abe"
   }
  }
 },
 "nbformat": 4,
 "nbformat_minor": 2
}
